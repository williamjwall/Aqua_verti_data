{
 "cells": [
  {
   "cell_type": "code",
   "execution_count": 1,
   "id": "88c0f4c1",
   "metadata": {},
   "outputs": [
    {
     "name": "stderr",
     "output_type": "stream",
     "text": [
      "/home/williamjwall/.pyenv/versions/3.10.6/envs/aquaverti/lib/python3.10/site-packages/tpot/builtins/__init__.py:36: UserWarning: Warning: optional dependency `torch` is not available. - skipping import of NN models.\n",
      "  warnings.warn(\"Warning: optional dependency `torch` is not available. - skipping import of NN models.\")\n"
     ]
    }
   ],
   "source": [
    "import pandas as pd\n",
    "import numpy as np\n",
    "import seaborn as sns\n",
    "import matplotlib.pyplot as plt\n",
    "from sklearn.preprocessing import StandardScaler, MinMaxScaler, RobustScaler, OneHotEncoder\n",
    "from sklearn.impute import SimpleImputer\n",
    "from sklearn.model_selection import train_test_split\n",
    "from sklearn.pipeline import make_pipeline\n",
    "from sklearn.compose import make_column_selector, make_column_transformer\n",
    "from sklearn.linear_model import LinearRegression\n",
    "from sklearn.model_selection import learning_curve\n",
    "from sklearn.model_selection import cross_val_score\n",
    "from sklearn.metrics import r2_score,mean_absolute_error,mean_squared_error\n",
    "from tpot import TPOTRegressor\n",
    "import warnings"
   ]
  },
  {
   "cell_type": "code",
   "execution_count": 2,
   "id": "73080635",
   "metadata": {},
   "outputs": [],
   "source": [
    "df_air = pd.read_csv('../../raw_data/Gida Will --_ Water & Air Data  - Air Data.csv')"
   ]
  },
  {
   "cell_type": "code",
   "execution_count": 3,
   "id": "d207557d",
   "metadata": {},
   "outputs": [],
   "source": [
    "# df_air['Température 1 (◦C)'].value_counts()"
   ]
  },
  {
   "cell_type": "code",
   "execution_count": 4,
   "id": "2f84b9a3",
   "metadata": {
    "scrolled": true
   },
   "outputs": [],
   "source": [
    "# df_air.columns"
   ]
  },
  {
   "cell_type": "code",
   "execution_count": 5,
   "id": "ee4f595e",
   "metadata": {},
   "outputs": [],
   "source": [
    "df_g1 = pd.read_csv('../../raw_data/Gida Will --_ Water & Air Data  - Groupe 1 (Twr 1,2,3,4).csv', low_memory=False)\n",
    "df_g1.columns = df_g1.iloc[0] \n",
    "df_g1 = df_g1[1:]"
   ]
  },
  {
   "cell_type": "code",
   "execution_count": 6,
   "id": "9a5e07f7",
   "metadata": {},
   "outputs": [
    {
     "name": "stdout",
     "output_type": "stream",
     "text": [
      "Index([                  'Date',       'nutriments (S21)',\n",
      "                     'Avg. E.C',       'Water Temp (S22)',\n",
      "               'Avg. TEMP (°F)',               'pH (S23)',\n",
      "                      'Avg. pH', 'twr  level (in \" S31) ',\n",
      "         'Avg. Tower Level (\")',           'Dissolved O2',\n",
      "                'Avg. DO (ppm)',        'Flowswitch (D1)',\n",
      "              'tower valv (R1)',        'tower pump (R2)',\n",
      "              'Lvl ntrlck (R3)',        'PRGHGHCOND (R4)',\n",
      "                   'Alarm (R5)',            'Manual (R6)',\n",
      "                  'Manual (R7)',            'Manual (R8)',\n",
      "               'PSC pump (A41)',           'nutA&B (A42)',\n",
      "               'pH- Pump (A43)',         'pH+ Pump (A44)',\n",
      "                            nan,                      nan,\n",
      "                            nan,                      nan,\n",
      "                            nan,                      nan,\n",
      "                            nan,                      nan],\n",
      "      dtype='object', name=0)\n",
      "\n",
      " length: 32\n",
      "29608\n"
     ]
    }
   ],
   "source": [
    "print(df_g1.columns)\n",
    "print(f'\\n length: {len(df_g1.columns)}')\n",
    "print(len(df_g1))"
   ]
  },
  {
   "cell_type": "code",
   "execution_count": 7,
   "id": "d829514a",
   "metadata": {},
   "outputs": [],
   "source": [
    "df_g2 = pd.read_csv('../../raw_data/Gida Will --_ Water & Air Data  - Groupe 2 (Twr 5,6,7,8).csv', low_memory=False)\n",
    "df_g2.columns = df_g2.iloc[0] \n",
    "df_g2 = df_g2[1:]"
   ]
  },
  {
   "cell_type": "code",
   "execution_count": 8,
   "id": "e9b77ccc",
   "metadata": {
    "scrolled": true
   },
   "outputs": [],
   "source": [
    "# print(df_g2.columns)\n",
    "# print(f'\\n length: {len(df_g2.columns)}')\n",
    "# print(len(df_g2))"
   ]
  },
  {
   "cell_type": "code",
   "execution_count": 9,
   "id": "ac2746ae",
   "metadata": {},
   "outputs": [],
   "source": [
    "# df_g2['Lvl ntrlck (R3)'].value_counts()"
   ]
  },
  {
   "cell_type": "code",
   "execution_count": 10,
   "id": "1218c9ed",
   "metadata": {},
   "outputs": [],
   "source": [
    "df_g56 = pd.read_csv('../../raw_data/Gida Will --_ Water & Air Data  - Group 5 & 6 (Twr 17 to 24).csv', low_memory=False)\n",
    "df_g56.columns = df_g56.iloc[0] \n",
    "df_g56 = df_g56[1:]"
   ]
  },
  {
   "cell_type": "code",
   "execution_count": 11,
   "id": "16777f82",
   "metadata": {
    "scrolled": true
   },
   "outputs": [],
   "source": [
    "# print(df_g56.columns)\n",
    "# print(f'\\n length: {len(df_g56.columns)}')\n",
    "# print(len(df_g56))"
   ]
  },
  {
   "cell_type": "code",
   "execution_count": 12,
   "id": "85c89249",
   "metadata": {},
   "outputs": [
    {
     "name": "stdout",
     "output_type": "stream",
     "text": [
      "/home/williamjwall/code/gidahusa/Aquaverti-Data-Analysis/notebooks\r\n"
     ]
    }
   ],
   "source": [
    "!pwd"
   ]
  },
  {
   "cell_type": "code",
   "execution_count": 13,
   "id": "5867e3b6",
   "metadata": {},
   "outputs": [],
   "source": [
    "# import pandas as pd\n",
    "# import glob\n",
    "# import os\n",
    "\n",
    "# path = r'../../raw_data'\n",
    "# all_files = glob.glob(os.path.join(path , \"*.csv\"))\n",
    "\n",
    "# lista = []\n",
    "\n",
    "# for filename in all_files:\n",
    "#     df = pd.read_csv(filename, index_col=None, header=0, low_memory=False)\n",
    "#     lista.append(df)\n",
    "\n",
    "# frame = pd.concat(lista, axis=0, ignore_index=True)"
   ]
  },
  {
   "cell_type": "code",
   "execution_count": 14,
   "id": "cfe0a781",
   "metadata": {},
   "outputs": [],
   "source": [
    "# frame.shape"
   ]
  },
  {
   "cell_type": "code",
   "execution_count": 15,
   "id": "4303e07a",
   "metadata": {},
   "outputs": [],
   "source": [
    "harvest_df = pd.read_csv('../../raw_data/Copy of Copy of Trackers (2.0) - Harvest.csv')"
   ]
  },
  {
   "cell_type": "code",
   "execution_count": 16,
   "id": "5d42291e",
   "metadata": {},
   "outputs": [],
   "source": [
    "# plant_health_df['Tower:'].value_counts().sort_values(ascending=False)"
   ]
  },
  {
   "cell_type": "code",
   "execution_count": 17,
   "id": "6b0582c7",
   "metadata": {},
   "outputs": [],
   "source": [
    "grouping_towers_dicta = {\"group 1\": [\"Tower 1\", \"Tower 2\",\"Tower 3\", \"Tower 4\"],\n",
    "                         \"group 2\": [\"Tower 5\", \"Tower 6\",\"Tower 7\", \"Tower 8\"],\n",
    "                         \"group 5/6\": [\"Tower 14\", \"Tower 15\",\"Tower 16\", \"Tower 17\", \"Tower 18\", \"Tower 19\",\"Tower 20\", \"Tower 21\", \"Tower 22\", \"Tower 23\",\"Tower 24\"],\n",
    "                         \"group other\": [\"Tower 9\", \"Tower 10\",\"Tower 11\", \"Tower 12\", \"Tower 13\"]}"
   ]
  },
  {
   "cell_type": "code",
   "execution_count": 18,
   "id": "cd33fed5",
   "metadata": {
    "scrolled": true
   },
   "outputs": [],
   "source": [
    "harvest_df[\"Tower location:\"].replace(grouping_towers_dicta[\"group 1\"], \"group 1\", inplace=True)"
   ]
  },
  {
   "cell_type": "code",
   "execution_count": 19,
   "id": "8e641b41",
   "metadata": {},
   "outputs": [],
   "source": [
    "harvest_df[\"Tower location:\"].replace(grouping_towers_dicta[\"group 2\"], \"group 2\", inplace=True)"
   ]
  },
  {
   "cell_type": "code",
   "execution_count": 20,
   "id": "7b0a37f8",
   "metadata": {},
   "outputs": [],
   "source": [
    "harvest_df[\"Tower location:\"].replace(grouping_towers_dicta[\"group 5/6\"], \"group 5/6\", inplace=True)"
   ]
  },
  {
   "cell_type": "code",
   "execution_count": 21,
   "id": "25339930",
   "metadata": {},
   "outputs": [],
   "source": [
    "harvest_df[\"Tower location:\"].replace(grouping_towers_dicta[\"group other\"], \"group other\", inplace=True)"
   ]
  },
  {
   "cell_type": "code",
   "execution_count": 22,
   "id": "f6ad376b",
   "metadata": {
    "scrolled": true
   },
   "outputs": [
    {
     "data": {
      "text/plain": [
       "group 1         2010\n",
       "group 2         1945\n",
       "group 5/6        539\n",
       "group other       78\n",
       "                   1\n",
       "Name: Tower location:, dtype: int64"
      ]
     },
     "execution_count": 22,
     "metadata": {},
     "output_type": "execute_result"
    }
   ],
   "source": [
    "harvest_df['Tower location:'].value_counts().sort_values(ascending=False)"
   ]
  },
  {
   "cell_type": "code",
   "execution_count": 23,
   "id": "a791f0e9",
   "metadata": {},
   "outputs": [],
   "source": [
    "group_1_harvest = harvest_df.groupby(\"Tower location:\").get_group('group 1')[['Harvest date:','Transplant date:','Level location:', 'Total floats harvested:', \"Product:\", 'Total weight for floats: (grams)', 'Avg weight per plant:']]"
   ]
  },
  {
   "cell_type": "code",
   "execution_count": 24,
   "id": "5fae9b2a",
   "metadata": {},
   "outputs": [
    {
     "data": {
      "text/html": [
       "<div>\n",
       "<style scoped>\n",
       "    .dataframe tbody tr th:only-of-type {\n",
       "        vertical-align: middle;\n",
       "    }\n",
       "\n",
       "    .dataframe tbody tr th {\n",
       "        vertical-align: top;\n",
       "    }\n",
       "\n",
       "    .dataframe thead th {\n",
       "        text-align: right;\n",
       "    }\n",
       "</style>\n",
       "<table border=\"1\" class=\"dataframe\">\n",
       "  <thead>\n",
       "    <tr style=\"text-align: right;\">\n",
       "      <th></th>\n",
       "      <th>Harvest date:</th>\n",
       "      <th>Transplant date:</th>\n",
       "      <th>Level location:</th>\n",
       "      <th>Total floats harvested:</th>\n",
       "      <th>Product:</th>\n",
       "      <th>Total weight for floats: (grams)</th>\n",
       "      <th>Avg weight per plant:</th>\n",
       "    </tr>\n",
       "  </thead>\n",
       "  <tbody>\n",
       "    <tr>\n",
       "      <th>29</th>\n",
       "      <td>11/30/2020</td>\n",
       "      <td>11/16/2020</td>\n",
       "      <td>Level 4</td>\n",
       "      <td>9</td>\n",
       "      <td>Romaine (Dragoon)</td>\n",
       "      <td>9334.0</td>\n",
       "      <td>14.40</td>\n",
       "    </tr>\n",
       "    <tr>\n",
       "      <th>32</th>\n",
       "      <td>12/1/2020</td>\n",
       "      <td>11/20/2020</td>\n",
       "      <td>Level 5</td>\n",
       "      <td>10</td>\n",
       "      <td>Romaine (Truchas)</td>\n",
       "      <td>5585.0</td>\n",
       "      <td>7.76</td>\n",
       "    </tr>\n",
       "  </tbody>\n",
       "</table>\n",
       "</div>"
      ],
      "text/plain": [
       "   Harvest date: Transplant date: Level location:  Total floats harvested:  \\\n",
       "29    11/30/2020       11/16/2020         Level 4                        9   \n",
       "32     12/1/2020       11/20/2020         Level 5                       10   \n",
       "\n",
       "             Product:  Total weight for floats: (grams)  Avg weight per plant:  \n",
       "29  Romaine (Dragoon)                            9334.0                  14.40  \n",
       "32  Romaine (Truchas)                            5585.0                   7.76  "
      ]
     },
     "execution_count": 24,
     "metadata": {},
     "output_type": "execute_result"
    }
   ],
   "source": [
    "group_1_harvest.head(2)"
   ]
  },
  {
   "cell_type": "code",
   "execution_count": 25,
   "id": "cc8ad398",
   "metadata": {},
   "outputs": [
    {
     "data": {
      "text/plain": [
       "Lettuce (Muir)            855\n",
       "Kale (Starbor)            501\n",
       "Romaine (Monte Carlo)     317\n",
       "Romaine (Dragoon)         209\n",
       "Arugula (Standard)         58\n",
       "Lettuce (Butterhead)       29\n",
       "Romaine (Truchas)          15\n",
       "Lettuce (Rouxai)           13\n",
       "Lettuce (Biondi)            4\n",
       "Arugula (Astro)             3\n",
       "Arugula (Sylvetta)          1\n",
       "Sorrel                      1\n",
       "Kale (Baby Kale)            1\n",
       "Romaine (Green Forest)      1\n",
       "Spinach (Perpetual)         1\n",
       "Lettuce (Tennis ball)       1\n",
       "Name: Product:, dtype: int64"
      ]
     },
     "execution_count": 25,
     "metadata": {},
     "output_type": "execute_result"
    }
   ],
   "source": [
    "group_1_harvest[\"Product:\"].value_counts()"
   ]
  },
  {
   "cell_type": "code",
   "execution_count": 26,
   "id": "47fcd0e8",
   "metadata": {},
   "outputs": [],
   "source": [
    "df_g1['Date'] = pd.to_datetime(df_g1['Date'])"
   ]
  },
  {
   "cell_type": "code",
   "execution_count": 27,
   "id": "f44a7290",
   "metadata": {},
   "outputs": [],
   "source": [
    "df_g1.drop(['pH- Pump (A43)', 'pH+ Pump (A44)'], axis=1, inplace=True)"
   ]
  },
  {
   "cell_type": "code",
   "execution_count": 28,
   "id": "735e03aa",
   "metadata": {},
   "outputs": [],
   "source": [
    "group_1_harvest['Harvest date:'] = pd.to_datetime(group_1_harvest['Harvest date:'])"
   ]
  },
  {
   "cell_type": "code",
   "execution_count": 29,
   "id": "d80c08f5",
   "metadata": {},
   "outputs": [],
   "source": [
    "group_1_harvest['Transplant date:'] = pd.to_datetime(group_1_harvest['Transplant date:'])"
   ]
  },
  {
   "cell_type": "code",
   "execution_count": 30,
   "id": "1ff5e6c8",
   "metadata": {},
   "outputs": [],
   "source": [
    "group_1_harvest_lettuceM = group_1_harvest.groupby(\"Product:\").get_group(\"Lettuce (Muir)\")"
   ]
  },
  {
   "cell_type": "code",
   "execution_count": 31,
   "id": "145d87d1",
   "metadata": {},
   "outputs": [],
   "source": [
    "def average_of_cycle(dfy, dfX):\n",
    "    lista = []\n",
    "    lista2 = []\n",
    "    for a, b in dfy[['Harvest date:', 'Transplant date:']].itertuples(index=False):\n",
    "        lista.append(dfX[(dfX['Date'] < a) & (dfX['Date'] > b)])\n",
    "    for i in lista:\n",
    "        if len(i) != 0:\n",
    "            i = i.dropna(axis=1)\n",
    "            i = i.set_index(i['Date'])\n",
    "            i_date = pd.to_datetime(i['Date'].iloc[-1].strftime(\"%Y-%m-%d\"))\n",
    "            i = i[i.columns[1:]].apply(lambda x: pd.to_numeric(x, errors='coerce'))\n",
    "            df_mean = pd.DataFrame(i.select_dtypes(include=['float64','int64']).dropna(how='all', axis=1).mean()[:-10]).T\n",
    "            df_mean.at[0, \"index\"] = i_date\n",
    "            lista2.append(df_mean.set_index(\"index\"))\n",
    "        else:\n",
    "            pass\n",
    "    return lista2"
   ]
  },
  {
   "cell_type": "code",
   "execution_count": 32,
   "id": "dfcc167a",
   "metadata": {},
   "outputs": [],
   "source": [
    "len(avg_lista[500].iloc[0])avg_lista = average_of_cycle(group_1_harvest_lettuceM, df_g1)"
   ]
  },
  {
   "cell_type": "code",
   "execution_count": 33,
   "id": "24172b75",
   "metadata": {
    "scrolled": true
   },
   "outputs": [
    {
     "data": {
      "text/plain": [
       "817"
      ]
     },
     "execution_count": 33,
     "metadata": {},
     "output_type": "execute_result"
    }
   ],
   "source": [
    "len(avg_lista)"
   ]
  },
  {
   "cell_type": "code",
   "execution_count": 34,
   "id": "73b3b631",
   "metadata": {},
   "outputs": [],
   "source": [
    "# len(avg_lista[500].iloc[0])"
   ]
  },
  {
   "cell_type": "code",
   "execution_count": 35,
   "id": "7a1bcf7e",
   "metadata": {
    "scrolled": true
   },
   "outputs": [],
   "source": [
    "# bool(len(avg_lista[800].iloc[0]))"
   ]
  },
  {
   "cell_type": "code",
   "execution_count": 36,
   "id": "41211ba7",
   "metadata": {},
   "outputs": [],
   "source": [
    "# avg_lista[800].at[0, \"index\"] = 22"
   ]
  },
  {
   "cell_type": "code",
   "execution_count": 37,
   "id": "5d9b5564",
   "metadata": {
    "scrolled": false
   },
   "outputs": [],
   "source": [
    "# avg_lista[800].set_index(\"index\")"
   ]
  },
  {
   "cell_type": "code",
   "execution_count": 38,
   "id": "fb53687e",
   "metadata": {},
   "outputs": [],
   "source": [
    "avg_lista_cleaned = []\n",
    "count = -1\n",
    "for i in avg_lista:\n",
    "    count += 1\n",
    "    if len(avg_lista[count].iloc[0]) == 5:\n",
    "        avg_lista_cleaned.append(i)\n",
    "    else:\n",
    "        pass"
   ]
  },
  {
   "cell_type": "code",
   "execution_count": 39,
   "id": "0796667a",
   "metadata": {},
   "outputs": [
    {
     "data": {
      "text/plain": [
       "324"
      ]
     },
     "execution_count": 39,
     "metadata": {},
     "output_type": "execute_result"
    }
   ],
   "source": [
    "len(avg_lista_cleaned)"
   ]
  },
  {
   "cell_type": "code",
   "execution_count": 40,
   "id": "a0346884",
   "metadata": {
    "scrolled": true
   },
   "outputs": [],
   "source": [
    "concat1_grp_1 = pd.concat(avg_lista_cleaned, join='outer')"
   ]
  },
  {
   "cell_type": "code",
   "execution_count": 41,
   "id": "4fe61ef3",
   "metadata": {
    "scrolled": true
   },
   "outputs": [],
   "source": [
    "concat1_grp_1.reset_index(inplace=True)\n",
    "concat1_grp_1.rename(columns = {'index':'Harvest date:'}, inplace=True)"
   ]
  },
  {
   "cell_type": "code",
   "execution_count": 42,
   "id": "5cfb60bc",
   "metadata": {
    "scrolled": true
   },
   "outputs": [
    {
     "data": {
      "text/html": [
       "<div>\n",
       "<style scoped>\n",
       "    .dataframe tbody tr th:only-of-type {\n",
       "        vertical-align: middle;\n",
       "    }\n",
       "\n",
       "    .dataframe tbody tr th {\n",
       "        vertical-align: top;\n",
       "    }\n",
       "\n",
       "    .dataframe thead th {\n",
       "        text-align: right;\n",
       "    }\n",
       "</style>\n",
       "<table border=\"1\" class=\"dataframe\">\n",
       "  <thead>\n",
       "    <tr style=\"text-align: right;\">\n",
       "      <th></th>\n",
       "      <th>Harvest date:</th>\n",
       "      <th>nutriments (S21)</th>\n",
       "      <th>Water Temp (S22)</th>\n",
       "      <th>pH (S23)</th>\n",
       "      <th>twr  level (in \" S31)</th>\n",
       "      <th>Dissolved O2</th>\n",
       "    </tr>\n",
       "  </thead>\n",
       "  <tbody>\n",
       "    <tr>\n",
       "      <th>0</th>\n",
       "      <td>2021-09-08</td>\n",
       "      <td>1.749672</td>\n",
       "      <td>67.853625</td>\n",
       "      <td>5.806048</td>\n",
       "      <td>14.214399</td>\n",
       "      <td>5.366157</td>\n",
       "    </tr>\n",
       "  </tbody>\n",
       "</table>\n",
       "</div>"
      ],
      "text/plain": [
       "0 Harvest date:  nutriments (S21)  Water Temp (S22)  pH (S23)  \\\n",
       "0    2021-09-08          1.749672         67.853625  5.806048   \n",
       "\n",
       "0  twr  level (in \" S31)   Dissolved O2  \n",
       "0               14.214399      5.366157  "
      ]
     },
     "execution_count": 42,
     "metadata": {},
     "output_type": "execute_result"
    }
   ],
   "source": [
    "concat1_grp_1.head(1)"
   ]
  },
  {
   "cell_type": "code",
   "execution_count": 43,
   "id": "1ffb7f9b",
   "metadata": {
    "scrolled": true
   },
   "outputs": [
    {
     "data": {
      "text/html": [
       "<div>\n",
       "<style scoped>\n",
       "    .dataframe tbody tr th:only-of-type {\n",
       "        vertical-align: middle;\n",
       "    }\n",
       "\n",
       "    .dataframe tbody tr th {\n",
       "        vertical-align: top;\n",
       "    }\n",
       "\n",
       "    .dataframe thead th {\n",
       "        text-align: right;\n",
       "    }\n",
       "</style>\n",
       "<table border=\"1\" class=\"dataframe\">\n",
       "  <thead>\n",
       "    <tr style=\"text-align: right;\">\n",
       "      <th></th>\n",
       "      <th>Harvest date:</th>\n",
       "      <th>Transplant date:</th>\n",
       "      <th>Level location:</th>\n",
       "      <th>Total floats harvested:</th>\n",
       "      <th>Product:</th>\n",
       "      <th>Total weight for floats: (grams)</th>\n",
       "      <th>Avg weight per plant:</th>\n",
       "    </tr>\n",
       "  </thead>\n",
       "  <tbody>\n",
       "    <tr>\n",
       "      <th>49</th>\n",
       "      <td>2020-12-04</td>\n",
       "      <td>2020-11-19</td>\n",
       "      <td>Level 2</td>\n",
       "      <td>5</td>\n",
       "      <td>Lettuce (Muir)</td>\n",
       "      <td>10190.0</td>\n",
       "      <td>28.38</td>\n",
       "    </tr>\n",
       "  </tbody>\n",
       "</table>\n",
       "</div>"
      ],
      "text/plain": [
       "   Harvest date: Transplant date: Level location:  Total floats harvested:  \\\n",
       "49    2020-12-04       2020-11-19         Level 2                        5   \n",
       "\n",
       "          Product:  Total weight for floats: (grams)  Avg weight per plant:  \n",
       "49  Lettuce (Muir)                           10190.0                  28.38  "
      ]
     },
     "execution_count": 43,
     "metadata": {},
     "output_type": "execute_result"
    }
   ],
   "source": [
    "group_1_harvest_lettuceM.head(1)"
   ]
  },
  {
   "cell_type": "code",
   "execution_count": 44,
   "id": "78cdfcf8",
   "metadata": {
    "scrolled": true
   },
   "outputs": [],
   "source": [
    "dfXy_g1 = pd.merge(concat1_grp_1, group_1_harvest, how=\"inner\", on=[\"Harvest date:\"])"
   ]
  },
  {
   "cell_type": "code",
   "execution_count": 69,
   "id": "35bb98c0",
   "metadata": {},
   "outputs": [],
   "source": [
    "g1_corr = dfXy_g1.drop(['Harvest date:', 'Transplant date:', 'Total floats harvested:','Total weight for floats: (grams)'], axis=1)"
   ]
  },
  {
   "cell_type": "code",
   "execution_count": 70,
   "id": "2f406469",
   "metadata": {},
   "outputs": [
    {
     "name": "stderr",
     "output_type": "stream",
     "text": [
      "/tmp/ipykernel_21811/3563354070.py:1: FutureWarning: The default value of numeric_only in DataFrame.corr is deprecated. In a future version, it will default to False. Select only valid columns or specify the value of numeric_only to silence this warning.\n",
      "  abs_corrsort = abs(g1_corr.corr()['Avg weight per plant:']).sort_values(ascending=False)[1:]\n"
     ]
    }
   ],
   "source": [
    "abs_corrsort = abs(g1_corr.corr()['Avg weight per plant:']).sort_values(ascending=False)[1:]"
   ]
  },
  {
   "cell_type": "code",
   "execution_count": 71,
   "id": "b8917347",
   "metadata": {},
   "outputs": [
    {
     "data": {
      "image/png": "[encoded data removed]",
      "text/plain": [
       "<Figure size 640x480 with 1 Axes>"
      ]
     },
     "metadata": {},
     "output_type": "display_data"
    }
   ],
   "source": [
    "sns.barplot(x=abs_corrsort.values, \n",
    "            y=abs_corrsort.index, color='b').set(title='Absolute with weight');"
   ]
  },
  {
   "cell_type": "code",
   "execution_count": 59,
   "id": "c0d0d265",
   "metadata": {},
   "outputs": [
    {
     "data": {
      "text/html": [
       "<div>\n",
       "<style scoped>\n",
       "    .dataframe tbody tr th:only-of-type {\n",
       "        vertical-align: middle;\n",
       "    }\n",
       "\n",
       "    .dataframe tbody tr th {\n",
       "        vertical-align: top;\n",
       "    }\n",
       "\n",
       "    .dataframe thead th {\n",
       "        text-align: right;\n",
       "    }\n",
       "</style>\n",
       "<table border=\"1\" class=\"dataframe\">\n",
       "  <thead>\n",
       "    <tr style=\"text-align: right;\">\n",
       "      <th></th>\n",
       "      <th>Harvest date:</th>\n",
       "      <th>nutriments (S21)</th>\n",
       "      <th>Water Temp (S22)</th>\n",
       "      <th>pH (S23)</th>\n",
       "      <th>twr  level (in \" S31)</th>\n",
       "      <th>Dissolved O2</th>\n",
       "      <th>Transplant date:</th>\n",
       "      <th>Level location:</th>\n",
       "      <th>Total floats harvested:</th>\n",
       "      <th>Product:</th>\n",
       "      <th>Total weight for floats: (grams)</th>\n",
       "      <th>Avg weight per plant:</th>\n",
       "    </tr>\n",
       "  </thead>\n",
       "  <tbody>\n",
       "    <tr>\n",
       "      <th>0</th>\n",
       "      <td>2021-09-08</td>\n",
       "      <td>1.749672</td>\n",
       "      <td>67.853625</td>\n",
       "      <td>5.806048</td>\n",
       "      <td>14.214399</td>\n",
       "      <td>5.366157</td>\n",
       "      <td>2021-08-18</td>\n",
       "      <td>Level 5</td>\n",
       "      <td>10</td>\n",
       "      <td>Romaine (Dragoon)</td>\n",
       "      <td>6559.0</td>\n",
       "      <td>9.55</td>\n",
       "    </tr>\n",
       "    <tr>\n",
       "      <th>1</th>\n",
       "      <td>2021-09-08</td>\n",
       "      <td>1.749672</td>\n",
       "      <td>67.853625</td>\n",
       "      <td>5.806048</td>\n",
       "      <td>14.214399</td>\n",
       "      <td>5.366157</td>\n",
       "      <td>2021-08-18</td>\n",
       "      <td>Level 5</td>\n",
       "      <td>10</td>\n",
       "      <td>Romaine (Dragoon)</td>\n",
       "      <td>6559.0</td>\n",
       "      <td>9.55</td>\n",
       "    </tr>\n",
       "    <tr>\n",
       "      <th>2</th>\n",
       "      <td>2021-09-09</td>\n",
       "      <td>1.750407</td>\n",
       "      <td>67.891956</td>\n",
       "      <td>5.796365</td>\n",
       "      <td>14.213078</td>\n",
       "      <td>5.333069</td>\n",
       "      <td>2021-08-19</td>\n",
       "      <td>Level 3</td>\n",
       "      <td>10</td>\n",
       "      <td>Lettuce (Muir)</td>\n",
       "      <td>19596.0</td>\n",
       "      <td>27.22</td>\n",
       "    </tr>\n",
       "    <tr>\n",
       "      <th>3</th>\n",
       "      <td>2021-09-09</td>\n",
       "      <td>1.750407</td>\n",
       "      <td>67.891956</td>\n",
       "      <td>5.796365</td>\n",
       "      <td>14.213078</td>\n",
       "      <td>5.333069</td>\n",
       "      <td>2021-08-19</td>\n",
       "      <td>Level 1</td>\n",
       "      <td>32</td>\n",
       "      <td>Lettuce (Muir)</td>\n",
       "      <td>57420.0</td>\n",
       "      <td>25.51</td>\n",
       "    </tr>\n",
       "    <tr>\n",
       "      <th>4</th>\n",
       "      <td>2021-09-09</td>\n",
       "      <td>1.750407</td>\n",
       "      <td>67.891956</td>\n",
       "      <td>5.796365</td>\n",
       "      <td>14.213078</td>\n",
       "      <td>5.333069</td>\n",
       "      <td>2021-08-19</td>\n",
       "      <td>Level 6</td>\n",
       "      <td>1</td>\n",
       "      <td>Kale (Starbor)</td>\n",
       "      <td>865.0</td>\n",
       "      <td>12.01</td>\n",
       "    </tr>\n",
       "    <tr>\n",
       "      <th>...</th>\n",
       "      <td>...</td>\n",
       "      <td>...</td>\n",
       "      <td>...</td>\n",
       "      <td>...</td>\n",
       "      <td>...</td>\n",
       "      <td>...</td>\n",
       "      <td>...</td>\n",
       "      <td>...</td>\n",
       "      <td>...</td>\n",
       "      <td>...</td>\n",
       "      <td>...</td>\n",
       "      <td>...</td>\n",
       "    </tr>\n",
       "    <tr>\n",
       "      <th>1448</th>\n",
       "      <td>2022-04-13</td>\n",
       "      <td>1.681658</td>\n",
       "      <td>67.667229</td>\n",
       "      <td>5.792741</td>\n",
       "      <td>14.044121</td>\n",
       "      <td>3.534568</td>\n",
       "      <td>2022-03-23</td>\n",
       "      <td>Level 7</td>\n",
       "      <td>11</td>\n",
       "      <td>Lettuce (Muir)</td>\n",
       "      <td>20906.0</td>\n",
       "      <td>26.40</td>\n",
       "    </tr>\n",
       "    <tr>\n",
       "      <th>1449</th>\n",
       "      <td>2022-04-13</td>\n",
       "      <td>1.681658</td>\n",
       "      <td>67.667229</td>\n",
       "      <td>5.792741</td>\n",
       "      <td>14.044121</td>\n",
       "      <td>3.534568</td>\n",
       "      <td>2022-03-23</td>\n",
       "      <td>Level 4</td>\n",
       "      <td>8</td>\n",
       "      <td>Kale (Starbor)</td>\n",
       "      <td>5754.0</td>\n",
       "      <td>9.99</td>\n",
       "    </tr>\n",
       "    <tr>\n",
       "      <th>1450</th>\n",
       "      <td>2022-04-13</td>\n",
       "      <td>1.681658</td>\n",
       "      <td>67.667229</td>\n",
       "      <td>5.792741</td>\n",
       "      <td>14.044121</td>\n",
       "      <td>3.534568</td>\n",
       "      <td>2022-03-23</td>\n",
       "      <td>Level 7</td>\n",
       "      <td>6</td>\n",
       "      <td>Kale (Starbor)</td>\n",
       "      <td>4063.0</td>\n",
       "      <td>9.41</td>\n",
       "    </tr>\n",
       "    <tr>\n",
       "      <th>1451</th>\n",
       "      <td>2022-04-13</td>\n",
       "      <td>1.681658</td>\n",
       "      <td>67.667229</td>\n",
       "      <td>5.792741</td>\n",
       "      <td>14.044121</td>\n",
       "      <td>3.534568</td>\n",
       "      <td>2022-03-23</td>\n",
       "      <td>Level 3</td>\n",
       "      <td>12</td>\n",
       "      <td>Kale (Starbor)</td>\n",
       "      <td>9642.0</td>\n",
       "      <td>11.17</td>\n",
       "    </tr>\n",
       "    <tr>\n",
       "      <th>1452</th>\n",
       "      <td>2022-04-13</td>\n",
       "      <td>1.681658</td>\n",
       "      <td>67.667229</td>\n",
       "      <td>5.792741</td>\n",
       "      <td>14.044121</td>\n",
       "      <td>3.534568</td>\n",
       "      <td>2022-03-23</td>\n",
       "      <td>Level 3</td>\n",
       "      <td>13</td>\n",
       "      <td>Kale (Starbor)</td>\n",
       "      <td>13702.0</td>\n",
       "      <td>14.75</td>\n",
       "    </tr>\n",
       "  </tbody>\n",
       "</table>\n",
       "<p>1453 rows × 12 columns</p>\n",
       "</div>"
      ],
      "text/plain": [
       "     Harvest date:  nutriments (S21)  Water Temp (S22)  pH (S23)  \\\n",
       "0       2021-09-08          1.749672         67.853625  5.806048   \n",
       "1       2021-09-08          1.749672         67.853625  5.806048   \n",
       "2       2021-09-09          1.750407         67.891956  5.796365   \n",
       "3       2021-09-09          1.750407         67.891956  5.796365   \n",
       "4       2021-09-09          1.750407         67.891956  5.796365   \n",
       "...            ...               ...               ...       ...   \n",
       "1448    2022-04-13          1.681658         67.667229  5.792741   \n",
       "1449    2022-04-13          1.681658         67.667229  5.792741   \n",
       "1450    2022-04-13          1.681658         67.667229  5.792741   \n",
       "1451    2022-04-13          1.681658         67.667229  5.792741   \n",
       "1452    2022-04-13          1.681658         67.667229  5.792741   \n",
       "\n",
       "      twr  level (in \" S31)   Dissolved O2 Transplant date: Level location:  \\\n",
       "0                  14.214399      5.366157       2021-08-18         Level 5   \n",
       "1                  14.214399      5.366157       2021-08-18         Level 5   \n",
       "2                  14.213078      5.333069       2021-08-19         Level 3   \n",
       "3                  14.213078      5.333069       2021-08-19         Level 1   \n",
       "4                  14.213078      5.333069       2021-08-19         Level 6   \n",
       "...                      ...           ...              ...             ...   \n",
       "1448               14.044121      3.534568       2022-03-23         Level 7   \n",
       "1449               14.044121      3.534568       2022-03-23         Level 4   \n",
       "1450               14.044121      3.534568       2022-03-23         Level 7   \n",
       "1451               14.044121      3.534568       2022-03-23         Level 3   \n",
       "1452               14.044121      3.534568       2022-03-23         Level 3   \n",
       "\n",
       "      Total floats harvested:           Product:  \\\n",
       "0                          10  Romaine (Dragoon)   \n",
       "1                          10  Romaine (Dragoon)   \n",
       "2                          10     Lettuce (Muir)   \n",
       "3                          32     Lettuce (Muir)   \n",
       "4                           1     Kale (Starbor)   \n",
       "...                       ...                ...   \n",
       "1448                       11     Lettuce (Muir)   \n",
       "1449                        8     Kale (Starbor)   \n",
       "1450                        6     Kale (Starbor)   \n",
       "1451                       12     Kale (Starbor)   \n",
       "1452                       13     Kale (Starbor)   \n",
       "\n",
       "      Total weight for floats: (grams)  Avg weight per plant:  \n",
       "0                               6559.0                   9.55  \n",
       "1                               6559.0                   9.55  \n",
       "2                              19596.0                  27.22  \n",
       "3                              57420.0                  25.51  \n",
       "4                                865.0                  12.01  \n",
       "...                                ...                    ...  \n",
       "1448                           20906.0                  26.40  \n",
       "1449                            5754.0                   9.99  \n",
       "1450                            4063.0                   9.41  \n",
       "1451                            9642.0                  11.17  \n",
       "1452                           13702.0                  14.75  \n",
       "\n",
       "[1453 rows x 12 columns]"
      ]
     },
     "execution_count": 59,
     "metadata": {},
     "output_type": "execute_result"
    }
   ],
   "source": [
    "dfXy_g1"
   ]
  },
  {
   "cell_type": "code",
   "execution_count": 47,
   "id": "c357c5de",
   "metadata": {},
   "outputs": [],
   "source": [
    "X_g1 = dfXy_g1.drop(['Harvest date:', 'Transplant date:', 'Total floats harvested:','Total weight for floats: (grams)', 'Avg weight per plant:', \"Product:\"], axis=1)"
   ]
  },
  {
   "cell_type": "code",
   "execution_count": 48,
   "id": "2b370d1e",
   "metadata": {},
   "outputs": [
    {
     "data": {
      "text/html": [
       "<div>\n",
       "<style scoped>\n",
       "    .dataframe tbody tr th:only-of-type {\n",
       "        vertical-align: middle;\n",
       "    }\n",
       "\n",
       "    .dataframe tbody tr th {\n",
       "        vertical-align: top;\n",
       "    }\n",
       "\n",
       "    .dataframe thead th {\n",
       "        text-align: right;\n",
       "    }\n",
       "</style>\n",
       "<table border=\"1\" class=\"dataframe\">\n",
       "  <thead>\n",
       "    <tr style=\"text-align: right;\">\n",
       "      <th></th>\n",
       "      <th>nutriments (S21)</th>\n",
       "      <th>Water Temp (S22)</th>\n",
       "      <th>pH (S23)</th>\n",
       "      <th>twr  level (in \" S31)</th>\n",
       "      <th>Dissolved O2</th>\n",
       "      <th>Level location:</th>\n",
       "    </tr>\n",
       "  </thead>\n",
       "  <tbody>\n",
       "    <tr>\n",
       "      <th>0</th>\n",
       "      <td>1.749672</td>\n",
       "      <td>67.853625</td>\n",
       "      <td>5.806048</td>\n",
       "      <td>14.214399</td>\n",
       "      <td>5.366157</td>\n",
       "      <td>Level 5</td>\n",
       "    </tr>\n",
       "  </tbody>\n",
       "</table>\n",
       "</div>"
      ],
      "text/plain": [
       "   nutriments (S21)  Water Temp (S22)  pH (S23)  twr  level (in \" S31)   \\\n",
       "0          1.749672         67.853625  5.806048               14.214399   \n",
       "\n",
       "   Dissolved O2 Level location:  \n",
       "0      5.366157         Level 5  "
      ]
     },
     "execution_count": 48,
     "metadata": {},
     "output_type": "execute_result"
    }
   ],
   "source": [
    "X_g1.head(1)"
   ]
  },
  {
   "cell_type": "code",
   "execution_count": 49,
   "id": "60454d5f",
   "metadata": {},
   "outputs": [
    {
     "data": {
      "text/html": [
       "<div>\n",
       "<style scoped>\n",
       "    .dataframe tbody tr th:only-of-type {\n",
       "        vertical-align: middle;\n",
       "    }\n",
       "\n",
       "    .dataframe tbody tr th {\n",
       "        vertical-align: top;\n",
       "    }\n",
       "\n",
       "    .dataframe thead th {\n",
       "        text-align: right;\n",
       "    }\n",
       "</style>\n",
       "<table border=\"1\" class=\"dataframe\">\n",
       "  <thead>\n",
       "    <tr style=\"text-align: right;\">\n",
       "      <th></th>\n",
       "      <th>count</th>\n",
       "      <th>mean</th>\n",
       "      <th>std</th>\n",
       "      <th>min</th>\n",
       "      <th>25%</th>\n",
       "      <th>50%</th>\n",
       "      <th>75%</th>\n",
       "      <th>max</th>\n",
       "    </tr>\n",
       "  </thead>\n",
       "  <tbody>\n",
       "    <tr>\n",
       "      <th>nutriments (S21)</th>\n",
       "      <td>1453.0</td>\n",
       "      <td>1.762895</td>\n",
       "      <td>0.024006</td>\n",
       "      <td>1.670357</td>\n",
       "      <td>1.764717</td>\n",
       "      <td>1.768488</td>\n",
       "      <td>1.776594</td>\n",
       "      <td>1.782315</td>\n",
       "    </tr>\n",
       "    <tr>\n",
       "      <th>Water Temp (S22)</th>\n",
       "      <td>1453.0</td>\n",
       "      <td>67.919629</td>\n",
       "      <td>0.282393</td>\n",
       "      <td>67.549057</td>\n",
       "      <td>67.700649</td>\n",
       "      <td>67.880536</td>\n",
       "      <td>68.083925</td>\n",
       "      <td>68.608343</td>\n",
       "    </tr>\n",
       "    <tr>\n",
       "      <th>pH (S23)</th>\n",
       "      <td>1453.0</td>\n",
       "      <td>5.763140</td>\n",
       "      <td>0.108500</td>\n",
       "      <td>5.425905</td>\n",
       "      <td>5.787895</td>\n",
       "      <td>5.798772</td>\n",
       "      <td>5.810318</td>\n",
       "      <td>5.822409</td>\n",
       "    </tr>\n",
       "    <tr>\n",
       "      <th>twr  level (in \" S31)</th>\n",
       "      <td>1453.0</td>\n",
       "      <td>14.135865</td>\n",
       "      <td>0.111032</td>\n",
       "      <td>13.869802</td>\n",
       "      <td>14.138191</td>\n",
       "      <td>14.163014</td>\n",
       "      <td>14.188540</td>\n",
       "      <td>14.339970</td>\n",
       "    </tr>\n",
       "    <tr>\n",
       "      <th>Dissolved O2</th>\n",
       "      <td>1453.0</td>\n",
       "      <td>3.394046</td>\n",
       "      <td>0.841683</td>\n",
       "      <td>1.224324</td>\n",
       "      <td>2.955562</td>\n",
       "      <td>3.422649</td>\n",
       "      <td>3.855908</td>\n",
       "      <td>5.366157</td>\n",
       "    </tr>\n",
       "  </tbody>\n",
       "</table>\n",
       "</div>"
      ],
      "text/plain": [
       "                         count       mean       std        min        25%  \\\n",
       "nutriments (S21)        1453.0   1.762895  0.024006   1.670357   1.764717   \n",
       "Water Temp (S22)        1453.0  67.919629  0.282393  67.549057  67.700649   \n",
       "pH (S23)                1453.0   5.763140  0.108500   5.425905   5.787895   \n",
       "twr  level (in \" S31)   1453.0  14.135865  0.111032  13.869802  14.138191   \n",
       "Dissolved O2            1453.0   3.394046  0.841683   1.224324   2.955562   \n",
       "\n",
       "                              50%        75%        max  \n",
       "nutriments (S21)         1.768488   1.776594   1.782315  \n",
       "Water Temp (S22)        67.880536  68.083925  68.608343  \n",
       "pH (S23)                 5.798772   5.810318   5.822409  \n",
       "twr  level (in \" S31)   14.163014  14.188540  14.339970  \n",
       "Dissolved O2             3.422649   3.855908   5.366157  "
      ]
     },
     "execution_count": 49,
     "metadata": {},
     "output_type": "execute_result"
    }
   ],
   "source": [
    "X_g1.describe().T"
   ]
  },
  {
   "cell_type": "code",
   "execution_count": 50,
   "id": "0dedef36",
   "metadata": {},
   "outputs": [],
   "source": [
    "y_g1 = dfXy_g1[\"Avg weight per plant:\"]"
   ]
  },
  {
   "cell_type": "code",
   "execution_count": 51,
   "id": "db3d0b8d",
   "metadata": {},
   "outputs": [],
   "source": [
    "X_train, X_test, y_train, y_test = train_test_split(X_g1, y_g1, test_size = 0.2)"
   ]
  },
  {
   "cell_type": "code",
   "execution_count": 60,
   "id": "92d5b63b",
   "metadata": {},
   "outputs": [
    {
     "data": {
      "text/html": [
       "<div>\n",
       "<style scoped>\n",
       "    .dataframe tbody tr th:only-of-type {\n",
       "        vertical-align: middle;\n",
       "    }\n",
       "\n",
       "    .dataframe tbody tr th {\n",
       "        vertical-align: top;\n",
       "    }\n",
       "\n",
       "    .dataframe thead th {\n",
       "        text-align: right;\n",
       "    }\n",
       "</style>\n",
       "<table border=\"1\" class=\"dataframe\">\n",
       "  <thead>\n",
       "    <tr style=\"text-align: right;\">\n",
       "      <th></th>\n",
       "      <th>nutriments (S21)</th>\n",
       "      <th>Water Temp (S22)</th>\n",
       "      <th>pH (S23)</th>\n",
       "      <th>twr  level (in \" S31)</th>\n",
       "      <th>Dissolved O2</th>\n",
       "      <th>Level location:</th>\n",
       "    </tr>\n",
       "  </thead>\n",
       "  <tbody>\n",
       "    <tr>\n",
       "      <th>752</th>\n",
       "      <td>1.780067</td>\n",
       "      <td>67.705797</td>\n",
       "      <td>5.809989</td>\n",
       "      <td>14.166377</td>\n",
       "      <td>3.591349</td>\n",
       "      <td>Level 7</td>\n",
       "    </tr>\n",
       "    <tr>\n",
       "      <th>956</th>\n",
       "      <td>1.780323</td>\n",
       "      <td>67.882065</td>\n",
       "      <td>5.811700</td>\n",
       "      <td>14.139322</td>\n",
       "      <td>3.282117</td>\n",
       "      <td>Level 3</td>\n",
       "    </tr>\n",
       "    <tr>\n",
       "      <th>812</th>\n",
       "      <td>1.782315</td>\n",
       "      <td>67.758186</td>\n",
       "      <td>5.808457</td>\n",
       "      <td>14.167205</td>\n",
       "      <td>3.439135</td>\n",
       "      <td>Level 4</td>\n",
       "    </tr>\n",
       "    <tr>\n",
       "      <th>1174</th>\n",
       "      <td>1.764379</td>\n",
       "      <td>68.108441</td>\n",
       "      <td>5.820973</td>\n",
       "      <td>13.909901</td>\n",
       "      <td>2.544364</td>\n",
       "      <td>Level 7</td>\n",
       "    </tr>\n",
       "    <tr>\n",
       "      <th>1252</th>\n",
       "      <td>1.773625</td>\n",
       "      <td>67.599503</td>\n",
       "      <td>5.799305</td>\n",
       "      <td>14.232800</td>\n",
       "      <td>1.939086</td>\n",
       "      <td>Level 2</td>\n",
       "    </tr>\n",
       "    <tr>\n",
       "      <th>...</th>\n",
       "      <td>...</td>\n",
       "      <td>...</td>\n",
       "      <td>...</td>\n",
       "      <td>...</td>\n",
       "      <td>...</td>\n",
       "      <td>...</td>\n",
       "    </tr>\n",
       "    <tr>\n",
       "      <th>641</th>\n",
       "      <td>1.765710</td>\n",
       "      <td>67.576409</td>\n",
       "      <td>5.468643</td>\n",
       "      <td>14.157390</td>\n",
       "      <td>3.912871</td>\n",
       "      <td>Level 1</td>\n",
       "    </tr>\n",
       "    <tr>\n",
       "      <th>879</th>\n",
       "      <td>1.778446</td>\n",
       "      <td>67.838790</td>\n",
       "      <td>5.810282</td>\n",
       "      <td>14.139645</td>\n",
       "      <td>3.328123</td>\n",
       "      <td>Level 3</td>\n",
       "    </tr>\n",
       "    <tr>\n",
       "      <th>1430</th>\n",
       "      <td>1.678848</td>\n",
       "      <td>67.656802</td>\n",
       "      <td>5.796643</td>\n",
       "      <td>14.035194</td>\n",
       "      <td>3.475631</td>\n",
       "      <td>Level 4</td>\n",
       "    </tr>\n",
       "    <tr>\n",
       "      <th>1089</th>\n",
       "      <td>1.765223</td>\n",
       "      <td>68.092254</td>\n",
       "      <td>5.819891</td>\n",
       "      <td>13.912115</td>\n",
       "      <td>2.615781</td>\n",
       "      <td>Level 3</td>\n",
       "    </tr>\n",
       "    <tr>\n",
       "      <th>503</th>\n",
       "      <td>1.778330</td>\n",
       "      <td>68.112630</td>\n",
       "      <td>5.470010</td>\n",
       "      <td>14.167881</td>\n",
       "      <td>3.113299</td>\n",
       "      <td>Level 2</td>\n",
       "    </tr>\n",
       "  </tbody>\n",
       "</table>\n",
       "<p>1162 rows × 6 columns</p>\n",
       "</div>"
      ],
      "text/plain": [
       "      nutriments (S21)  Water Temp (S22)  pH (S23)  twr  level (in \" S31)   \\\n",
       "752           1.780067         67.705797  5.809989               14.166377   \n",
       "956           1.780323         67.882065  5.811700               14.139322   \n",
       "812           1.782315         67.758186  5.808457               14.167205   \n",
       "1174          1.764379         68.108441  5.820973               13.909901   \n",
       "1252          1.773625         67.599503  5.799305               14.232800   \n",
       "...                ...               ...       ...                     ...   \n",
       "641           1.765710         67.576409  5.468643               14.157390   \n",
       "879           1.778446         67.838790  5.810282               14.139645   \n",
       "1430          1.678848         67.656802  5.796643               14.035194   \n",
       "1089          1.765223         68.092254  5.819891               13.912115   \n",
       "503           1.778330         68.112630  5.470010               14.167881   \n",
       "\n",
       "      Dissolved O2 Level location:  \n",
       "752       3.591349         Level 7  \n",
       "956       3.282117         Level 3  \n",
       "812       3.439135         Level 4  \n",
       "1174      2.544364         Level 7  \n",
       "1252      1.939086         Level 2  \n",
       "...            ...             ...  \n",
       "641       3.912871         Level 1  \n",
       "879       3.328123         Level 3  \n",
       "1430      3.475631         Level 4  \n",
       "1089      2.615781         Level 3  \n",
       "503       3.113299         Level 2  \n",
       "\n",
       "[1162 rows x 6 columns]"
      ]
     },
     "execution_count": 60,
     "metadata": {},
     "output_type": "execute_result"
    }
   ],
   "source": [
    "X_train"
   ]
  },
  {
   "cell_type": "code",
   "execution_count": 52,
   "id": "c658bb34",
   "metadata": {
    "scrolled": true
   },
   "outputs": [],
   "source": [
    "# sns.pairplot(data=dfXy_g1.drop(['Harvest date:', 'Transplant date:', 'Total floats harvested:','Avg weight per plant:'], axis=1), kind='reg', diag_kind='hist', corner=True);"
   ]
  },
  {
   "cell_type": "code",
   "execution_count": 61,
   "id": "6ea01cec",
   "metadata": {},
   "outputs": [],
   "source": [
    "num_transformer = make_pipeline(MinMaxScaler())\n",
    "num_col = make_column_selector(dtype_include=['float64'])\n",
    "\n",
    "cat_transformer = OneHotEncoder()\n",
    "cat_col = make_column_selector(dtype_include=['object','bool'])\n",
    "\n",
    "preproc = make_column_transformer(\n",
    "    (num_transformer, num_col),\n",
    "    (cat_transformer, cat_col),\n",
    "    remainder='passthrough')"
   ]
  },
  {
   "cell_type": "code",
   "execution_count": 62,
   "id": "9dca523a",
   "metadata": {},
   "outputs": [],
   "source": [
    "pipe_baseline = make_pipeline(preproc, LinearRegression())"
   ]
  },
  {
   "cell_type": "code",
   "execution_count": 63,
   "id": "af0a76ba",
   "metadata": {},
   "outputs": [],
   "source": [
    "pipe_baseline.fit(X_train, y_train)\n",
    "y_pred = pipe_baseline.predict(X_test)\n",
    "pipe_baseline_r2 = r2_score(y_test, y_pred)\n",
    "pipe_baseline_mae = mean_absolute_error(y_test, y_pred)\n",
    "pipe_baseline_mse = mean_squared_error(y_test, y_pred, squared=False)"
   ]
  },
  {
   "cell_type": "code",
   "execution_count": 64,
   "id": "5d872d03",
   "metadata": {
    "scrolled": true
   },
   "outputs": [
    {
     "name": "stdout",
     "output_type": "stream",
     "text": [
      "r2: 0.027991154220038283,\n",
      "mae: 5.535670103092783, \n",
      "mse: 6.823004145316806\n"
     ]
    }
   ],
   "source": [
    "print(f\"r2: {pipe_baseline_r2},\\nmae: {pipe_baseline_mae}, \\nmse: {pipe_baseline_mse}\")"
   ]
  },
  {
   "cell_type": "code",
   "execution_count": 65,
   "id": "6f8c7d80",
   "metadata": {
    "scrolled": true
   },
   "outputs": [],
   "source": [
    "# X_train_preproc = preproc.fit_transform(X_train)\n",
    "# X_test_preproc = preproc.transform(X_test)\n",
    "# tpot = TPOTRegressor(generations=8, population_size=20, verbosity=2, scoring='r2', n_jobs=-1, cv=5)\n",
    "# tpot.fit(X_train_preproc, y_train)\n",
    "# print(tpot.score(X_test_preproc, y_test))"
   ]
  },
  {
   "cell_type": "code",
   "execution_count": null,
   "id": "836ec2d3",
   "metadata": {},
   "outputs": [],
   "source": []
  }
 ],
 "metadata": {
  "kernelspec": {
   "display_name": "Python 3 (ipykernel)",
   "language": "python",
   "name": "python3"
  },
  "language_info": {
   "codemirror_mode": {
    "name": "ipython",
    "version": 3
   },
   "file_extension": ".py",
   "mimetype": "text/x-python",
   "name": "python",
   "nbconvert_exporter": "python",
   "pygments_lexer": "ipython3",
   "version": "3.10.6"
  },
  "toc": {
   "base_numbering": 1,
   "nav_menu": {},
   "number_sections": true,
   "sideBar": true,
   "skip_h1_title": false,
   "title_cell": "Table of Contents",
   "title_sidebar": "Contents",
   "toc_cell": false,
   "toc_position": {},
   "toc_section_display": true,
   "toc_window_display": false
  }
 },
 "nbformat": 4,
 "nbformat_minor": 5
}
