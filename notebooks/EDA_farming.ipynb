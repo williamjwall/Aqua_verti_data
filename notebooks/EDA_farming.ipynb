{
 "cells": [
  {
   "cell_type": "code",
   "execution_count": 1,
   "id": "88c0f4c1",
   "metadata": {},
   "outputs": [],
   "source": [
    "import pandas as pd\n",
    "import numpy as np\n",
    "import seaborn as sns\n",
    "import matplotlib.pyplot as plt\n",
    "from sklearn.preprocessing import StandardScaler, MinMaxScaler, RobustScaler\n",
    "from sklearn.impute import SimpleImputer\n",
    "from sklearn.model_selection import train_test_split\n",
    "from sklearn.pipeline import make_pipeline\n",
    "from sklearn.linear_model import LinearRegression\n",
    "from sklearn.model_selection import learning_curve\n",
    "from sklearn.model_selection import cross_val_score\n",
    "from sklearn.metrics import r2_score,mean_absolute_error,mean_squared_error\n",
    "# from tpot import TPOTRegressor\n",
    "from sklearn.ensemble import GradientBoostingRegressor\n",
    "import warnings"
   ]
  },
  {
   "cell_type": "code",
   "execution_count": 2,
   "id": "73080635",
   "metadata": {},
   "outputs": [],
   "source": [
    "df_air = pd.read_csv('../../raw_data/Gida Will --_ Water & Air Data  - Air Data.csv')"
   ]
  },
  {
   "cell_type": "code",
   "execution_count": 3,
   "id": "d207557d",
   "metadata": {},
   "outputs": [
    {
     "data": {
      "text/plain": [
       "24.6     148\n",
       "24.2     139\n",
       "24.3     122\n",
       "24.1     110\n",
       "24.5     108\n",
       "        ... \n",
       "26.69      1\n",
       "26.71      1\n",
       "26.72      1\n",
       "26.88      1\n",
       "17.68      1\n",
       "Name: Température 1 (◦C), Length: 1010, dtype: int64"
      ]
     },
     "execution_count": 3,
     "metadata": {},
     "output_type": "execute_result"
    }
   ],
   "source": [
    "df_air['Température 1 (◦C)'].value_counts()"
   ]
  },
  {
   "cell_type": "code",
   "execution_count": 4,
   "id": "2f84b9a3",
   "metadata": {
    "scrolled": true
   },
   "outputs": [
    {
     "data": {
      "text/plain": [
       "Index(['Date', 'Température 1 (◦C)', 'Température 2 (◦C)',\n",
       "       'Température 3 (◦C)', 'Humidité 1 (%)', 'Humidité 2 (%)',\n",
       "       'Humidité 3 (%)', 'CO2 (ppm)', 'Unnamed: 8'],\n",
       "      dtype='object')"
      ]
     },
     "execution_count": 4,
     "metadata": {},
     "output_type": "execute_result"
    }
   ],
   "source": [
    "df_air.columns"
   ]
  },
  {
   "cell_type": "code",
   "execution_count": 5,
   "id": "ee4f595e",
   "metadata": {},
   "outputs": [],
   "source": [
    "df_g1 = pd.read_csv('../../raw_data/Gida Will --_ Water & Air Data  - Groupe 1 (Twr 1,2,3,4).csv', low_memory=False)\n",
    "df_g1.columns = df_g1.iloc[0] \n",
    "df_g1 = df_g1[1:]"
   ]
  },
  {
   "cell_type": "code",
   "execution_count": 6,
   "id": "9a5e07f7",
   "metadata": {},
   "outputs": [
    {
     "name": "stdout",
     "output_type": "stream",
     "text": [
      "Index([                  'Date',       'nutriments (S21)',\n",
      "                     'Avg. E.C',       'Water Temp (S22)',\n",
      "               'Avg. TEMP (°F)',               'pH (S23)',\n",
      "                      'Avg. pH', 'twr  level (in \" S31) ',\n",
      "         'Avg. Tower Level (\")',           'Dissolved O2',\n",
      "                'Avg. DO (ppm)',        'Flowswitch (D1)',\n",
      "              'tower valv (R1)',        'tower pump (R2)',\n",
      "              'Lvl ntrlck (R3)',        'PRGHGHCOND (R4)',\n",
      "                   'Alarm (R5)',            'Manual (R6)',\n",
      "                  'Manual (R7)',            'Manual (R8)',\n",
      "               'PSC pump (A41)',           'nutA&B (A42)',\n",
      "               'pH- Pump (A43)',         'pH+ Pump (A44)',\n",
      "                            nan,                      nan,\n",
      "                            nan,                      nan,\n",
      "                            nan,                      nan,\n",
      "                            nan,                      nan],\n",
      "      dtype='object', name=0)\n",
      "\n",
      " length: 32\n",
      "29608\n"
     ]
    }
   ],
   "source": [
    "print(df_g1.columns)\n",
    "print(f'\\n length: {len(df_g1.columns)}')\n",
    "print(len(df_g1))"
   ]
  },
  {
   "cell_type": "code",
   "execution_count": 145,
   "id": "d829514a",
   "metadata": {},
   "outputs": [],
   "source": [
    "df_g2 = pd.read_csv('../../raw_data/Gida Will --_ Water & Air Data  - Groupe 2 (Twr 5,6,7,8).csv', low_memory=False)\n",
    "df_g2.columns = df_g2.iloc[0] \n",
    "df_g2 = df_g2[1:]"
   ]
  },
  {
   "cell_type": "code",
   "execution_count": 8,
   "id": "e9b77ccc",
   "metadata": {
    "scrolled": true
   },
   "outputs": [
    {
     "name": "stdout",
     "output_type": "stream",
     "text": [
      "Index([                  'Date',              'PSC (S11)',\n",
      "                     'Avg. PSC',       'nutriments (S21)',\n",
      "                     'Avg. E.C',       'Water Temp (S24)',\n",
      "               'Avg. TEMP (°F)',               'pH (S23)',\n",
      "                       'Avg pH', 'twr  level (in \" S31) ',\n",
      "         'Avg. Tower Level (\")',        'Flowswitch (D1)',\n",
      "              'tower valv (R1)',        'tower pump (R2)',\n",
      "              'Lvl ntrlck (R3)',        'PRGHGHCOND (R4)',\n",
      "                   'Alarm (R5)',            'Manual (R6)',\n",
      "                  'Manual (R7)',            'Manual (R8)',\n",
      "               'PSC pump (A41)',           'nutA&B (A42)',\n",
      "               'pH- Pump (A43)',         'pH+ Pump (A44)',\n",
      "                   'Off / On 1',             'Off / On 2',\n",
      "                   'Off / On 3',               'Comments',\n",
      "                            nan,                      nan,\n",
      "                            nan],\n",
      "      dtype='object', name=0)\n",
      "\n",
      " length: 31\n",
      "55066\n"
     ]
    }
   ],
   "source": [
    "print(df_g2.columns)\n",
    "print(f'\\n length: {len(df_g2.columns)}')\n",
    "print(len(df_g2))"
   ]
  },
  {
   "cell_type": "code",
   "execution_count": 9,
   "id": "ac2746ae",
   "metadata": {},
   "outputs": [
    {
     "data": {
      "text/plain": [
       "Off    48891\n",
       "On      2405\n",
       "Name: Lvl ntrlck (R3), dtype: int64"
      ]
     },
     "execution_count": 9,
     "metadata": {},
     "output_type": "execute_result"
    }
   ],
   "source": [
    "df_g2['Lvl ntrlck (R3)'].value_counts()"
   ]
  },
  {
   "cell_type": "code",
   "execution_count": 10,
   "id": "1218c9ed",
   "metadata": {},
   "outputs": [],
   "source": [
    "df_g56 = pd.read_csv('../../raw_data/Gida Will --_ Water & Air Data  - Group 5 & 6 (Twr 17 to 24).csv', low_memory=False)\n",
    "df_g56.columns = df_g56.iloc[0] \n",
    "df_g56 = df_g56[1:]"
   ]
  },
  {
   "cell_type": "code",
   "execution_count": 11,
   "id": "16777f82",
   "metadata": {},
   "outputs": [
    {
     "name": "stdout",
     "output_type": "stream",
     "text": [
      "Index([            'Date',   'G6 nutAB (S11)',    'G6 temp (S12)',\n",
      "            'G6 Ph (S13)',    'G6 Temp (S14)',   'G5 nutAB (S21)',\n",
      "          'G5 temp (S22)',      'G5 Ph (S23)',    'G5 Temp (S24)',\n",
      "            'G6 dO (S31)',  'G6 TnkLVL (S32)',  'G5 TnkLVL (S33)',\n",
      "            'G5 dO (S34)',     'G6 Flow (D1)',     'G5 Flow (D2)',\n",
      "       'G6 tnkFEED (R11)',          '- (R12)', 'G5 TnkFEED (R13)',\n",
      "                '- (R14)',          '- (R21)',          '- (R22)',\n",
      "                '- (R23)',          '- (R24)', 'G6 Tnk PMP (R31)',\n",
      "                '- (R32)', 'G5 Tnk PMP (R33)',          '- (R34)',\n",
      "       'G6 nAB pmp (A41)', 'G6 Ph pump (A42)', 'G5 nAB pmp (A43)',\n",
      "       'G5 Ph pump (A44)',                nan],\n",
      "      dtype='object', name=0)\n",
      "\n",
      " length: 32\n",
      "131554\n"
     ]
    }
   ],
   "source": [
    "print(df_g56.columns)\n",
    "print(f'\\n length: {len(df_g56.columns)}')\n",
    "print(len(df_g56))"
   ]
  },
  {
   "cell_type": "code",
   "execution_count": 12,
   "id": "b801654e",
   "metadata": {},
   "outputs": [],
   "source": [
    "import re\n",
    "\n",
    "def key_cleaner(df):\n",
    "    cleaned_keys = []\n",
    "    keys = df.columns\n",
    "    for i in keys:\n",
    "        print(i[0])\n",
    "        cleaned_keys.append(i.strip().lower().replace(' ','_'))\n",
    "    return cleaned_keys"
   ]
  },
  {
   "cell_type": "code",
   "execution_count": 13,
   "id": "85c89249",
   "metadata": {},
   "outputs": [
    {
     "name": "stdout",
     "output_type": "stream",
     "text": [
      "/home/williamjwall/code/gidahusa/Aquaverti-Data-Analysis/notebooks\r\n"
     ]
    }
   ],
   "source": [
    "!pwd"
   ]
  },
  {
   "cell_type": "code",
   "execution_count": 14,
   "id": "5867e3b6",
   "metadata": {},
   "outputs": [],
   "source": [
    "# import pandas as pd\n",
    "# import glob\n",
    "# import os\n",
    "\n",
    "# path = r'../../raw_data'\n",
    "# all_files = glob.glob(os.path.join(path , \"*.csv\"))\n",
    "\n",
    "# lista = []\n",
    "\n",
    "# for filename in all_files:\n",
    "#     df = pd.read_csv(filename, index_col=None, header=0, low_memory=False)\n",
    "#     lista.append(df)\n",
    "\n",
    "# frame = pd.concat(lista, axis=0, ignore_index=True)"
   ]
  },
  {
   "cell_type": "code",
   "execution_count": 15,
   "id": "cfe0a781",
   "metadata": {},
   "outputs": [],
   "source": [
    "# frame.shape"
   ]
  },
  {
   "cell_type": "code",
   "execution_count": 16,
   "id": "4303e07a",
   "metadata": {},
   "outputs": [],
   "source": [
    "plant_health_df = pd.read_csv('../../raw_data/Copy of Copy of Trackers (2.0) - Plant health.csv')\n",
    "harvest_df = pd.read_csv('../../raw_data/Copy of Copy of Trackers (2.0) - Harvest.csv')"
   ]
  },
  {
   "cell_type": "code",
   "execution_count": 17,
   "id": "5d42291e",
   "metadata": {},
   "outputs": [],
   "source": [
    "# plant_health_df['Tower:'].value_counts().sort_values(ascending=False)"
   ]
  },
  {
   "cell_type": "code",
   "execution_count": 18,
   "id": "6b0582c7",
   "metadata": {},
   "outputs": [],
   "source": [
    "grouping_towers_dicta = {\"group 1\": [\"Tower 1\", \"Tower 2\",\"Tower 3\", \"Tower 4\"],\n",
    "                         \"group 2\": [\"Tower 5\", \"Tower 6\",\"Tower 7\", \"Tower 8\"],\n",
    "                         \"group 5/6\": [\"Tower 14\", \"Tower 15\",\"Tower 16\", \"Tower 17\", \"Tower 18\", \"Tower 19\",\"Tower 20\", \"Tower 21\", \"Tower 22\", \"Tower 23\",\"Tower 24\"]}"
   ]
  },
  {
   "cell_type": "code",
   "execution_count": 19,
   "id": "cd33fed5",
   "metadata": {
    "scrolled": true
   },
   "outputs": [],
   "source": [
    "harvest_df[\"Tower location:\"].replace([\"Tower 1\", \"Tower 2\",\"Tower 3\", \"Tower 4\"], \"group 1\", inplace=True)"
   ]
  },
  {
   "cell_type": "code",
   "execution_count": 20,
   "id": "8e641b41",
   "metadata": {},
   "outputs": [],
   "source": [
    "harvest_df[\"Tower location:\"].replace([\"Tower 5\", \"Tower 6\",\"Tower 7\", \"Tower 8\"], \"group 2\", inplace=True)"
   ]
  },
  {
   "cell_type": "code",
   "execution_count": 21,
   "id": "7b0a37f8",
   "metadata": {},
   "outputs": [],
   "source": [
    "harvest_df[\"Tower location:\"].replace([\"Tower 14\", \"Tower 15\",\"Tower 16\", \"Tower 17\", \"Tower 18\", \"Tower 19\",\"Tower 20\", \"Tower 21\", \"Tower 22\", \"Tower 23\",\"Tower 24\"], \"group 5/6\", inplace=True)"
   ]
  },
  {
   "cell_type": "code",
   "execution_count": 22,
   "id": "25339930",
   "metadata": {},
   "outputs": [],
   "source": [
    "harvest_df[\"Tower location:\"].replace([\"Tower 9\", \"Tower 10\",\"Tower 11\", \"Tower 12\", \"Tower 13\"], \"group other\", inplace=True)"
   ]
  },
  {
   "cell_type": "code",
   "execution_count": 23,
   "id": "f6ad376b",
   "metadata": {
    "scrolled": true
   },
   "outputs": [
    {
     "data": {
      "text/plain": [
       "group 1         2010\n",
       "group 2         1945\n",
       "group 5/6        539\n",
       "group other       78\n",
       "                   1\n",
       "Name: Tower location:, dtype: int64"
      ]
     },
     "execution_count": 23,
     "metadata": {},
     "output_type": "execute_result"
    }
   ],
   "source": [
    "harvest_df['Tower location:'].value_counts().sort_values(ascending=False)"
   ]
  },
  {
   "cell_type": "code",
   "execution_count": 24,
   "id": "a791f0e9",
   "metadata": {},
   "outputs": [],
   "source": [
    "group_1_harvest = harvest_df.groupby(\"Tower location:\").get_group('group 1')[['Harvest date:','Transplant date:','Level location:', 'Total floats harvested:', 'Total weight for floats: (grams)', 'Avg weight per plant:']]"
   ]
  },
  {
   "cell_type": "code",
   "execution_count": 146,
   "id": "6cf25660",
   "metadata": {},
   "outputs": [],
   "source": [
    "df_g2['Date'] = pd.to_datetime(df_g2['Date'])"
   ]
  },
  {
   "cell_type": "code",
   "execution_count": 350,
   "id": "5fae9b2a",
   "metadata": {},
   "outputs": [
    {
     "data": {
      "text/html": [
       "<div>\n",
       "<style scoped>\n",
       "    .dataframe tbody tr th:only-of-type {\n",
       "        vertical-align: middle;\n",
       "    }\n",
       "\n",
       "    .dataframe tbody tr th {\n",
       "        vertical-align: top;\n",
       "    }\n",
       "\n",
       "    .dataframe thead th {\n",
       "        text-align: right;\n",
       "    }\n",
       "</style>\n",
       "<table border=\"1\" class=\"dataframe\">\n",
       "  <thead>\n",
       "    <tr style=\"text-align: right;\">\n",
       "      <th></th>\n",
       "      <th>Harvest date:</th>\n",
       "      <th>Transplant date:</th>\n",
       "      <th>Level location:</th>\n",
       "      <th>Total floats harvested:</th>\n",
       "      <th>Total weight for floats: (grams)</th>\n",
       "      <th>Avg weight per plant:</th>\n",
       "    </tr>\n",
       "  </thead>\n",
       "  <tbody>\n",
       "    <tr>\n",
       "      <th>29</th>\n",
       "      <td>2020-11-30</td>\n",
       "      <td>2020-11-16</td>\n",
       "      <td>Level 4</td>\n",
       "      <td>9</td>\n",
       "      <td>9334.0</td>\n",
       "      <td>14.40</td>\n",
       "    </tr>\n",
       "    <tr>\n",
       "      <th>32</th>\n",
       "      <td>2020-12-01</td>\n",
       "      <td>2020-11-20</td>\n",
       "      <td>Level 5</td>\n",
       "      <td>10</td>\n",
       "      <td>5585.0</td>\n",
       "      <td>7.76</td>\n",
       "    </tr>\n",
       "  </tbody>\n",
       "</table>\n",
       "</div>"
      ],
      "text/plain": [
       "   Harvest date: Transplant date: Level location:  Total floats harvested:  \\\n",
       "29    2020-11-30       2020-11-16         Level 4                        9   \n",
       "32    2020-12-01       2020-11-20         Level 5                       10   \n",
       "\n",
       "    Total weight for floats: (grams)  Avg weight per plant:  \n",
       "29                            9334.0                  14.40  \n",
       "32                            5585.0                   7.76  "
      ]
     },
     "execution_count": 350,
     "metadata": {},
     "output_type": "execute_result"
    }
   ],
   "source": [
    "group_1_harvest.head(2)"
   ]
  },
  {
   "cell_type": "code",
   "execution_count": 27,
   "id": "47fcd0e8",
   "metadata": {},
   "outputs": [],
   "source": [
    "df_g1['Date'] = pd.to_datetime(df_g1['Date'])"
   ]
  },
  {
   "cell_type": "code",
   "execution_count": 28,
   "id": "735e03aa",
   "metadata": {},
   "outputs": [],
   "source": [
    "group_1_harvest['Harvest date:'] = pd.to_datetime(group_1_harvest['Harvest date:'])"
   ]
  },
  {
   "cell_type": "code",
   "execution_count": 29,
   "id": "d80c08f5",
   "metadata": {},
   "outputs": [],
   "source": [
    "group_1_harvest['Transplant date:'] = pd.to_datetime(group_1_harvest['Transplant date:'])"
   ]
  },
  {
   "cell_type": "code",
   "execution_count": 267,
   "id": "145d87d1",
   "metadata": {},
   "outputs": [],
   "source": [
    "def average_of_cycle(dfy, dfX):\n",
    "    lista = []\n",
    "    lista2 = []\n",
    "    for a, b in dfy[['Harvest date:', 'Transplant date:']].itertuples(index=False):\n",
    "        lista.append(dfX[(dfX['Date'] < a) & (dfX['Date'] > b)])\n",
    "    for i in lista[436:]:\n",
    "        i = i.dropna(axis=1)\n",
    "        i = i.set_index(i['Date'])\n",
    "        i = i[i.columns[1:]].apply(lambda x: pd.to_numeric(x, errors='coerce'))\n",
    "        df_mean = pd.DataFrame(i.select_dtypes(include=['float64','int64']).dropna(how='all', axis=1).mean()[:-10]).T\n",
    "        lista2.append(df_mean)\n",
    "    return lista2"
   ]
  },
  {
   "cell_type": "code",
   "execution_count": 268,
   "id": "dfcc167a",
   "metadata": {},
   "outputs": [],
   "source": [
    "avg = average_of_cycle(group_1_harvest, df_g1)"
   ]
  },
  {
   "cell_type": "code",
   "execution_count": 269,
   "id": "24172b75",
   "metadata": {},
   "outputs": [
    {
     "data": {
      "text/plain": [
       "1574"
      ]
     },
     "execution_count": 269,
     "metadata": {},
     "output_type": "execute_result"
    }
   ],
   "source": [
    "len(avg)"
   ]
  },
  {
   "cell_type": "code",
   "execution_count": 345,
   "id": "a0346884",
   "metadata": {
    "scrolled": true
   },
   "outputs": [],
   "source": [
    "concat1_grp_1 = pd.concat(avg[0:1415], join='outer')"
   ]
  },
  {
   "cell_type": "code",
   "execution_count": 347,
   "id": "52c1f83e",
   "metadata": {},
   "outputs": [],
   "source": [
    "lista45 = []\n",
    "for i in avg[1416:]:\n",
    "    lista45.append(pd.DataFrame(i.iloc[0][:7]).T)\n",
    "concat2_grp_1 = pd.concat(lista45).dropna(axis=0, how='all')"
   ]
  },
  {
   "cell_type": "code",
   "execution_count": 351,
   "id": "029ae14c",
   "metadata": {},
   "outputs": [],
   "source": [
    "g1_X = pd.concat([concat1_grp_1, concat2_grp_1])"
   ]
  },
  {
   "cell_type": "code",
   "execution_count": 355,
   "id": "bcc2dd68",
   "metadata": {
    "scrolled": true
   },
   "outputs": [
    {
     "data": {
      "text/plain": [
       "<AxesSubplot: xlabel='0', ylabel='0'>"
      ]
     },
     "execution_count": 355,
     "metadata": {},
     "output_type": "execute_result"
    },
    {
     "data": {
      "image/png": "[encoded data removed]",
      "text/plain": [
       "<Figure size 640x480 with 2 Axes>"
      ]
     },
     "metadata": {},
     "output_type": "display_data"
    }
   ],
   "source": [
    "sns.heatmap(g1_X.corr())"
   ]
  },
  {
   "cell_type": "code",
   "execution_count": 354,
   "id": "ff906bf5",
   "metadata": {
    "scrolled": false
   },
   "outputs": [
    {
     "data": {
      "text/html": [
       "<div>\n",
       "<style scoped>\n",
       "    .dataframe tbody tr th:only-of-type {\n",
       "        vertical-align: middle;\n",
       "    }\n",
       "\n",
       "    .dataframe tbody tr th {\n",
       "        vertical-align: top;\n",
       "    }\n",
       "\n",
       "    .dataframe thead th {\n",
       "        text-align: right;\n",
       "    }\n",
       "</style>\n",
       "<table border=\"1\" class=\"dataframe\">\n",
       "  <thead>\n",
       "    <tr style=\"text-align: right;\">\n",
       "      <th></th>\n",
       "      <th>count</th>\n",
       "      <th>mean</th>\n",
       "      <th>std</th>\n",
       "      <th>min</th>\n",
       "      <th>25%</th>\n",
       "      <th>50%</th>\n",
       "      <th>75%</th>\n",
       "      <th>max</th>\n",
       "    </tr>\n",
       "    <tr>\n",
       "      <th>0</th>\n",
       "      <th></th>\n",
       "      <th></th>\n",
       "      <th></th>\n",
       "      <th></th>\n",
       "      <th></th>\n",
       "      <th></th>\n",
       "      <th></th>\n",
       "      <th></th>\n",
       "    </tr>\n",
       "  </thead>\n",
       "  <tbody>\n",
       "    <tr>\n",
       "      <th>nutriments (S21)</th>\n",
       "      <td>1562.0</td>\n",
       "      <td>1.707931</td>\n",
       "      <td>0.115163</td>\n",
       "      <td>1.088238</td>\n",
       "      <td>1.692293</td>\n",
       "      <td>1.759751</td>\n",
       "      <td>1.770820</td>\n",
       "      <td>1.808333</td>\n",
       "    </tr>\n",
       "    <tr>\n",
       "      <th>Water Temp (S22)</th>\n",
       "      <td>1562.0</td>\n",
       "      <td>67.585130</td>\n",
       "      <td>6.687584</td>\n",
       "      <td>20.740119</td>\n",
       "      <td>67.821090</td>\n",
       "      <td>68.092354</td>\n",
       "      <td>68.780271</td>\n",
       "      <td>75.553086</td>\n",
       "    </tr>\n",
       "    <tr>\n",
       "      <th>pH (S23)</th>\n",
       "      <td>1562.0</td>\n",
       "      <td>5.798517</td>\n",
       "      <td>0.090974</td>\n",
       "      <td>5.425905</td>\n",
       "      <td>5.786778</td>\n",
       "      <td>5.805929</td>\n",
       "      <td>5.821048</td>\n",
       "      <td>6.094828</td>\n",
       "    </tr>\n",
       "    <tr>\n",
       "      <th>twr  level (in \" S31)</th>\n",
       "      <td>1562.0</td>\n",
       "      <td>14.360130</td>\n",
       "      <td>0.467965</td>\n",
       "      <td>13.161936</td>\n",
       "      <td>14.141271</td>\n",
       "      <td>14.192691</td>\n",
       "      <td>14.653274</td>\n",
       "      <td>15.362463</td>\n",
       "    </tr>\n",
       "    <tr>\n",
       "      <th>pH- Pump (A43)</th>\n",
       "      <td>979.0</td>\n",
       "      <td>24.639167</td>\n",
       "      <td>15.562826</td>\n",
       "      <td>8.697914</td>\n",
       "      <td>13.760603</td>\n",
       "      <td>18.714301</td>\n",
       "      <td>29.687885</td>\n",
       "      <td>71.591902</td>\n",
       "    </tr>\n",
       "    <tr>\n",
       "      <th>pH+ Pump (A44)</th>\n",
       "      <td>979.0</td>\n",
       "      <td>24.045308</td>\n",
       "      <td>14.337525</td>\n",
       "      <td>8.710428</td>\n",
       "      <td>13.759750</td>\n",
       "      <td>18.532604</td>\n",
       "      <td>29.711917</td>\n",
       "      <td>69.393129</td>\n",
       "    </tr>\n",
       "    <tr>\n",
       "      <th>Dissolved O2</th>\n",
       "      <td>1249.0</td>\n",
       "      <td>2.692788</td>\n",
       "      <td>1.728025</td>\n",
       "      <td>-0.930681</td>\n",
       "      <td>1.742407</td>\n",
       "      <td>3.165567</td>\n",
       "      <td>3.872714</td>\n",
       "      <td>5.403525</td>\n",
       "    </tr>\n",
       "  </tbody>\n",
       "</table>\n",
       "</div>"
      ],
      "text/plain": [
       "                         count       mean        std        min        25%  \\\n",
       "0                                                                            \n",
       "nutriments (S21)        1562.0   1.707931   0.115163   1.088238   1.692293   \n",
       "Water Temp (S22)        1562.0  67.585130   6.687584  20.740119  67.821090   \n",
       "pH (S23)                1562.0   5.798517   0.090974   5.425905   5.786778   \n",
       "twr  level (in \" S31)   1562.0  14.360130   0.467965  13.161936  14.141271   \n",
       "pH- Pump (A43)           979.0  24.639167  15.562826   8.697914  13.760603   \n",
       "pH+ Pump (A44)           979.0  24.045308  14.337525   8.710428  13.759750   \n",
       "Dissolved O2            1249.0   2.692788   1.728025  -0.930681   1.742407   \n",
       "\n",
       "                              50%        75%        max  \n",
       "0                                                        \n",
       "nutriments (S21)         1.759751   1.770820   1.808333  \n",
       "Water Temp (S22)        68.092354  68.780271  75.553086  \n",
       "pH (S23)                 5.805929   5.821048   6.094828  \n",
       "twr  level (in \" S31)   14.192691  14.653274  15.362463  \n",
       "pH- Pump (A43)          18.714301  29.687885  71.591902  \n",
       "pH+ Pump (A44)          18.532604  29.711917  69.393129  \n",
       "Dissolved O2             3.165567   3.872714   5.403525  "
      ]
     },
     "execution_count": 354,
     "metadata": {},
     "output_type": "execute_result"
    }
   ],
   "source": [
    "g1_X.describe().T"
   ]
  },
  {
   "cell_type": "code",
   "execution_count": 402,
   "id": "b61b678e",
   "metadata": {},
   "outputs": [],
   "source": [
    "dfXy_g1 = pd.concat([g1_X.reset_index(drop=True), group_1_harvest[436:].reset_index(drop=True)], axis=1)"
   ]
  },
  {
   "cell_type": "code",
   "execution_count": 403,
   "id": "9cf1d97b",
   "metadata": {},
   "outputs": [
    {
     "data": {
      "text/html": [
       "<div>\n",
       "<style scoped>\n",
       "    .dataframe tbody tr th:only-of-type {\n",
       "        vertical-align: middle;\n",
       "    }\n",
       "\n",
       "    .dataframe tbody tr th {\n",
       "        vertical-align: top;\n",
       "    }\n",
       "\n",
       "    .dataframe thead th {\n",
       "        text-align: right;\n",
       "    }\n",
       "</style>\n",
       "<table border=\"1\" class=\"dataframe\">\n",
       "  <thead>\n",
       "    <tr style=\"text-align: right;\">\n",
       "      <th></th>\n",
       "      <th>nutriments (S21)</th>\n",
       "      <th>Water Temp (S22)</th>\n",
       "      <th>pH (S23)</th>\n",
       "      <th>twr  level (in \" S31)</th>\n",
       "      <th>pH- Pump (A43)</th>\n",
       "      <th>pH+ Pump (A44)</th>\n",
       "      <th>Dissolved O2</th>\n",
       "      <th>Harvest date:</th>\n",
       "      <th>Transplant date:</th>\n",
       "      <th>Level location:</th>\n",
       "      <th>Total floats harvested:</th>\n",
       "      <th>Total weight for floats: (grams)</th>\n",
       "      <th>Avg weight per plant:</th>\n",
       "    </tr>\n",
       "  </thead>\n",
       "  <tbody>\n",
       "    <tr>\n",
       "      <th>0</th>\n",
       "      <td>1.570389</td>\n",
       "      <td>68.052495</td>\n",
       "      <td>5.781936</td>\n",
       "      <td>15.124112</td>\n",
       "      <td>NaN</td>\n",
       "      <td>NaN</td>\n",
       "      <td>NaN</td>\n",
       "      <td>2021-06-03</td>\n",
       "      <td>2021-05-13</td>\n",
       "      <td>Level 6</td>\n",
       "      <td>2</td>\n",
       "      <td>1114.0</td>\n",
       "      <td>7.74</td>\n",
       "    </tr>\n",
       "    <tr>\n",
       "      <th>1</th>\n",
       "      <td>1.570389</td>\n",
       "      <td>68.052495</td>\n",
       "      <td>5.781936</td>\n",
       "      <td>15.124112</td>\n",
       "      <td>NaN</td>\n",
       "      <td>NaN</td>\n",
       "      <td>NaN</td>\n",
       "      <td>2021-06-03</td>\n",
       "      <td>2021-05-13</td>\n",
       "      <td>Level 7</td>\n",
       "      <td>30</td>\n",
       "      <td>17850.0</td>\n",
       "      <td>8.30</td>\n",
       "    </tr>\n",
       "    <tr>\n",
       "      <th>2</th>\n",
       "      <td>1.570389</td>\n",
       "      <td>68.052495</td>\n",
       "      <td>5.781936</td>\n",
       "      <td>15.124112</td>\n",
       "      <td>NaN</td>\n",
       "      <td>NaN</td>\n",
       "      <td>NaN</td>\n",
       "      <td>2021-06-03</td>\n",
       "      <td>2021-05-13</td>\n",
       "      <td>Level 6</td>\n",
       "      <td>30</td>\n",
       "      <td>19838.0</td>\n",
       "      <td>9.33</td>\n",
       "    </tr>\n",
       "    <tr>\n",
       "      <th>3</th>\n",
       "      <td>1.570389</td>\n",
       "      <td>68.052495</td>\n",
       "      <td>5.781936</td>\n",
       "      <td>15.124112</td>\n",
       "      <td>NaN</td>\n",
       "      <td>NaN</td>\n",
       "      <td>NaN</td>\n",
       "      <td>2021-06-03</td>\n",
       "      <td>2021-05-13</td>\n",
       "      <td>Level 5</td>\n",
       "      <td>2</td>\n",
       "      <td>2547.0</td>\n",
       "      <td>17.69</td>\n",
       "    </tr>\n",
       "    <tr>\n",
       "      <th>4</th>\n",
       "      <td>1.570389</td>\n",
       "      <td>68.052495</td>\n",
       "      <td>5.781936</td>\n",
       "      <td>15.124112</td>\n",
       "      <td>NaN</td>\n",
       "      <td>NaN</td>\n",
       "      <td>NaN</td>\n",
       "      <td>2021-06-03</td>\n",
       "      <td>2021-05-13</td>\n",
       "      <td>Level 3</td>\n",
       "      <td>8</td>\n",
       "      <td>9517.0</td>\n",
       "      <td>16.52</td>\n",
       "    </tr>\n",
       "    <tr>\n",
       "      <th>...</th>\n",
       "      <td>...</td>\n",
       "      <td>...</td>\n",
       "      <td>...</td>\n",
       "      <td>...</td>\n",
       "      <td>...</td>\n",
       "      <td>...</td>\n",
       "      <td>...</td>\n",
       "      <td>...</td>\n",
       "      <td>...</td>\n",
       "      <td>...</td>\n",
       "      <td>...</td>\n",
       "      <td>...</td>\n",
       "      <td>...</td>\n",
       "    </tr>\n",
       "    <tr>\n",
       "      <th>1558</th>\n",
       "      <td>1.729345</td>\n",
       "      <td>20.955114</td>\n",
       "      <td>5.850685</td>\n",
       "      <td>15.219305</td>\n",
       "      <td>52.364449</td>\n",
       "      <td>50.595233</td>\n",
       "      <td>-0.518510</td>\n",
       "      <td>2022-11-14</td>\n",
       "      <td>2022-10-24</td>\n",
       "      <td>Level 2</td>\n",
       "      <td>32</td>\n",
       "      <td>87958.0</td>\n",
       "      <td>38.18</td>\n",
       "    </tr>\n",
       "    <tr>\n",
       "      <th>1559</th>\n",
       "      <td>1.729345</td>\n",
       "      <td>20.955114</td>\n",
       "      <td>5.850685</td>\n",
       "      <td>15.219305</td>\n",
       "      <td>52.364449</td>\n",
       "      <td>50.595233</td>\n",
       "      <td>-0.518510</td>\n",
       "      <td>2022-11-14</td>\n",
       "      <td>2022-10-26</td>\n",
       "      <td>Level 1</td>\n",
       "      <td>32</td>\n",
       "      <td>59798.0</td>\n",
       "      <td>25.95</td>\n",
       "    </tr>\n",
       "    <tr>\n",
       "      <th>1560</th>\n",
       "      <td>1.731053</td>\n",
       "      <td>20.849950</td>\n",
       "      <td>5.850070</td>\n",
       "      <td>15.218004</td>\n",
       "      <td>50.744786</td>\n",
       "      <td>48.798411</td>\n",
       "      <td>-0.615283</td>\n",
       "      <td>2022-11-15</td>\n",
       "      <td>2022-10-25</td>\n",
       "      <td>Level 2</td>\n",
       "      <td>32</td>\n",
       "      <td>84967.0</td>\n",
       "      <td>36.88</td>\n",
       "    </tr>\n",
       "    <tr>\n",
       "      <th>1561</th>\n",
       "      <td>1.731053</td>\n",
       "      <td>20.849950</td>\n",
       "      <td>5.850070</td>\n",
       "      <td>15.218004</td>\n",
       "      <td>50.744786</td>\n",
       "      <td>48.798411</td>\n",
       "      <td>-0.615283</td>\n",
       "      <td>2022-11-15</td>\n",
       "      <td>2022-10-25</td>\n",
       "      <td>Level 1</td>\n",
       "      <td>32</td>\n",
       "      <td>85988.0</td>\n",
       "      <td>37.32</td>\n",
       "    </tr>\n",
       "    <tr>\n",
       "      <th>1562</th>\n",
       "      <td>1.731053</td>\n",
       "      <td>20.740119</td>\n",
       "      <td>5.849374</td>\n",
       "      <td>15.220218</td>\n",
       "      <td>51.203873</td>\n",
       "      <td>49.179345</td>\n",
       "      <td>-0.713476</td>\n",
       "      <td>2022-11-16</td>\n",
       "      <td>2022-10-26</td>\n",
       "      <td>Level 5</td>\n",
       "      <td>32</td>\n",
       "      <td>54517.0</td>\n",
       "      <td>23.66</td>\n",
       "    </tr>\n",
       "  </tbody>\n",
       "</table>\n",
       "<p>1562 rows × 13 columns</p>\n",
       "</div>"
      ],
      "text/plain": [
       "      nutriments (S21)  Water Temp (S22)  pH (S23)  twr  level (in \" S31)   \\\n",
       "0             1.570389         68.052495  5.781936               15.124112   \n",
       "1             1.570389         68.052495  5.781936               15.124112   \n",
       "2             1.570389         68.052495  5.781936               15.124112   \n",
       "3             1.570389         68.052495  5.781936               15.124112   \n",
       "4             1.570389         68.052495  5.781936               15.124112   \n",
       "...                ...               ...       ...                     ...   \n",
       "1558          1.729345         20.955114  5.850685               15.219305   \n",
       "1559          1.729345         20.955114  5.850685               15.219305   \n",
       "1560          1.731053         20.849950  5.850070               15.218004   \n",
       "1561          1.731053         20.849950  5.850070               15.218004   \n",
       "1562          1.731053         20.740119  5.849374               15.220218   \n",
       "\n",
       "      pH- Pump (A43)  pH+ Pump (A44)  Dissolved O2 Harvest date:  \\\n",
       "0                NaN             NaN           NaN    2021-06-03   \n",
       "1                NaN             NaN           NaN    2021-06-03   \n",
       "2                NaN             NaN           NaN    2021-06-03   \n",
       "3                NaN             NaN           NaN    2021-06-03   \n",
       "4                NaN             NaN           NaN    2021-06-03   \n",
       "...              ...             ...           ...           ...   \n",
       "1558       52.364449       50.595233     -0.518510    2022-11-14   \n",
       "1559       52.364449       50.595233     -0.518510    2022-11-14   \n",
       "1560       50.744786       48.798411     -0.615283    2022-11-15   \n",
       "1561       50.744786       48.798411     -0.615283    2022-11-15   \n",
       "1562       51.203873       49.179345     -0.713476    2022-11-16   \n",
       "\n",
       "     Transplant date: Level location:  Total floats harvested:  \\\n",
       "0          2021-05-13         Level 6                        2   \n",
       "1          2021-05-13         Level 7                       30   \n",
       "2          2021-05-13         Level 6                       30   \n",
       "3          2021-05-13         Level 5                        2   \n",
       "4          2021-05-13         Level 3                        8   \n",
       "...               ...             ...                      ...   \n",
       "1558       2022-10-24         Level 2                       32   \n",
       "1559       2022-10-26         Level 1                       32   \n",
       "1560       2022-10-25         Level 2                       32   \n",
       "1561       2022-10-25         Level 1                       32   \n",
       "1562       2022-10-26         Level 5                       32   \n",
       "\n",
       "      Total weight for floats: (grams)  Avg weight per plant:  \n",
       "0                               1114.0                   7.74  \n",
       "1                              17850.0                   8.30  \n",
       "2                              19838.0                   9.33  \n",
       "3                               2547.0                  17.69  \n",
       "4                               9517.0                  16.52  \n",
       "...                                ...                    ...  \n",
       "1558                           87958.0                  38.18  \n",
       "1559                           59798.0                  25.95  \n",
       "1560                           84967.0                  36.88  \n",
       "1561                           85988.0                  37.32  \n",
       "1562                           54517.0                  23.66  \n",
       "\n",
       "[1562 rows x 13 columns]"
      ]
     },
     "execution_count": 403,
     "metadata": {},
     "output_type": "execute_result"
    }
   ],
   "source": [
    "dfXy_g1.dropna(axis=0, thresh=10)"
   ]
  },
  {
   "cell_type": "code",
   "execution_count": null,
   "id": "c658bb34",
   "metadata": {},
   "outputs": [],
   "source": []
  },
  {
   "cell_type": "code",
   "execution_count": null,
   "id": "6ea01cec",
   "metadata": {},
   "outputs": [],
   "source": []
  },
  {
   "cell_type": "code",
   "execution_count": null,
   "id": "26c3dbe9",
   "metadata": {},
   "outputs": [],
   "source": []
  },
  {
   "cell_type": "code",
   "execution_count": null,
   "id": "9dca523a",
   "metadata": {},
   "outputs": [],
   "source": []
  },
  {
   "cell_type": "code",
   "execution_count": null,
   "id": "af0a76ba",
   "metadata": {},
   "outputs": [],
   "source": []
  },
  {
   "cell_type": "code",
   "execution_count": null,
   "id": "5d872d03",
   "metadata": {},
   "outputs": [],
   "source": []
  },
  {
   "cell_type": "code",
   "execution_count": null,
   "id": "814b675a",
   "metadata": {},
   "outputs": [],
   "source": []
  }
 ],
 "metadata": {
  "kernelspec": {
   "display_name": "Python 3 (ipykernel)",
   "language": "python",
   "name": "python3"
  },
  "language_info": {
   "codemirror_mode": {
    "name": "ipython",
    "version": 3
   },
   "file_extension": ".py",
   "mimetype": "text/x-python",
   "name": "python",
   "nbconvert_exporter": "python",
   "pygments_lexer": "ipython3",
   "version": "3.10.6"
  },
  "toc": {
   "base_numbering": 1,
   "nav_menu": {},
   "number_sections": true,
   "sideBar": true,
   "skip_h1_title": false,
   "title_cell": "Table of Contents",
   "title_sidebar": "Contents",
   "toc_cell": false,
   "toc_position": {},
   "toc_section_display": true,
   "toc_window_display": false
  }
 },
 "nbformat": 4,
 "nbformat_minor": 5
}
