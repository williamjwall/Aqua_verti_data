{
 "cells": [
  {
   "cell_type": "code",
   "execution_count": 492,
   "id": "88c0f4c1",
   "metadata": {},
   "outputs": [
    {
     "name": "stderr",
     "output_type": "stream",
     "text": [
      "/home/williamjwall/.pyenv/versions/3.10.6/envs/aquaverti/lib/python3.10/site-packages/tpot/builtins/__init__.py:36: UserWarning: Warning: optional dependency `torch` is not available. - skipping import of NN models.\n",
      "  warnings.warn(\"Warning: optional dependency `torch` is not available. - skipping import of NN models.\")\n"
     ]
    }
   ],
   "source": [
    "import pandas as pd\n",
    "import numpy as np\n",
    "import seaborn as sns\n",
    "import matplotlib.pyplot as plt\n",
    "from sklearn.preprocessing import StandardScaler, MinMaxScaler, RobustScaler, OneHotEncoder\n",
    "from sklearn.impute import SimpleImputer\n",
    "from sklearn.model_selection import train_test_split\n",
    "from sklearn.pipeline import make_pipeline\n",
    "from sklearn.compose import make_column_selector, make_column_transformer\n",
    "from sklearn.linear_model import LinearRegression\n",
    "from sklearn.model_selection import learning_curve\n",
    "from sklearn.model_selection import cross_val_score\n",
    "from sklearn.metrics import r2_score,mean_absolute_error,mean_squared_error\n",
    "from tpot import TPOTRegressor\n",
    "import warnings"
   ]
  },
  {
   "cell_type": "code",
   "execution_count": 2,
   "id": "73080635",
   "metadata": {},
   "outputs": [],
   "source": [
    "df_air = pd.read_csv('../../raw_data/Gida Will --_ Water & Air Data  - Air Data.csv')"
   ]
  },
  {
   "cell_type": "code",
   "execution_count": 3,
   "id": "d207557d",
   "metadata": {},
   "outputs": [
    {
     "data": {
      "text/plain": [
       "24.6     148\n",
       "24.2     139\n",
       "24.3     122\n",
       "24.1     110\n",
       "24.5     108\n",
       "        ... \n",
       "26.69      1\n",
       "26.71      1\n",
       "26.72      1\n",
       "26.88      1\n",
       "17.68      1\n",
       "Name: Température 1 (◦C), Length: 1010, dtype: int64"
      ]
     },
     "execution_count": 3,
     "metadata": {},
     "output_type": "execute_result"
    }
   ],
   "source": [
    "df_air['Température 1 (◦C)'].value_counts()"
   ]
  },
  {
   "cell_type": "code",
   "execution_count": 4,
   "id": "2f84b9a3",
   "metadata": {
    "scrolled": true
   },
   "outputs": [
    {
     "data": {
      "text/plain": [
       "Index(['Date', 'Température 1 (◦C)', 'Température 2 (◦C)',\n",
       "       'Température 3 (◦C)', 'Humidité 1 (%)', 'Humidité 2 (%)',\n",
       "       'Humidité 3 (%)', 'CO2 (ppm)', 'Unnamed: 8'],\n",
       "      dtype='object')"
      ]
     },
     "execution_count": 4,
     "metadata": {},
     "output_type": "execute_result"
    }
   ],
   "source": [
    "df_air.columns"
   ]
  },
  {
   "cell_type": "code",
   "execution_count": 5,
   "id": "ee4f595e",
   "metadata": {},
   "outputs": [],
   "source": [
    "df_g1 = pd.read_csv('../../raw_data/Gida Will --_ Water & Air Data  - Groupe 1 (Twr 1,2,3,4).csv', low_memory=False)\n",
    "df_g1.columns = df_g1.iloc[0] \n",
    "df_g1 = df_g1[1:]"
   ]
  },
  {
   "cell_type": "code",
   "execution_count": 6,
   "id": "9a5e07f7",
   "metadata": {},
   "outputs": [
    {
     "name": "stdout",
     "output_type": "stream",
     "text": [
      "Index([                  'Date',       'nutriments (S21)',\n",
      "                     'Avg. E.C',       'Water Temp (S22)',\n",
      "               'Avg. TEMP (°F)',               'pH (S23)',\n",
      "                      'Avg. pH', 'twr  level (in \" S31) ',\n",
      "         'Avg. Tower Level (\")',           'Dissolved O2',\n",
      "                'Avg. DO (ppm)',        'Flowswitch (D1)',\n",
      "              'tower valv (R1)',        'tower pump (R2)',\n",
      "              'Lvl ntrlck (R3)',        'PRGHGHCOND (R4)',\n",
      "                   'Alarm (R5)',            'Manual (R6)',\n",
      "                  'Manual (R7)',            'Manual (R8)',\n",
      "               'PSC pump (A41)',           'nutA&B (A42)',\n",
      "               'pH- Pump (A43)',         'pH+ Pump (A44)',\n",
      "                            nan,                      nan,\n",
      "                            nan,                      nan,\n",
      "                            nan,                      nan,\n",
      "                            nan,                      nan],\n",
      "      dtype='object', name=0)\n",
      "\n",
      " length: 32\n",
      "29608\n"
     ]
    }
   ],
   "source": [
    "print(df_g1.columns)\n",
    "print(f'\\n length: {len(df_g1.columns)}')\n",
    "print(len(df_g1))"
   ]
  },
  {
   "cell_type": "code",
   "execution_count": 145,
   "id": "d829514a",
   "metadata": {},
   "outputs": [],
   "source": [
    "df_g2 = pd.read_csv('../../raw_data/Gida Will --_ Water & Air Data  - Groupe 2 (Twr 5,6,7,8).csv', low_memory=False)\n",
    "df_g2.columns = df_g2.iloc[0] \n",
    "df_g2 = df_g2[1:]"
   ]
  },
  {
   "cell_type": "code",
   "execution_count": 8,
   "id": "e9b77ccc",
   "metadata": {
    "scrolled": true
   },
   "outputs": [
    {
     "name": "stdout",
     "output_type": "stream",
     "text": [
      "Index([                  'Date',              'PSC (S11)',\n",
      "                     'Avg. PSC',       'nutriments (S21)',\n",
      "                     'Avg. E.C',       'Water Temp (S24)',\n",
      "               'Avg. TEMP (°F)',               'pH (S23)',\n",
      "                       'Avg pH', 'twr  level (in \" S31) ',\n",
      "         'Avg. Tower Level (\")',        'Flowswitch (D1)',\n",
      "              'tower valv (R1)',        'tower pump (R2)',\n",
      "              'Lvl ntrlck (R3)',        'PRGHGHCOND (R4)',\n",
      "                   'Alarm (R5)',            'Manual (R6)',\n",
      "                  'Manual (R7)',            'Manual (R8)',\n",
      "               'PSC pump (A41)',           'nutA&B (A42)',\n",
      "               'pH- Pump (A43)',         'pH+ Pump (A44)',\n",
      "                   'Off / On 1',             'Off / On 2',\n",
      "                   'Off / On 3',               'Comments',\n",
      "                            nan,                      nan,\n",
      "                            nan],\n",
      "      dtype='object', name=0)\n",
      "\n",
      " length: 31\n",
      "55066\n"
     ]
    }
   ],
   "source": [
    "print(df_g2.columns)\n",
    "print(f'\\n length: {len(df_g2.columns)}')\n",
    "print(len(df_g2))"
   ]
  },
  {
   "cell_type": "code",
   "execution_count": 9,
   "id": "ac2746ae",
   "metadata": {},
   "outputs": [
    {
     "data": {
      "text/plain": [
       "Off    48891\n",
       "On      2405\n",
       "Name: Lvl ntrlck (R3), dtype: int64"
      ]
     },
     "execution_count": 9,
     "metadata": {},
     "output_type": "execute_result"
    }
   ],
   "source": [
    "df_g2['Lvl ntrlck (R3)'].value_counts()"
   ]
  },
  {
   "cell_type": "code",
   "execution_count": 10,
   "id": "1218c9ed",
   "metadata": {},
   "outputs": [],
   "source": [
    "df_g56 = pd.read_csv('../../raw_data/Gida Will --_ Water & Air Data  - Group 5 & 6 (Twr 17 to 24).csv', low_memory=False)\n",
    "df_g56.columns = df_g56.iloc[0] \n",
    "df_g56 = df_g56[1:]"
   ]
  },
  {
   "cell_type": "code",
   "execution_count": 11,
   "id": "16777f82",
   "metadata": {
    "scrolled": true
   },
   "outputs": [
    {
     "name": "stdout",
     "output_type": "stream",
     "text": [
      "Index([            'Date',   'G6 nutAB (S11)',    'G6 temp (S12)',\n",
      "            'G6 Ph (S13)',    'G6 Temp (S14)',   'G5 nutAB (S21)',\n",
      "          'G5 temp (S22)',      'G5 Ph (S23)',    'G5 Temp (S24)',\n",
      "            'G6 dO (S31)',  'G6 TnkLVL (S32)',  'G5 TnkLVL (S33)',\n",
      "            'G5 dO (S34)',     'G6 Flow (D1)',     'G5 Flow (D2)',\n",
      "       'G6 tnkFEED (R11)',          '- (R12)', 'G5 TnkFEED (R13)',\n",
      "                '- (R14)',          '- (R21)',          '- (R22)',\n",
      "                '- (R23)',          '- (R24)', 'G6 Tnk PMP (R31)',\n",
      "                '- (R32)', 'G5 Tnk PMP (R33)',          '- (R34)',\n",
      "       'G6 nAB pmp (A41)', 'G6 Ph pump (A42)', 'G5 nAB pmp (A43)',\n",
      "       'G5 Ph pump (A44)',                nan],\n",
      "      dtype='object', name=0)\n",
      "\n",
      " length: 32\n",
      "131554\n"
     ]
    }
   ],
   "source": [
    "print(df_g56.columns)\n",
    "print(f'\\n length: {len(df_g56.columns)}')\n",
    "print(len(df_g56))"
   ]
  },
  {
   "cell_type": "code",
   "execution_count": 12,
   "id": "b801654e",
   "metadata": {},
   "outputs": [],
   "source": [
    "import re\n",
    "\n",
    "def key_cleaner(df):\n",
    "    cleaned_keys = []\n",
    "    keys = df.columns\n",
    "    for i in keys:\n",
    "        print(i[0])\n",
    "        cleaned_keys.append(i.strip().lower().replace(' ','_'))\n",
    "    return cleaned_keys"
   ]
  },
  {
   "cell_type": "code",
   "execution_count": 13,
   "id": "85c89249",
   "metadata": {},
   "outputs": [
    {
     "name": "stdout",
     "output_type": "stream",
     "text": [
      "/home/williamjwall/code/gidahusa/Aquaverti-Data-Analysis/notebooks\r\n"
     ]
    }
   ],
   "source": [
    "!pwd"
   ]
  },
  {
   "cell_type": "code",
   "execution_count": 14,
   "id": "5867e3b6",
   "metadata": {},
   "outputs": [],
   "source": [
    "# import pandas as pd\n",
    "# import glob\n",
    "# import os\n",
    "\n",
    "# path = r'../../raw_data'\n",
    "# all_files = glob.glob(os.path.join(path , \"*.csv\"))\n",
    "\n",
    "# lista = []\n",
    "\n",
    "# for filename in all_files:\n",
    "#     df = pd.read_csv(filename, index_col=None, header=0, low_memory=False)\n",
    "#     lista.append(df)\n",
    "\n",
    "# frame = pd.concat(lista, axis=0, ignore_index=True)"
   ]
  },
  {
   "cell_type": "code",
   "execution_count": 15,
   "id": "cfe0a781",
   "metadata": {},
   "outputs": [],
   "source": [
    "# frame.shape"
   ]
  },
  {
   "cell_type": "code",
   "execution_count": 553,
   "id": "4303e07a",
   "metadata": {},
   "outputs": [],
   "source": [
    "plant_health_df = pd.read_csv('../../raw_data/Copy of Copy of Trackers (2.0) - Plant health.csv')\n",
    "harvest_df = pd.read_csv('../../raw_data/Copy of Copy of Trackers (2.0) - Harvest.csv')"
   ]
  },
  {
   "cell_type": "code",
   "execution_count": 17,
   "id": "5d42291e",
   "metadata": {},
   "outputs": [],
   "source": [
    "# plant_health_df['Tower:'].value_counts().sort_values(ascending=False)"
   ]
  },
  {
   "cell_type": "code",
   "execution_count": 542,
   "id": "6b0582c7",
   "metadata": {},
   "outputs": [],
   "source": [
    "grouping_towers_dicta = {\"group 1\": [\"Tower 1\", \"Tower 2\",\"Tower 3\", \"Tower 4\"],\n",
    "                         \"group 2\": [\"Tower 5\", \"Tower 6\",\"Tower 7\", \"Tower 8\"],\n",
    "                         \"group 5/6\": [\"Tower 14\", \"Tower 15\",\"Tower 16\", \"Tower 17\", \"Tower 18\", \"Tower 19\",\"Tower 20\", \"Tower 21\", \"Tower 22\", \"Tower 23\",\"Tower 24\"],\n",
    "                         \"group other\": [\"Tower 9\", \"Tower 10\",\"Tower 11\", \"Tower 12\", \"Tower 13\"]}"
   ]
  },
  {
   "cell_type": "code",
   "execution_count": 557,
   "id": "cd33fed5",
   "metadata": {
    "scrolled": true
   },
   "outputs": [],
   "source": [
    "harvest_df[\"Tower location:\"].replace(grouping_towers_dicta[\"group 1\"], \"group 1\", inplace=True)"
   ]
  },
  {
   "cell_type": "code",
   "execution_count": 558,
   "id": "8e641b41",
   "metadata": {},
   "outputs": [],
   "source": [
    "harvest_df[\"Tower location:\"].replace(grouping_towers_dicta[\"group 2\"], \"group 2\", inplace=True)"
   ]
  },
  {
   "cell_type": "code",
   "execution_count": 559,
   "id": "7b0a37f8",
   "metadata": {},
   "outputs": [],
   "source": [
    "harvest_df[\"Tower location:\"].replace(grouping_towers_dicta[\"group 5/6\"], \"group 5/6\", inplace=True)"
   ]
  },
  {
   "cell_type": "code",
   "execution_count": 560,
   "id": "25339930",
   "metadata": {},
   "outputs": [],
   "source": [
    "harvest_df[\"Tower location:\"].replace(grouping_towers_dicta[\"group other\"], \"group other\", inplace=True)"
   ]
  },
  {
   "cell_type": "code",
   "execution_count": 561,
   "id": "f6ad376b",
   "metadata": {
    "scrolled": true
   },
   "outputs": [
    {
     "data": {
      "text/plain": [
       "group 1         2010\n",
       "group 2         1945\n",
       "group 5/6        539\n",
       "group other       78\n",
       "                   1\n",
       "Name: Tower location:, dtype: int64"
      ]
     },
     "execution_count": 561,
     "metadata": {},
     "output_type": "execute_result"
    }
   ],
   "source": [
    "harvest_df['Tower location:'].value_counts().sort_values(ascending=False)"
   ]
  },
  {
   "cell_type": "code",
   "execution_count": 562,
   "id": "a791f0e9",
   "metadata": {},
   "outputs": [],
   "source": [
    "group_1_harvest = harvest_df.groupby(\"Tower location:\").get_group('group 1')[['Harvest date:','Transplant date:','Level location:', 'Total floats harvested:', \"Product:\", 'Total weight for floats: (grams)', 'Avg weight per plant:']]"
   ]
  },
  {
   "cell_type": "code",
   "execution_count": 146,
   "id": "6cf25660",
   "metadata": {},
   "outputs": [],
   "source": [
    "df_g2['Date'] = pd.to_datetime(df_g2['Date'])"
   ]
  },
  {
   "cell_type": "code",
   "execution_count": 563,
   "id": "5fae9b2a",
   "metadata": {},
   "outputs": [
    {
     "data": {
      "text/html": [
       "<div>\n",
       "<style scoped>\n",
       "    .dataframe tbody tr th:only-of-type {\n",
       "        vertical-align: middle;\n",
       "    }\n",
       "\n",
       "    .dataframe tbody tr th {\n",
       "        vertical-align: top;\n",
       "    }\n",
       "\n",
       "    .dataframe thead th {\n",
       "        text-align: right;\n",
       "    }\n",
       "</style>\n",
       "<table border=\"1\" class=\"dataframe\">\n",
       "  <thead>\n",
       "    <tr style=\"text-align: right;\">\n",
       "      <th></th>\n",
       "      <th>Harvest date:</th>\n",
       "      <th>Transplant date:</th>\n",
       "      <th>Level location:</th>\n",
       "      <th>Total floats harvested:</th>\n",
       "      <th>Product:</th>\n",
       "      <th>Total weight for floats: (grams)</th>\n",
       "      <th>Avg weight per plant:</th>\n",
       "    </tr>\n",
       "  </thead>\n",
       "  <tbody>\n",
       "    <tr>\n",
       "      <th>29</th>\n",
       "      <td>11/30/2020</td>\n",
       "      <td>11/16/2020</td>\n",
       "      <td>Level 4</td>\n",
       "      <td>9</td>\n",
       "      <td>Romaine (Dragoon)</td>\n",
       "      <td>9334.0</td>\n",
       "      <td>14.40</td>\n",
       "    </tr>\n",
       "    <tr>\n",
       "      <th>32</th>\n",
       "      <td>12/1/2020</td>\n",
       "      <td>11/20/2020</td>\n",
       "      <td>Level 5</td>\n",
       "      <td>10</td>\n",
       "      <td>Romaine (Truchas)</td>\n",
       "      <td>5585.0</td>\n",
       "      <td>7.76</td>\n",
       "    </tr>\n",
       "  </tbody>\n",
       "</table>\n",
       "</div>"
      ],
      "text/plain": [
       "   Harvest date: Transplant date: Level location:  Total floats harvested:  \\\n",
       "29    11/30/2020       11/16/2020         Level 4                        9   \n",
       "32     12/1/2020       11/20/2020         Level 5                       10   \n",
       "\n",
       "             Product:  Total weight for floats: (grams)  Avg weight per plant:  \n",
       "29  Romaine (Dragoon)                            9334.0                  14.40  \n",
       "32  Romaine (Truchas)                            5585.0                   7.76  "
      ]
     },
     "execution_count": 563,
     "metadata": {},
     "output_type": "execute_result"
    }
   ],
   "source": [
    "group_1_harvest.head(2)"
   ]
  },
  {
   "cell_type": "code",
   "execution_count": 567,
   "id": "1ff93be6",
   "metadata": {},
   "outputs": [
    {
     "data": {
      "text/plain": [
       "Lettuce (Muir)            855\n",
       "Kale (Starbor)            501\n",
       "Romaine (Monte Carlo)     317\n",
       "Romaine (Dragoon)         209\n",
       "Arugula (Standard)         58\n",
       "Lettuce (Butterhead)       29\n",
       "Romaine (Truchas)          15\n",
       "Lettuce (Rouxai)           13\n",
       "Lettuce (Biondi)            4\n",
       "Arugula (Astro)             3\n",
       "Arugula (Sylvetta)          1\n",
       "Sorrel                      1\n",
       "Kale (Baby Kale)            1\n",
       "Romaine (Green Forest)      1\n",
       "Spinach (Perpetual)         1\n",
       "Lettuce (Tennis ball)       1\n",
       "Name: Product:, dtype: int64"
      ]
     },
     "execution_count": 567,
     "metadata": {},
     "output_type": "execute_result"
    }
   ],
   "source": [
    "group_1_harvest[\"Product:\"].value_counts()"
   ]
  },
  {
   "cell_type": "code",
   "execution_count": 570,
   "id": "47fcd0e8",
   "metadata": {},
   "outputs": [],
   "source": [
    "df_g1['Date'] = pd.to_datetime(df_g1['Date'])"
   ]
  },
  {
   "cell_type": "code",
   "execution_count": 568,
   "id": "735e03aa",
   "metadata": {},
   "outputs": [],
   "source": [
    "group_1_harvest['Harvest date:'] = pd.to_datetime(group_1_harvest['Harvest date:'])"
   ]
  },
  {
   "cell_type": "code",
   "execution_count": 569,
   "id": "d80c08f5",
   "metadata": {},
   "outputs": [],
   "source": [
    "group_1_harvest['Transplant date:'] = pd.to_datetime(group_1_harvest['Transplant date:'])"
   ]
  },
  {
   "cell_type": "code",
   "execution_count": 574,
   "id": "6dd16c86",
   "metadata": {},
   "outputs": [],
   "source": [
    "group_1_harvest_lettuceM = group_1_harvest.groupby(\"Product:\").get_group(\"Lettuce (Muir)\")"
   ]
  },
  {
   "cell_type": "code",
   "execution_count": 583,
   "id": "145d87d1",
   "metadata": {},
   "outputs": [],
   "source": [
    "def average_of_cycle(dfy, dfX):\n",
    "    lista = []\n",
    "    lista2 = []\n",
    "    for a, b in dfy[['Harvest date:', 'Transplant date:']].itertuples(index=False):\n",
    "        lista.append(dfX[(dfX['Date'] < a) & (dfX['Date'] > b)])\n",
    "    for i in lista:\n",
    "        i = i.dropna(axis=1)\n",
    "        i = i.set_index(i['Date'])\n",
    "        i = i[i.columns[1:]].apply(lambda x: pd.to_numeric(x, errors='coerce'))\n",
    "        df_mean = pd.DataFrame(i.select_dtypes(include=['float64','int64']).dropna(how='all', axis=1).mean()[:-10]).T\n",
    "        lista2.append(df_mean)\n",
    "    return lista2"
   ]
  },
  {
   "cell_type": "code",
   "execution_count": 584,
   "id": "dfcc167a",
   "metadata": {},
   "outputs": [],
   "source": [
    "avg_lista = average_of_cycle(group_1_harvest_lettuceM, df_g1)"
   ]
  },
  {
   "cell_type": "code",
   "execution_count": 606,
   "id": "24172b75",
   "metadata": {},
   "outputs": [
    {
     "data": {
      "text/plain": [
       "855"
      ]
     },
     "execution_count": 606,
     "metadata": {},
     "output_type": "execute_result"
    }
   ],
   "source": [
    "len(avg_lista)"
   ]
  },
  {
   "cell_type": "code",
   "execution_count": 627,
   "id": "5afd3d86",
   "metadata": {},
   "outputs": [
    {
     "data": {
      "text/plain": [
       "True"
      ]
     },
     "execution_count": 627,
     "metadata": {},
     "output_type": "execute_result"
    }
   ],
   "source": [
    "bool(len(avg_lista[800].iloc[0]))"
   ]
  },
  {
   "cell_type": "code",
   "execution_count": 630,
   "id": "a9c5ba19",
   "metadata": {},
   "outputs": [],
   "source": [
    "avg_lista_cleaned = []\n",
    "count = -1\n",
    "for i in avg_lista:\n",
    "    count += 1\n",
    "    if len(avg_lista[count].iloc[0]) >= 4:\n",
    "        avg_lista_cleaned.append(i)\n",
    "    else:\n",
    "        pass"
   ]
  },
  {
   "cell_type": "code",
   "execution_count": 632,
   "id": "da7edf92",
   "metadata": {},
   "outputs": [
    {
     "data": {
      "text/html": [
       "<div>\n",
       "<style scoped>\n",
       "    .dataframe tbody tr th:only-of-type {\n",
       "        vertical-align: middle;\n",
       "    }\n",
       "\n",
       "    .dataframe tbody tr th {\n",
       "        vertical-align: top;\n",
       "    }\n",
       "\n",
       "    .dataframe thead th {\n",
       "        text-align: right;\n",
       "    }\n",
       "</style>\n",
       "<table border=\"1\" class=\"dataframe\">\n",
       "  <thead>\n",
       "    <tr style=\"text-align: right;\">\n",
       "      <th></th>\n",
       "      <th>nutriments (S21)</th>\n",
       "      <th>Water Temp (S22)</th>\n",
       "      <th>pH (S23)</th>\n",
       "      <th>twr  level (in \" S31)</th>\n",
       "    </tr>\n",
       "  </thead>\n",
       "  <tbody>\n",
       "    <tr>\n",
       "      <th>0</th>\n",
       "      <td>1.164888</td>\n",
       "      <td>68.600471</td>\n",
       "      <td>6.307939</td>\n",
       "      <td>16.410777</td>\n",
       "    </tr>\n",
       "  </tbody>\n",
       "</table>\n",
       "</div>"
      ],
      "text/plain": [
       "0  nutriments (S21)  Water Temp (S22)  pH (S23)  twr  level (in \" S31) \n",
       "0          1.164888         68.600471  6.307939               16.410777"
      ]
     },
     "execution_count": 632,
     "metadata": {},
     "output_type": "execute_result"
    }
   ],
   "source": [
    "avg_lista_cleaned[0]"
   ]
  },
  {
   "cell_type": "code",
   "execution_count": 577,
   "id": "a0346884",
   "metadata": {
    "scrolled": true
   },
   "outputs": [
    {
     "ename": "InvalidIndexError",
     "evalue": "Reindexing only valid with uniquely valued Index objects",
     "output_type": "error",
     "traceback": [
      "\u001b[0;31m---------------------------------------------------------------------------\u001b[0m",
      "\u001b[0;31mInvalidIndexError\u001b[0m                         Traceback (most recent call last)",
      "Cell \u001b[0;32mIn[577], line 1\u001b[0m\n\u001b[0;32m----> 1\u001b[0m concat1_grp_1 \u001b[38;5;241m=\u001b[39m \u001b[43mpd\u001b[49m\u001b[38;5;241;43m.\u001b[39;49m\u001b[43mconcat\u001b[49m\u001b[43m(\u001b[49m\u001b[43mavg\u001b[49m\u001b[43m[\u001b[49m\u001b[38;5;241;43m0\u001b[39;49m\u001b[43m:\u001b[49m\u001b[38;5;241;43m1415\u001b[39;49m\u001b[43m]\u001b[49m\u001b[43m,\u001b[49m\u001b[43m \u001b[49m\u001b[43mjoin\u001b[49m\u001b[38;5;241;43m=\u001b[39;49m\u001b[38;5;124;43m'\u001b[39;49m\u001b[38;5;124;43mouter\u001b[39;49m\u001b[38;5;124;43m'\u001b[39;49m\u001b[43m)\u001b[49m\n",
      "File \u001b[0;32m~/.pyenv/versions/3.10.6/envs/aquaverti/lib/python3.10/site-packages/pandas/util/_decorators.py:331\u001b[0m, in \u001b[0;36mdeprecate_nonkeyword_arguments.<locals>.decorate.<locals>.wrapper\u001b[0;34m(*args, **kwargs)\u001b[0m\n\u001b[1;32m    325\u001b[0m \u001b[38;5;28;01mif\u001b[39;00m \u001b[38;5;28mlen\u001b[39m(args) \u001b[38;5;241m>\u001b[39m num_allow_args:\n\u001b[1;32m    326\u001b[0m     warnings\u001b[38;5;241m.\u001b[39mwarn(\n\u001b[1;32m    327\u001b[0m         msg\u001b[38;5;241m.\u001b[39mformat(arguments\u001b[38;5;241m=\u001b[39m_format_argument_list(allow_args)),\n\u001b[1;32m    328\u001b[0m         \u001b[38;5;167;01mFutureWarning\u001b[39;00m,\n\u001b[1;32m    329\u001b[0m         stacklevel\u001b[38;5;241m=\u001b[39mfind_stack_level(),\n\u001b[1;32m    330\u001b[0m     )\n\u001b[0;32m--> 331\u001b[0m \u001b[38;5;28;01mreturn\u001b[39;00m \u001b[43mfunc\u001b[49m\u001b[43m(\u001b[49m\u001b[38;5;241;43m*\u001b[39;49m\u001b[43margs\u001b[49m\u001b[43m,\u001b[49m\u001b[43m \u001b[49m\u001b[38;5;241;43m*\u001b[39;49m\u001b[38;5;241;43m*\u001b[39;49m\u001b[43mkwargs\u001b[49m\u001b[43m)\u001b[49m\n",
      "File \u001b[0;32m~/.pyenv/versions/3.10.6/envs/aquaverti/lib/python3.10/site-packages/pandas/core/reshape/concat.py:381\u001b[0m, in \u001b[0;36mconcat\u001b[0;34m(objs, axis, join, ignore_index, keys, levels, names, verify_integrity, sort, copy)\u001b[0m\n\u001b[1;32m    159\u001b[0m \u001b[38;5;124;03m\"\"\"\u001b[39;00m\n\u001b[1;32m    160\u001b[0m \u001b[38;5;124;03mConcatenate pandas objects along a particular axis.\u001b[39;00m\n\u001b[1;32m    161\u001b[0m \n\u001b[0;32m   (...)\u001b[0m\n\u001b[1;32m    366\u001b[0m \u001b[38;5;124;03m1   3   4\u001b[39;00m\n\u001b[1;32m    367\u001b[0m \u001b[38;5;124;03m\"\"\"\u001b[39;00m\n\u001b[1;32m    368\u001b[0m op \u001b[38;5;241m=\u001b[39m _Concatenator(\n\u001b[1;32m    369\u001b[0m     objs,\n\u001b[1;32m    370\u001b[0m     axis\u001b[38;5;241m=\u001b[39maxis,\n\u001b[0;32m   (...)\u001b[0m\n\u001b[1;32m    378\u001b[0m     sort\u001b[38;5;241m=\u001b[39msort,\n\u001b[1;32m    379\u001b[0m )\n\u001b[0;32m--> 381\u001b[0m \u001b[38;5;28;01mreturn\u001b[39;00m \u001b[43mop\u001b[49m\u001b[38;5;241;43m.\u001b[39;49m\u001b[43mget_result\u001b[49m\u001b[43m(\u001b[49m\u001b[43m)\u001b[49m\n",
      "File \u001b[0;32m~/.pyenv/versions/3.10.6/envs/aquaverti/lib/python3.10/site-packages/pandas/core/reshape/concat.py:612\u001b[0m, in \u001b[0;36m_Concatenator.get_result\u001b[0;34m(self)\u001b[0m\n\u001b[1;32m    610\u001b[0m         obj_labels \u001b[38;5;241m=\u001b[39m obj\u001b[38;5;241m.\u001b[39maxes[\u001b[38;5;241m1\u001b[39m \u001b[38;5;241m-\u001b[39m ax]\n\u001b[1;32m    611\u001b[0m         \u001b[38;5;28;01mif\u001b[39;00m \u001b[38;5;129;01mnot\u001b[39;00m new_labels\u001b[38;5;241m.\u001b[39mequals(obj_labels):\n\u001b[0;32m--> 612\u001b[0m             indexers[ax] \u001b[38;5;241m=\u001b[39m \u001b[43mobj_labels\u001b[49m\u001b[38;5;241;43m.\u001b[39;49m\u001b[43mget_indexer\u001b[49m\u001b[43m(\u001b[49m\u001b[43mnew_labels\u001b[49m\u001b[43m)\u001b[49m\n\u001b[1;32m    614\u001b[0m     mgrs_indexers\u001b[38;5;241m.\u001b[39mappend((obj\u001b[38;5;241m.\u001b[39m_mgr, indexers))\n\u001b[1;32m    616\u001b[0m new_data \u001b[38;5;241m=\u001b[39m concatenate_managers(\n\u001b[1;32m    617\u001b[0m     mgrs_indexers, \u001b[38;5;28mself\u001b[39m\u001b[38;5;241m.\u001b[39mnew_axes, concat_axis\u001b[38;5;241m=\u001b[39m\u001b[38;5;28mself\u001b[39m\u001b[38;5;241m.\u001b[39mbm_axis, copy\u001b[38;5;241m=\u001b[39m\u001b[38;5;28mself\u001b[39m\u001b[38;5;241m.\u001b[39mcopy\n\u001b[1;32m    618\u001b[0m )\n",
      "File \u001b[0;32m~/.pyenv/versions/3.10.6/envs/aquaverti/lib/python3.10/site-packages/pandas/core/indexes/base.py:3905\u001b[0m, in \u001b[0;36mIndex.get_indexer\u001b[0;34m(self, target, method, limit, tolerance)\u001b[0m\n\u001b[1;32m   3902\u001b[0m \u001b[38;5;28mself\u001b[39m\u001b[38;5;241m.\u001b[39m_check_indexing_method(method, limit, tolerance)\n\u001b[1;32m   3904\u001b[0m \u001b[38;5;28;01mif\u001b[39;00m \u001b[38;5;129;01mnot\u001b[39;00m \u001b[38;5;28mself\u001b[39m\u001b[38;5;241m.\u001b[39m_index_as_unique:\n\u001b[0;32m-> 3905\u001b[0m     \u001b[38;5;28;01mraise\u001b[39;00m InvalidIndexError(\u001b[38;5;28mself\u001b[39m\u001b[38;5;241m.\u001b[39m_requires_unique_msg)\n\u001b[1;32m   3907\u001b[0m \u001b[38;5;28;01mif\u001b[39;00m \u001b[38;5;28mlen\u001b[39m(target) \u001b[38;5;241m==\u001b[39m \u001b[38;5;241m0\u001b[39m:\n\u001b[1;32m   3908\u001b[0m     \u001b[38;5;28;01mreturn\u001b[39;00m np\u001b[38;5;241m.\u001b[39marray([], dtype\u001b[38;5;241m=\u001b[39mnp\u001b[38;5;241m.\u001b[39mintp)\n",
      "\u001b[0;31mInvalidIndexError\u001b[0m: Reindexing only valid with uniquely valued Index objects"
     ]
    }
   ],
   "source": [
    "concat1_grp_1 = pd.concat(avg[0:1415], join='outer')"
   ]
  },
  {
   "cell_type": "code",
   "execution_count": 347,
   "id": "52c1f83e",
   "metadata": {},
   "outputs": [],
   "source": [
    "lista45 = []\n",
    "for i in avg[1416:]:\n",
    "    lista45.append(pd.DataFrame(i.iloc[0][:7]).T)\n",
    "concat2_grp_1 = pd.concat(lista45).dropna(axis=0, how='all')"
   ]
  },
  {
   "cell_type": "code",
   "execution_count": 351,
   "id": "029ae14c",
   "metadata": {},
   "outputs": [],
   "source": [
    "g1_X = pd.concat([concat1_grp_1, concat2_grp_1])"
   ]
  },
  {
   "cell_type": "code",
   "execution_count": 355,
   "id": "d92a1096",
   "metadata": {
    "scrolled": true
   },
   "outputs": [
    {
     "data": {
      "text/plain": [
       "<AxesSubplot: xlabel='0', ylabel='0'>"
      ]
     },
     "execution_count": 355,
     "metadata": {},
     "output_type": "execute_result"
    },
    {
     "data": {
      "image/png": "[encoded data removed]",
      "text/plain": [
       "<Figure size 640x480 with 2 Axes>"
      ]
     },
     "metadata": {},
     "output_type": "display_data"
    }
   ],
   "source": [
    "sns.heatmap(g1_X.corr())"
   ]
  },
  {
   "cell_type": "code",
   "execution_count": 354,
   "id": "ff906bf5",
   "metadata": {
    "scrolled": false
   },
   "outputs": [
    {
     "data": {
      "text/html": [
       "<div>\n",
       "<style scoped>\n",
       "    .dataframe tbody tr th:only-of-type {\n",
       "        vertical-align: middle;\n",
       "    }\n",
       "\n",
       "    .dataframe tbody tr th {\n",
       "        vertical-align: top;\n",
       "    }\n",
       "\n",
       "    .dataframe thead th {\n",
       "        text-align: right;\n",
       "    }\n",
       "</style>\n",
       "<table border=\"1\" class=\"dataframe\">\n",
       "  <thead>\n",
       "    <tr style=\"text-align: right;\">\n",
       "      <th></th>\n",
       "      <th>count</th>\n",
       "      <th>mean</th>\n",
       "      <th>std</th>\n",
       "      <th>min</th>\n",
       "      <th>25%</th>\n",
       "      <th>50%</th>\n",
       "      <th>75%</th>\n",
       "      <th>max</th>\n",
       "    </tr>\n",
       "    <tr>\n",
       "      <th>0</th>\n",
       "      <th></th>\n",
       "      <th></th>\n",
       "      <th></th>\n",
       "      <th></th>\n",
       "      <th></th>\n",
       "      <th></th>\n",
       "      <th></th>\n",
       "      <th></th>\n",
       "    </tr>\n",
       "  </thead>\n",
       "  <tbody>\n",
       "    <tr>\n",
       "      <th>nutriments (S21)</th>\n",
       "      <td>1562.0</td>\n",
       "      <td>1.707931</td>\n",
       "      <td>0.115163</td>\n",
       "      <td>1.088238</td>\n",
       "      <td>1.692293</td>\n",
       "      <td>1.759751</td>\n",
       "      <td>1.770820</td>\n",
       "      <td>1.808333</td>\n",
       "    </tr>\n",
       "    <tr>\n",
       "      <th>Water Temp (S22)</th>\n",
       "      <td>1562.0</td>\n",
       "      <td>67.585130</td>\n",
       "      <td>6.687584</td>\n",
       "      <td>20.740119</td>\n",
       "      <td>67.821090</td>\n",
       "      <td>68.092354</td>\n",
       "      <td>68.780271</td>\n",
       "      <td>75.553086</td>\n",
       "    </tr>\n",
       "    <tr>\n",
       "      <th>pH (S23)</th>\n",
       "      <td>1562.0</td>\n",
       "      <td>5.798517</td>\n",
       "      <td>0.090974</td>\n",
       "      <td>5.425905</td>\n",
       "      <td>5.786778</td>\n",
       "      <td>5.805929</td>\n",
       "      <td>5.821048</td>\n",
       "      <td>6.094828</td>\n",
       "    </tr>\n",
       "    <tr>\n",
       "      <th>twr  level (in \" S31)</th>\n",
       "      <td>1562.0</td>\n",
       "      <td>14.360130</td>\n",
       "      <td>0.467965</td>\n",
       "      <td>13.161936</td>\n",
       "      <td>14.141271</td>\n",
       "      <td>14.192691</td>\n",
       "      <td>14.653274</td>\n",
       "      <td>15.362463</td>\n",
       "    </tr>\n",
       "    <tr>\n",
       "      <th>pH- Pump (A43)</th>\n",
       "      <td>979.0</td>\n",
       "      <td>24.639167</td>\n",
       "      <td>15.562826</td>\n",
       "      <td>8.697914</td>\n",
       "      <td>13.760603</td>\n",
       "      <td>18.714301</td>\n",
       "      <td>29.687885</td>\n",
       "      <td>71.591902</td>\n",
       "    </tr>\n",
       "    <tr>\n",
       "      <th>pH+ Pump (A44)</th>\n",
       "      <td>979.0</td>\n",
       "      <td>24.045308</td>\n",
       "      <td>14.337525</td>\n",
       "      <td>8.710428</td>\n",
       "      <td>13.759750</td>\n",
       "      <td>18.532604</td>\n",
       "      <td>29.711917</td>\n",
       "      <td>69.393129</td>\n",
       "    </tr>\n",
       "    <tr>\n",
       "      <th>Dissolved O2</th>\n",
       "      <td>1249.0</td>\n",
       "      <td>2.692788</td>\n",
       "      <td>1.728025</td>\n",
       "      <td>-0.930681</td>\n",
       "      <td>1.742407</td>\n",
       "      <td>3.165567</td>\n",
       "      <td>3.872714</td>\n",
       "      <td>5.403525</td>\n",
       "    </tr>\n",
       "  </tbody>\n",
       "</table>\n",
       "</div>"
      ],
      "text/plain": [
       "                         count       mean        std        min        25%  \\\n",
       "0                                                                            \n",
       "nutriments (S21)        1562.0   1.707931   0.115163   1.088238   1.692293   \n",
       "Water Temp (S22)        1562.0  67.585130   6.687584  20.740119  67.821090   \n",
       "pH (S23)                1562.0   5.798517   0.090974   5.425905   5.786778   \n",
       "twr  level (in \" S31)   1562.0  14.360130   0.467965  13.161936  14.141271   \n",
       "pH- Pump (A43)           979.0  24.639167  15.562826   8.697914  13.760603   \n",
       "pH+ Pump (A44)           979.0  24.045308  14.337525   8.710428  13.759750   \n",
       "Dissolved O2            1249.0   2.692788   1.728025  -0.930681   1.742407   \n",
       "\n",
       "                              50%        75%        max  \n",
       "0                                                        \n",
       "nutriments (S21)         1.759751   1.770820   1.808333  \n",
       "Water Temp (S22)        68.092354  68.780271  75.553086  \n",
       "pH (S23)                 5.805929   5.821048   6.094828  \n",
       "twr  level (in \" S31)   14.192691  14.653274  15.362463  \n",
       "pH- Pump (A43)          18.714301  29.687885  71.591902  \n",
       "pH+ Pump (A44)          18.532604  29.711917  69.393129  \n",
       "Dissolved O2             3.165567   3.872714   5.403525  "
      ]
     },
     "execution_count": 354,
     "metadata": {},
     "output_type": "execute_result"
    }
   ],
   "source": [
    "g1_X.describe().T"
   ]
  },
  {
   "cell_type": "code",
   "execution_count": 402,
   "id": "b61b678e",
   "metadata": {},
   "outputs": [],
   "source": [
    "dfXy_g1 = pd.concat([g1_X.reset_index(drop=True), group_1_harvest[436:].reset_index(drop=True)], axis=1)"
   ]
  },
  {
   "cell_type": "code",
   "execution_count": 442,
   "id": "9cf1d97b",
   "metadata": {},
   "outputs": [],
   "source": [
    "dfXy_g1.dropna(axis=0, thresh=10, inplace=True)"
   ]
  },
  {
   "cell_type": "code",
   "execution_count": 516,
   "id": "c37d6988",
   "metadata": {},
   "outputs": [],
   "source": [
    "g1_corr = dfXy_g1.drop(['Harvest date:', 'Transplant date:', 'Total floats harvested:','Total weight for floats: (grams)'], axis=1)"
   ]
  },
  {
   "cell_type": "code",
   "execution_count": 517,
   "id": "ee5e8d0b",
   "metadata": {},
   "outputs": [
    {
     "name": "stderr",
     "output_type": "stream",
     "text": [
      "/tmp/ipykernel_13778/3563354070.py:1: FutureWarning: The default value of numeric_only in DataFrame.corr is deprecated. In a future version, it will default to False. Select only valid columns or specify the value of numeric_only to silence this warning.\n",
      "  abs_corrsort = abs(g1_corr.corr()['Avg weight per plant:']).sort_values(ascending=False)[1:]\n"
     ]
    }
   ],
   "source": [
    "abs_corrsort = abs(g1_corr.corr()['Avg weight per plant:']).sort_values(ascending=False)[1:]"
   ]
  },
  {
   "cell_type": "code",
   "execution_count": 551,
   "id": "b27aae97",
   "metadata": {},
   "outputs": [
    {
     "data": {
      "image/png": "[encoded data removed]",
      "text/plain": [
       "<Figure size 640x480 with 1 Axes>"
      ]
     },
     "metadata": {},
     "output_type": "display_data"
    }
   ],
   "source": [
    "sns.barplot(x=abs_corrsort.values, \n",
    "            y=abs_corrsort.index, color='b').set(title='Absolute with weight');"
   ]
  },
  {
   "cell_type": "code",
   "execution_count": 477,
   "id": "8d668094",
   "metadata": {},
   "outputs": [],
   "source": [
    "X_g1 = dfXy_g1.drop(['Harvest date:', 'Transplant date:', 'Total floats harvested:','Total weight for floats: (grams)', 'Avg weight per plant:','pH- Pump (A43)', 'pH+ Pump (A44)'], axis=1)"
   ]
  },
  {
   "cell_type": "code",
   "execution_count": 478,
   "id": "0938fffb",
   "metadata": {},
   "outputs": [],
   "source": [
    "y_g1 = dfXy_g1[\"Avg weight per plant:\"]"
   ]
  },
  {
   "cell_type": "code",
   "execution_count": 485,
   "id": "ea0c0812",
   "metadata": {},
   "outputs": [],
   "source": [
    "X_train, X_test, y_train, y_test = train_test_split(X_g1, y_g1, test_size = 0.2)"
   ]
  },
  {
   "cell_type": "code",
   "execution_count": 486,
   "id": "c658bb34",
   "metadata": {
    "scrolled": true
   },
   "outputs": [],
   "source": [
    "#sns.pairplot(data=dfXy_g1.drop(['Harvest date:', 'Transplant date:', 'Total floats harvested:','Avg weight per plant:'], axis=1), kind='reg', diag_kind='hist', corner=True);"
   ]
  },
  {
   "cell_type": "code",
   "execution_count": 487,
   "id": "6ea01cec",
   "metadata": {},
   "outputs": [],
   "source": [
    "num_transformer = make_pipeline(SimpleImputer(), MinMaxScaler())\n",
    "num_col = make_column_selector(dtype_include=['float64'])\n",
    "\n",
    "cat_transformer = OneHotEncoder()\n",
    "cat_col = make_column_selector(dtype_include=['object','bool'])\n",
    "\n",
    "preproc = make_column_transformer(\n",
    "    (num_transformer, num_col),\n",
    "    (cat_transformer, cat_col),\n",
    "    remainder='passthrough')"
   ]
  },
  {
   "cell_type": "code",
   "execution_count": 488,
   "id": "9dca523a",
   "metadata": {},
   "outputs": [],
   "source": [
    "pipe_baseline = make_pipeline(preproc, LinearRegression())"
   ]
  },
  {
   "cell_type": "code",
   "execution_count": 489,
   "id": "af0a76ba",
   "metadata": {},
   "outputs": [],
   "source": [
    "pipe_baseline.fit(X_train, y_train)\n",
    "y_pred = pipe_baseline.predict(X_test)\n",
    "pipe_baseline_r2 = r2_score(y_test, y_pred)\n",
    "pipe_baseline_mae = mean_absolute_error(y_test, y_pred)\n",
    "pipe_baseline_mse = mean_squared_error(y_test, y_pred, squared=False)"
   ]
  },
  {
   "cell_type": "code",
   "execution_count": 490,
   "id": "5d872d03",
   "metadata": {
    "scrolled": true
   },
   "outputs": [
    {
     "name": "stdout",
     "output_type": "stream",
     "text": [
      "r2: 0.13152636731360268,\n",
      "mae: 6.145814696485624, \n",
      "mse: 7.454200072579534\n"
     ]
    }
   ],
   "source": [
    "print(f\"r2: {pipe_baseline_r2},\\nmae: {pipe_baseline_mae}, \\nmse: {pipe_baseline_mse}\")"
   ]
  },
  {
   "cell_type": "code",
   "execution_count": 527,
   "id": "6533b2f2",
   "metadata": {
    "scrolled": true
   },
   "outputs": [
    {
     "name": "stdout",
     "output_type": "stream",
     "text": [
      "                                                                                                                           \n",
      "Generation 1 - Current best internal CV score: 0.2146957843781998\n",
      "                                                                                                                           \n",
      "Generation 2 - Current best internal CV score: 0.2146957843781998\n",
      "                                                                                                                           \n",
      "Generation 3 - Current best internal CV score: 0.2171066159939147\n",
      "                                                                                                                           \n",
      "Generation 4 - Current best internal CV score: 0.21872932593625238\n",
      "                                                                                                                           \n",
      "Generation 5 - Current best internal CV score: 0.22143383475471853\n",
      "                                                                                                                           \n",
      "Generation 6 - Current best internal CV score: 0.22191518112484862\n",
      "                                                                                                                           \n",
      "Generation 7 - Current best internal CV score: 0.22191518112484862\n",
      "                                                                                                                           \n",
      "Generation 8 - Current best internal CV score: 0.22235012477609742\n",
      "                                                                                                                           \n",
      "Best pipeline: RandomForestRegressor(PolynomialFeatures(input_matrix, degree=2, include_bias=False, interaction_only=False), bootstrap=True, max_features=0.35000000000000003, min_samples_leaf=13, min_samples_split=9, n_estimators=100)\n",
      "0.0684261247107425\n"
     ]
    },
    {
     "name": "stderr",
     "output_type": "stream",
     "text": [
      "/home/williamjwall/.pyenv/versions/3.10.6/envs/aquaverti/lib/python3.10/site-packages/sklearn/metrics/_scorer.py:765: FutureWarning: sklearn.metrics.SCORERS is deprecated and will be removed in v1.3. Please use sklearn.metrics.get_scorer_names to get a list of available scorers and sklearn.metrics.get_metric to get scorer.\n",
      "  warnings.warn(\n"
     ]
    }
   ],
   "source": [
    "X_train_preproc = preproc.fit_transform(X_train)\n",
    "X_test_preproc = preproc.transform(X_test)\n",
    "tpot = TPOTRegressor(generations=8, population_size=20, verbosity=2, scoring='r2', n_jobs=-1, cv=5)\n",
    "tpot.fit(X_train_preproc, y_train)\n",
    "print(tpot.score(X_test_preproc, y_test))"
   ]
  },
  {
   "cell_type": "code",
   "execution_count": 528,
   "id": "ff16562f",
   "metadata": {},
   "outputs": [],
   "source": [
    "optimal_pipe = tpot.fitted_pipeline_"
   ]
  },
  {
   "cell_type": "code",
   "execution_count": 532,
   "id": "3a2c93b3",
   "metadata": {},
   "outputs": [],
   "source": [
    "grouping_towers_dicta = {\"group 1\": [\"Tower 1\", \"Tower 2\",\"Tower 3\", \"Tower 4\"],\n",
    "                         \"group 2\": [\"Tower 5\", \"Tower 6\",\"Tower 7\", \"Tower 8\"],\n",
    "                         \"group 5/6\": [\"Tower 14\", \"Tower 15\",\"Tower 16\", \"Tower 17\", \"Tower 18\", \"Tower 19\",\"Tower 20\", \"Tower 21\", \"Tower 22\", \"Tower 23\",\"Tower 24\"]}"
   ]
  },
  {
   "cell_type": "code",
   "execution_count": 533,
   "id": "d40d3886",
   "metadata": {},
   "outputs": [],
   "source": [
    "plant_health_df['Tower:'].replace(grouping_towers_dicta[\"group 1\"], \"group 1\", inplace=True)"
   ]
  },
  {
   "cell_type": "code",
   "execution_count": 537,
   "id": "b532fde1",
   "metadata": {},
   "outputs": [],
   "source": [
    "plant_health_df['Tower:'].replace(grouping_towers_dicta[\"group 2\"], \"group 2\", inplace=True)"
   ]
  },
  {
   "cell_type": "code",
   "execution_count": 535,
   "id": "f35f7c20",
   "metadata": {},
   "outputs": [],
   "source": [
    "plant_health_df['Tower:'].replace(grouping_towers_dicta[\"group 5/6\"], \"group 5/6\", inplace=True)"
   ]
  },
  {
   "cell_type": "code",
   "execution_count": 546,
   "id": "67c46dce",
   "metadata": {
    "scrolled": true
   },
   "outputs": [
    {
     "data": {
      "text/plain": [
       "Index(['Unique ID:', 'Harvest date:', 'Tower:', 'Level:', 'Harvested crop:',\n",
       "       'Crop age:', 'Average float weight:', 'Plant health issues:',\n",
       "       'Black heart level:', 'Black heart severity:', '# floats harvested:',\n",
       "       'Total plants lost:', 'Comments:', 'Average float weight: Post QC',\n",
       "       'QC Weight Lost:', 'Full floats tossed:', 'QC needed:',\n",
       "       '% of weight lost:', 'Plant Loss: Algae', 'Plant Loss: No growth',\n",
       "       'Plant Loss: Fallen on ground'],\n",
       "      dtype='object')"
      ]
     },
     "execution_count": 546,
     "metadata": {},
     "output_type": "execute_result"
    }
   ],
   "source": [
    "plant_health_df.keys()"
   ]
  },
  {
   "cell_type": "code",
   "execution_count": 548,
   "id": "af61d80e",
   "metadata": {},
   "outputs": [
    {
     "data": {
      "text/html": [
       "<div>\n",
       "<style scoped>\n",
       "    .dataframe tbody tr th:only-of-type {\n",
       "        vertical-align: middle;\n",
       "    }\n",
       "\n",
       "    .dataframe tbody tr th {\n",
       "        vertical-align: top;\n",
       "    }\n",
       "\n",
       "    .dataframe thead th {\n",
       "        text-align: right;\n",
       "    }\n",
       "</style>\n",
       "<table border=\"1\" class=\"dataframe\">\n",
       "  <thead>\n",
       "    <tr style=\"text-align: right;\">\n",
       "      <th></th>\n",
       "      <th>Harvest date:</th>\n",
       "      <th>Tower:</th>\n",
       "      <th>Level:</th>\n",
       "      <th>Plant health issues:</th>\n",
       "    </tr>\n",
       "  </thead>\n",
       "  <tbody>\n",
       "    <tr>\n",
       "      <th>0</th>\n",
       "      <td>9/23/2021</td>\n",
       "      <td>group 2</td>\n",
       "      <td>Level 6</td>\n",
       "      <td>Bugs</td>\n",
       "    </tr>\n",
       "    <tr>\n",
       "      <th>1</th>\n",
       "      <td>9/23/2021</td>\n",
       "      <td>group 1</td>\n",
       "      <td>Level 4</td>\n",
       "      <td>**Healthy crop**</td>\n",
       "    </tr>\n",
       "    <tr>\n",
       "      <th>2</th>\n",
       "      <td>9/23/2021</td>\n",
       "      <td>group 2</td>\n",
       "      <td>Level 7</td>\n",
       "      <td>Black hearts</td>\n",
       "    </tr>\n",
       "    <tr>\n",
       "      <th>3</th>\n",
       "      <td>9/23/2021</td>\n",
       "      <td>group 1</td>\n",
       "      <td>Level 2</td>\n",
       "      <td>Algae</td>\n",
       "    </tr>\n",
       "    <tr>\n",
       "      <th>4</th>\n",
       "      <td>9/23/2021</td>\n",
       "      <td>group 2</td>\n",
       "      <td>Level 4</td>\n",
       "      <td>Black hearts</td>\n",
       "    </tr>\n",
       "    <tr>\n",
       "      <th>...</th>\n",
       "      <td>...</td>\n",
       "      <td>...</td>\n",
       "      <td>...</td>\n",
       "      <td>...</td>\n",
       "    </tr>\n",
       "    <tr>\n",
       "      <th>2888</th>\n",
       "      <td>11/29/2022</td>\n",
       "      <td>group 5/6</td>\n",
       "      <td>Level 3</td>\n",
       "      <td>Root Health: ***Healthy*** , Plant Health: ***...</td>\n",
       "    </tr>\n",
       "    <tr>\n",
       "      <th>2889</th>\n",
       "      <td>11/29/2022</td>\n",
       "      <td>group 5/6</td>\n",
       "      <td>Level 4</td>\n",
       "      <td>Root Health: ***Healthy*** , Plant Health: Yel...</td>\n",
       "    </tr>\n",
       "    <tr>\n",
       "      <th>2890</th>\n",
       "      <td>11/29/2022</td>\n",
       "      <td>group 2</td>\n",
       "      <td>Level 1</td>\n",
       "      <td>Root Health: ***Healthy*** , Plant Health: Yel...</td>\n",
       "    </tr>\n",
       "    <tr>\n",
       "      <th>2891</th>\n",
       "      <td>11/29/2022</td>\n",
       "      <td>group 1</td>\n",
       "      <td>Level 7</td>\n",
       "      <td>Root Health: ***Healthy*** , Plant Health: ***...</td>\n",
       "    </tr>\n",
       "    <tr>\n",
       "      <th>2892</th>\n",
       "      <td>11/29/2022</td>\n",
       "      <td>group 1</td>\n",
       "      <td>Level 2</td>\n",
       "      <td>Root Health: ***Healthy*** , Plant Health: Yel...</td>\n",
       "    </tr>\n",
       "  </tbody>\n",
       "</table>\n",
       "<p>2893 rows × 4 columns</p>\n",
       "</div>"
      ],
      "text/plain": [
       "     Harvest date:     Tower:   Level:  \\\n",
       "0        9/23/2021    group 2  Level 6   \n",
       "1        9/23/2021    group 1  Level 4   \n",
       "2        9/23/2021    group 2  Level 7   \n",
       "3        9/23/2021    group 1  Level 2   \n",
       "4        9/23/2021    group 2  Level 4   \n",
       "...            ...        ...      ...   \n",
       "2888    11/29/2022  group 5/6  Level 3   \n",
       "2889    11/29/2022  group 5/6  Level 4   \n",
       "2890    11/29/2022    group 2  Level 1   \n",
       "2891    11/29/2022    group 1  Level 7   \n",
       "2892    11/29/2022    group 1  Level 2   \n",
       "\n",
       "                                   Plant health issues:  \n",
       "0                                                  Bugs  \n",
       "1                                      **Healthy crop**  \n",
       "2                                          Black hearts  \n",
       "3                                                 Algae  \n",
       "4                                          Black hearts  \n",
       "...                                                 ...  \n",
       "2888  Root Health: ***Healthy*** , Plant Health: ***...  \n",
       "2889  Root Health: ***Healthy*** , Plant Health: Yel...  \n",
       "2890  Root Health: ***Healthy*** , Plant Health: Yel...  \n",
       "2891  Root Health: ***Healthy*** , Plant Health: ***...  \n",
       "2892  Root Health: ***Healthy*** , Plant Health: Yel...  \n",
       "\n",
       "[2893 rows x 4 columns]"
      ]
     },
     "execution_count": 548,
     "metadata": {},
     "output_type": "execute_result"
    }
   ],
   "source": [
    "plant_health_df[['Harvest date:', 'Crop age:', 'Tower:', 'Level:', 'Plant health issues:' ]]"
   ]
  },
  {
   "cell_type": "code",
   "execution_count": 550,
   "id": "287be0a6",
   "metadata": {},
   "outputs": [
    {
     "data": {
      "text/html": [
       "<div>\n",
       "<style scoped>\n",
       "    .dataframe tbody tr th:only-of-type {\n",
       "        vertical-align: middle;\n",
       "    }\n",
       "\n",
       "    .dataframe tbody tr th {\n",
       "        vertical-align: top;\n",
       "    }\n",
       "\n",
       "    .dataframe thead th {\n",
       "        text-align: right;\n",
       "    }\n",
       "</style>\n",
       "<table border=\"1\" class=\"dataframe\">\n",
       "  <thead>\n",
       "    <tr style=\"text-align: right;\">\n",
       "      <th></th>\n",
       "      <th>Unique ID:</th>\n",
       "      <th>Harvest date:</th>\n",
       "      <th>Tower:</th>\n",
       "      <th>Level:</th>\n",
       "      <th>Harvested crop:</th>\n",
       "      <th>Crop age:</th>\n",
       "      <th>Average float weight:</th>\n",
       "      <th>Plant health issues:</th>\n",
       "      <th>Black heart level:</th>\n",
       "      <th>Black heart severity:</th>\n",
       "      <th>...</th>\n",
       "      <th>Total plants lost:</th>\n",
       "      <th>Comments:</th>\n",
       "      <th>Average float weight: Post QC</th>\n",
       "      <th>QC Weight Lost:</th>\n",
       "      <th>Full floats tossed:</th>\n",
       "      <th>QC needed:</th>\n",
       "      <th>% of weight lost:</th>\n",
       "      <th>Plant Loss: Algae</th>\n",
       "      <th>Plant Loss: No growth</th>\n",
       "      <th>Plant Loss: Fallen on ground</th>\n",
       "    </tr>\n",
       "  </thead>\n",
       "  <tbody>\n",
       "    <tr>\n",
       "      <th>0</th>\n",
       "      <td>9c9502b8</td>\n",
       "      <td>9/23/2021</td>\n",
       "      <td>group 2</td>\n",
       "      <td>Level 6</td>\n",
       "      <td>Kale (Starbor)</td>\n",
       "      <td>21.0</td>\n",
       "      <td>NaN</td>\n",
       "      <td>Bugs</td>\n",
       "      <td>NaN</td>\n",
       "      <td>NaN</td>\n",
       "      <td>...</td>\n",
       "      <td>3.0</td>\n",
       "      <td>NaN</td>\n",
       "      <td>NaN</td>\n",
       "      <td>NaN</td>\n",
       "      <td>NaN</td>\n",
       "      <td>NaN</td>\n",
       "      <td>NaN</td>\n",
       "      <td>NaN</td>\n",
       "      <td>NaN</td>\n",
       "      <td>NaN</td>\n",
       "    </tr>\n",
       "    <tr>\n",
       "      <th>1</th>\n",
       "      <td>068e4b0a</td>\n",
       "      <td>9/23/2021</td>\n",
       "      <td>group 1</td>\n",
       "      <td>Level 4</td>\n",
       "      <td>Kale (Starbor)</td>\n",
       "      <td>21.0</td>\n",
       "      <td>NaN</td>\n",
       "      <td>**Healthy crop**</td>\n",
       "      <td>NaN</td>\n",
       "      <td>NaN</td>\n",
       "      <td>...</td>\n",
       "      <td>1.0</td>\n",
       "      <td>NaN</td>\n",
       "      <td>NaN</td>\n",
       "      <td>NaN</td>\n",
       "      <td>NaN</td>\n",
       "      <td>NaN</td>\n",
       "      <td>NaN</td>\n",
       "      <td>NaN</td>\n",
       "      <td>NaN</td>\n",
       "      <td>NaN</td>\n",
       "    </tr>\n",
       "    <tr>\n",
       "      <th>2</th>\n",
       "      <td>6030bce2</td>\n",
       "      <td>9/23/2021</td>\n",
       "      <td>group 2</td>\n",
       "      <td>Level 7</td>\n",
       "      <td>Lettuce (Muir)</td>\n",
       "      <td>21.0</td>\n",
       "      <td>NaN</td>\n",
       "      <td>Black hearts</td>\n",
       "      <td>3 - Black hearts found on 50% to 75% of floats</td>\n",
       "      <td>Severe (over 50% of plant)</td>\n",
       "      <td>...</td>\n",
       "      <td>26.0</td>\n",
       "      <td>NaN</td>\n",
       "      <td>NaN</td>\n",
       "      <td>NaN</td>\n",
       "      <td>NaN</td>\n",
       "      <td>NaN</td>\n",
       "      <td>NaN</td>\n",
       "      <td>NaN</td>\n",
       "      <td>NaN</td>\n",
       "      <td>NaN</td>\n",
       "    </tr>\n",
       "    <tr>\n",
       "      <th>3</th>\n",
       "      <td>db73f246</td>\n",
       "      <td>9/23/2021</td>\n",
       "      <td>group 1</td>\n",
       "      <td>Level 2</td>\n",
       "      <td>Lettuce (Muir)</td>\n",
       "      <td>21.0</td>\n",
       "      <td>NaN</td>\n",
       "      <td>Algae</td>\n",
       "      <td>0 - No black hearts found during harvest</td>\n",
       "      <td>NaN</td>\n",
       "      <td>...</td>\n",
       "      <td>15.0</td>\n",
       "      <td>NaN</td>\n",
       "      <td>NaN</td>\n",
       "      <td>NaN</td>\n",
       "      <td>NaN</td>\n",
       "      <td>NaN</td>\n",
       "      <td>NaN</td>\n",
       "      <td>NaN</td>\n",
       "      <td>NaN</td>\n",
       "      <td>NaN</td>\n",
       "    </tr>\n",
       "    <tr>\n",
       "      <th>4</th>\n",
       "      <td>0efb020a</td>\n",
       "      <td>9/23/2021</td>\n",
       "      <td>group 2</td>\n",
       "      <td>Level 4</td>\n",
       "      <td>Lettuce (Muir)</td>\n",
       "      <td>21.0</td>\n",
       "      <td>NaN</td>\n",
       "      <td>Black hearts</td>\n",
       "      <td>1 - Black hearts found on 0% to 25% of floats</td>\n",
       "      <td>Minor (under 50% of plant)</td>\n",
       "      <td>...</td>\n",
       "      <td>4.0</td>\n",
       "      <td>NaN</td>\n",
       "      <td>NaN</td>\n",
       "      <td>NaN</td>\n",
       "      <td>NaN</td>\n",
       "      <td>NaN</td>\n",
       "      <td>NaN</td>\n",
       "      <td>NaN</td>\n",
       "      <td>NaN</td>\n",
       "      <td>NaN</td>\n",
       "    </tr>\n",
       "    <tr>\n",
       "      <th>...</th>\n",
       "      <td>...</td>\n",
       "      <td>...</td>\n",
       "      <td>...</td>\n",
       "      <td>...</td>\n",
       "      <td>...</td>\n",
       "      <td>...</td>\n",
       "      <td>...</td>\n",
       "      <td>...</td>\n",
       "      <td>...</td>\n",
       "      <td>...</td>\n",
       "      <td>...</td>\n",
       "      <td>...</td>\n",
       "      <td>...</td>\n",
       "      <td>...</td>\n",
       "      <td>...</td>\n",
       "      <td>...</td>\n",
       "      <td>...</td>\n",
       "      <td>...</td>\n",
       "      <td>...</td>\n",
       "      <td>...</td>\n",
       "      <td>...</td>\n",
       "    </tr>\n",
       "    <tr>\n",
       "      <th>2888</th>\n",
       "      <td>22355c3e</td>\n",
       "      <td>11/29/2022</td>\n",
       "      <td>group 5/6</td>\n",
       "      <td>Level 3</td>\n",
       "      <td>Kale (Black Magic)</td>\n",
       "      <td>22.0</td>\n",
       "      <td>956.90</td>\n",
       "      <td>Root Health: ***Healthy*** , Plant Health: ***...</td>\n",
       "      <td>NaN</td>\n",
       "      <td>NaN</td>\n",
       "      <td>...</td>\n",
       "      <td>NaN</td>\n",
       "      <td>NaN</td>\n",
       "      <td>NaN</td>\n",
       "      <td>956.90</td>\n",
       "      <td>0.0</td>\n",
       "      <td>No</td>\n",
       "      <td>0.0</td>\n",
       "      <td>NaN</td>\n",
       "      <td>NaN</td>\n",
       "      <td>NaN</td>\n",
       "    </tr>\n",
       "    <tr>\n",
       "      <th>2889</th>\n",
       "      <td>d9b3483b</td>\n",
       "      <td>11/29/2022</td>\n",
       "      <td>group 5/6</td>\n",
       "      <td>Level 4</td>\n",
       "      <td>Kale (Starbor)</td>\n",
       "      <td>21.0</td>\n",
       "      <td>922.22</td>\n",
       "      <td>Root Health: ***Healthy*** , Plant Health: Yel...</td>\n",
       "      <td>NaN</td>\n",
       "      <td>NaN</td>\n",
       "      <td>...</td>\n",
       "      <td>14.0</td>\n",
       "      <td>NaN</td>\n",
       "      <td>NaN</td>\n",
       "      <td>922.22</td>\n",
       "      <td>0.0</td>\n",
       "      <td>No</td>\n",
       "      <td>0.0</td>\n",
       "      <td>NaN</td>\n",
       "      <td>6.0</td>\n",
       "      <td>3.0</td>\n",
       "    </tr>\n",
       "    <tr>\n",
       "      <th>2890</th>\n",
       "      <td>8450297e</td>\n",
       "      <td>11/29/2022</td>\n",
       "      <td>group 2</td>\n",
       "      <td>Level 1</td>\n",
       "      <td>Romaine (Monte Carlo)</td>\n",
       "      <td>21.0</td>\n",
       "      <td>2550.81</td>\n",
       "      <td>Root Health: ***Healthy*** , Plant Health: Yel...</td>\n",
       "      <td>2 - Black hearts found on 25% to 50% of floats</td>\n",
       "      <td>Minor (under 50% of plant)</td>\n",
       "      <td>...</td>\n",
       "      <td>20.0</td>\n",
       "      <td>The post quality control weight was never subm...</td>\n",
       "      <td>NaN</td>\n",
       "      <td>2550.81</td>\n",
       "      <td>0.0</td>\n",
       "      <td>Yes</td>\n",
       "      <td>0.0</td>\n",
       "      <td>NaN</td>\n",
       "      <td>6.0</td>\n",
       "      <td>13.0</td>\n",
       "    </tr>\n",
       "    <tr>\n",
       "      <th>2891</th>\n",
       "      <td>5761dbf6</td>\n",
       "      <td>11/29/2022</td>\n",
       "      <td>group 1</td>\n",
       "      <td>Level 7</td>\n",
       "      <td>Lettuce (Muir)</td>\n",
       "      <td>21.0</td>\n",
       "      <td>2688.93</td>\n",
       "      <td>Root Health: ***Healthy*** , Plant Health: ***...</td>\n",
       "      <td>NaN</td>\n",
       "      <td>NaN</td>\n",
       "      <td>...</td>\n",
       "      <td>NaN</td>\n",
       "      <td>NaN</td>\n",
       "      <td>NaN</td>\n",
       "      <td>2688.93</td>\n",
       "      <td>0.0</td>\n",
       "      <td>No</td>\n",
       "      <td>0.0</td>\n",
       "      <td>NaN</td>\n",
       "      <td>NaN</td>\n",
       "      <td>NaN</td>\n",
       "    </tr>\n",
       "    <tr>\n",
       "      <th>2892</th>\n",
       "      <td>82728668</td>\n",
       "      <td>11/29/2022</td>\n",
       "      <td>group 1</td>\n",
       "      <td>Level 2</td>\n",
       "      <td>Lettuce (Muir)</td>\n",
       "      <td>21.0</td>\n",
       "      <td>2263.72</td>\n",
       "      <td>Root Health: ***Healthy*** , Plant Health: Yel...</td>\n",
       "      <td>NaN</td>\n",
       "      <td>NaN</td>\n",
       "      <td>...</td>\n",
       "      <td>4.0</td>\n",
       "      <td>NaN</td>\n",
       "      <td>NaN</td>\n",
       "      <td>2263.72</td>\n",
       "      <td>NaN</td>\n",
       "      <td>No</td>\n",
       "      <td>0.0</td>\n",
       "      <td>NaN</td>\n",
       "      <td>NaN</td>\n",
       "      <td>NaN</td>\n",
       "    </tr>\n",
       "  </tbody>\n",
       "</table>\n",
       "<p>2893 rows × 21 columns</p>\n",
       "</div>"
      ],
      "text/plain": [
       "     Unique ID: Harvest date:     Tower:   Level:        Harvested crop:  \\\n",
       "0      9c9502b8     9/23/2021    group 2  Level 6         Kale (Starbor)   \n",
       "1      068e4b0a     9/23/2021    group 1  Level 4         Kale (Starbor)   \n",
       "2      6030bce2     9/23/2021    group 2  Level 7         Lettuce (Muir)   \n",
       "3      db73f246     9/23/2021    group 1  Level 2         Lettuce (Muir)   \n",
       "4      0efb020a     9/23/2021    group 2  Level 4         Lettuce (Muir)   \n",
       "...         ...           ...        ...      ...                    ...   \n",
       "2888   22355c3e    11/29/2022  group 5/6  Level 3     Kale (Black Magic)   \n",
       "2889   d9b3483b    11/29/2022  group 5/6  Level 4         Kale (Starbor)   \n",
       "2890   8450297e    11/29/2022    group 2  Level 1  Romaine (Monte Carlo)   \n",
       "2891   5761dbf6    11/29/2022    group 1  Level 7         Lettuce (Muir)   \n",
       "2892   82728668    11/29/2022    group 1  Level 2         Lettuce (Muir)   \n",
       "\n",
       "      Crop age:  Average float weight:  \\\n",
       "0          21.0                    NaN   \n",
       "1          21.0                    NaN   \n",
       "2          21.0                    NaN   \n",
       "3          21.0                    NaN   \n",
       "4          21.0                    NaN   \n",
       "...         ...                    ...   \n",
       "2888       22.0                 956.90   \n",
       "2889       21.0                 922.22   \n",
       "2890       21.0                2550.81   \n",
       "2891       21.0                2688.93   \n",
       "2892       21.0                2263.72   \n",
       "\n",
       "                                   Plant health issues:  \\\n",
       "0                                                  Bugs   \n",
       "1                                      **Healthy crop**   \n",
       "2                                          Black hearts   \n",
       "3                                                 Algae   \n",
       "4                                          Black hearts   \n",
       "...                                                 ...   \n",
       "2888  Root Health: ***Healthy*** , Plant Health: ***...   \n",
       "2889  Root Health: ***Healthy*** , Plant Health: Yel...   \n",
       "2890  Root Health: ***Healthy*** , Plant Health: Yel...   \n",
       "2891  Root Health: ***Healthy*** , Plant Health: ***...   \n",
       "2892  Root Health: ***Healthy*** , Plant Health: Yel...   \n",
       "\n",
       "                                  Black heart level:  \\\n",
       "0                                                NaN   \n",
       "1                                                NaN   \n",
       "2     3 - Black hearts found on 50% to 75% of floats   \n",
       "3           0 - No black hearts found during harvest   \n",
       "4      1 - Black hearts found on 0% to 25% of floats   \n",
       "...                                              ...   \n",
       "2888                                             NaN   \n",
       "2889                                             NaN   \n",
       "2890  2 - Black hearts found on 25% to 50% of floats   \n",
       "2891                                             NaN   \n",
       "2892                                             NaN   \n",
       "\n",
       "           Black heart severity:  ...  Total plants lost:  \\\n",
       "0                            NaN  ...                 3.0   \n",
       "1                            NaN  ...                 1.0   \n",
       "2     Severe (over 50% of plant)  ...                26.0   \n",
       "3                            NaN  ...                15.0   \n",
       "4     Minor (under 50% of plant)  ...                 4.0   \n",
       "...                          ...  ...                 ...   \n",
       "2888                         NaN  ...                 NaN   \n",
       "2889                         NaN  ...                14.0   \n",
       "2890  Minor (under 50% of plant)  ...                20.0   \n",
       "2891                         NaN  ...                 NaN   \n",
       "2892                         NaN  ...                 4.0   \n",
       "\n",
       "                                              Comments:  \\\n",
       "0                                                   NaN   \n",
       "1                                                   NaN   \n",
       "2                                                   NaN   \n",
       "3                                                   NaN   \n",
       "4                                                   NaN   \n",
       "...                                                 ...   \n",
       "2888                                                NaN   \n",
       "2889                                                NaN   \n",
       "2890  The post quality control weight was never subm...   \n",
       "2891                                                NaN   \n",
       "2892                                                NaN   \n",
       "\n",
       "     Average float weight: Post QC  QC Weight Lost:  Full floats tossed:  \\\n",
       "0                              NaN              NaN                  NaN   \n",
       "1                              NaN              NaN                  NaN   \n",
       "2                              NaN              NaN                  NaN   \n",
       "3                              NaN              NaN                  NaN   \n",
       "4                              NaN              NaN                  NaN   \n",
       "...                            ...              ...                  ...   \n",
       "2888                           NaN           956.90                  0.0   \n",
       "2889                           NaN           922.22                  0.0   \n",
       "2890                           NaN          2550.81                  0.0   \n",
       "2891                           NaN          2688.93                  0.0   \n",
       "2892                           NaN          2263.72                  NaN   \n",
       "\n",
       "      QC needed: % of weight lost:  Plant Loss: Algae  Plant Loss: No growth  \\\n",
       "0            NaN               NaN                NaN                    NaN   \n",
       "1            NaN               NaN                NaN                    NaN   \n",
       "2            NaN               NaN                NaN                    NaN   \n",
       "3            NaN               NaN                NaN                    NaN   \n",
       "4            NaN               NaN                NaN                    NaN   \n",
       "...          ...               ...                ...                    ...   \n",
       "2888          No               0.0                NaN                    NaN   \n",
       "2889          No               0.0                NaN                    6.0   \n",
       "2890         Yes               0.0                NaN                    6.0   \n",
       "2891          No               0.0                NaN                    NaN   \n",
       "2892          No               0.0                NaN                    NaN   \n",
       "\n",
       "      Plant Loss: Fallen on ground  \n",
       "0                              NaN  \n",
       "1                              NaN  \n",
       "2                              NaN  \n",
       "3                              NaN  \n",
       "4                              NaN  \n",
       "...                            ...  \n",
       "2888                           NaN  \n",
       "2889                           3.0  \n",
       "2890                          13.0  \n",
       "2891                           NaN  \n",
       "2892                           NaN  \n",
       "\n",
       "[2893 rows x 21 columns]"
      ]
     },
     "execution_count": 550,
     "metadata": {},
     "output_type": "execute_result"
    }
   ],
   "source": [
    "plant_health_df"
   ]
  }
 ],
 "metadata": {
  "kernelspec": {
   "display_name": "Python 3 (ipykernel)",
   "language": "python",
   "name": "python3"
  },
  "language_info": {
   "codemirror_mode": {
    "name": "ipython",
    "version": 3
   },
   "file_extension": ".py",
   "mimetype": "text/x-python",
   "name": "python",
   "nbconvert_exporter": "python",
   "pygments_lexer": "ipython3",
   "version": "3.10.6"
  },
  "toc": {
   "base_numbering": 1,
   "nav_menu": {},
   "number_sections": true,
   "sideBar": true,
   "skip_h1_title": false,
   "title_cell": "Table of Contents",
   "title_sidebar": "Contents",
   "toc_cell": false,
   "toc_position": {},
   "toc_section_display": true,
   "toc_window_display": false
  }
 },
 "nbformat": 4,
 "nbformat_minor": 5
}
