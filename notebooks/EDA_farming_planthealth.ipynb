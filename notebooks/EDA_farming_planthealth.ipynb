{
 "cells": [
  {
   "cell_type": "code",
   "execution_count": 384,
   "id": "88c0f4c1",
   "metadata": {},
   "outputs": [],
   "source": [
    "import pandas as pd\n",
    "import numpy as np\n",
    "import seaborn as sns\n",
    "import matplotlib.pyplot as plt\n",
    "from sklearn.preprocessing import StandardScaler, MinMaxScaler, RobustScaler, OneHotEncoder\n",
    "from sklearn.impute import SimpleImputer\n",
    "from sklearn.model_selection import train_test_split\n",
    "from sklearn.pipeline import make_pipeline\n",
    "from sklearn.compose import make_column_selector, make_column_transformer\n",
    "from sklearn.linear_model import LinearRegression, LogisticRegression\n",
    "from sklearn.model_selection import learning_curve\n",
    "from sklearn.model_selection import cross_val_score\n",
    "from sklearn.metrics import r2_score,mean_absolute_error,mean_squared_error\n",
    "from tpot import TPOTClassifier\n",
    "import warnings"
   ]
  },
  {
   "cell_type": "code",
   "execution_count": 3,
   "id": "73080635",
   "metadata": {},
   "outputs": [],
   "source": [
    "df_air = pd.read_csv('../../raw_data/Gida Will --_ Water & Air Data  - Air Data.csv')"
   ]
  },
  {
   "cell_type": "code",
   "execution_count": 6,
   "id": "d207557d",
   "metadata": {},
   "outputs": [],
   "source": [
    "# df_air['Température 1 (◦C)'].value_counts()"
   ]
  },
  {
   "cell_type": "code",
   "execution_count": 401,
   "id": "2f84b9a3",
   "metadata": {
    "scrolled": true
   },
   "outputs": [
    {
     "data": {
      "text/html": [
       "<div>\n",
       "<style scoped>\n",
       "    .dataframe tbody tr th:only-of-type {\n",
       "        vertical-align: middle;\n",
       "    }\n",
       "\n",
       "    .dataframe tbody tr th {\n",
       "        vertical-align: top;\n",
       "    }\n",
       "\n",
       "    .dataframe thead th {\n",
       "        text-align: right;\n",
       "    }\n",
       "</style>\n",
       "<table border=\"1\" class=\"dataframe\">\n",
       "  <thead>\n",
       "    <tr style=\"text-align: right;\">\n",
       "      <th></th>\n",
       "      <th>Date</th>\n",
       "      <th>Température 1 (◦C)</th>\n",
       "      <th>Température 2 (◦C)</th>\n",
       "      <th>Température 3 (◦C)</th>\n",
       "      <th>Humidité 1 (%)</th>\n",
       "      <th>Humidité 2 (%)</th>\n",
       "      <th>Humidité 3 (%)</th>\n",
       "      <th>CO2 (ppm)</th>\n",
       "      <th>Unnamed: 8</th>\n",
       "    </tr>\n",
       "  </thead>\n",
       "  <tbody>\n",
       "    <tr>\n",
       "      <th>0</th>\n",
       "      <td>8/8/21 0:00</td>\n",
       "      <td>$24.10</td>\n",
       "      <td>23.3</td>\n",
       "      <td>24.7</td>\n",
       "      <td>80.0</td>\n",
       "      <td>80.0</td>\n",
       "      <td>79.0</td>\n",
       "      <td>-</td>\n",
       "      <td>NaN</td>\n",
       "    </tr>\n",
       "    <tr>\n",
       "      <th>1</th>\n",
       "      <td>8/8/21 0:30</td>\n",
       "      <td>24</td>\n",
       "      <td>23.2</td>\n",
       "      <td>24.6</td>\n",
       "      <td>80.0</td>\n",
       "      <td>80.0</td>\n",
       "      <td>79.0</td>\n",
       "      <td>-</td>\n",
       "      <td>NaN</td>\n",
       "    </tr>\n",
       "    <tr>\n",
       "      <th>2</th>\n",
       "      <td>8/8/21 1:00</td>\n",
       "      <td>23.9</td>\n",
       "      <td>23.1</td>\n",
       "      <td>24.5</td>\n",
       "      <td>80.0</td>\n",
       "      <td>80.0</td>\n",
       "      <td>78.0</td>\n",
       "      <td>-</td>\n",
       "      <td>NaN</td>\n",
       "    </tr>\n",
       "    <tr>\n",
       "      <th>3</th>\n",
       "      <td>8/8/21 1:30</td>\n",
       "      <td>23.9</td>\n",
       "      <td>23.1</td>\n",
       "      <td>24.5</td>\n",
       "      <td>80.0</td>\n",
       "      <td>80.0</td>\n",
       "      <td>78.0</td>\n",
       "      <td>-</td>\n",
       "      <td>NaN</td>\n",
       "    </tr>\n",
       "    <tr>\n",
       "      <th>4</th>\n",
       "      <td>8/8/21 2:00</td>\n",
       "      <td>23.8</td>\n",
       "      <td>23.0</td>\n",
       "      <td>24.5</td>\n",
       "      <td>79.0</td>\n",
       "      <td>79.0</td>\n",
       "      <td>78.0</td>\n",
       "      <td>-</td>\n",
       "      <td>NaN</td>\n",
       "    </tr>\n",
       "    <tr>\n",
       "      <th>...</th>\n",
       "      <td>...</td>\n",
       "      <td>...</td>\n",
       "      <td>...</td>\n",
       "      <td>...</td>\n",
       "      <td>...</td>\n",
       "      <td>...</td>\n",
       "      <td>...</td>\n",
       "      <td>...</td>\n",
       "      <td>...</td>\n",
       "    </tr>\n",
       "    <tr>\n",
       "      <th>15713</th>\n",
       "      <td>30/9/22 21:30</td>\n",
       "      <td>24.65</td>\n",
       "      <td>23.9</td>\n",
       "      <td>24.6</td>\n",
       "      <td>63.0</td>\n",
       "      <td>67.0</td>\n",
       "      <td>66.0</td>\n",
       "      <td>1,349.90</td>\n",
       "      <td>NaN</td>\n",
       "    </tr>\n",
       "    <tr>\n",
       "      <th>15714</th>\n",
       "      <td>30/9/22 22:00</td>\n",
       "      <td>24.4</td>\n",
       "      <td>23.7</td>\n",
       "      <td>24.2</td>\n",
       "      <td>64.0</td>\n",
       "      <td>69.0</td>\n",
       "      <td>70.0</td>\n",
       "      <td>1,274.60</td>\n",
       "      <td>NaN</td>\n",
       "    </tr>\n",
       "    <tr>\n",
       "      <th>15715</th>\n",
       "      <td>30/9/22 22:30</td>\n",
       "      <td>23.38</td>\n",
       "      <td>23.8</td>\n",
       "      <td>24.6</td>\n",
       "      <td>64.0</td>\n",
       "      <td>66.0</td>\n",
       "      <td>66.0</td>\n",
       "      <td>1,280.40</td>\n",
       "      <td>NaN</td>\n",
       "    </tr>\n",
       "    <tr>\n",
       "      <th>15716</th>\n",
       "      <td>30/9/22 23:00</td>\n",
       "      <td>22.81</td>\n",
       "      <td>23.4</td>\n",
       "      <td>24.3</td>\n",
       "      <td>66.0</td>\n",
       "      <td>66.0</td>\n",
       "      <td>67.0</td>\n",
       "      <td>1,558.50</td>\n",
       "      <td>NaN</td>\n",
       "    </tr>\n",
       "    <tr>\n",
       "      <th>15717</th>\n",
       "      <td>30/9/22 23:30</td>\n",
       "      <td>22.76</td>\n",
       "      <td>23.5</td>\n",
       "      <td>24.5</td>\n",
       "      <td>66.0</td>\n",
       "      <td>67.0</td>\n",
       "      <td>66.0</td>\n",
       "      <td>1,523.80</td>\n",
       "      <td>NaN</td>\n",
       "    </tr>\n",
       "  </tbody>\n",
       "</table>\n",
       "<p>15718 rows × 9 columns</p>\n",
       "</div>"
      ],
      "text/plain": [
       "                Date Température 1 (◦C)  Température 2 (◦C)  \\\n",
       "0        8/8/21 0:00             $24.10                23.3   \n",
       "1        8/8/21 0:30                 24                23.2   \n",
       "2        8/8/21 1:00               23.9                23.1   \n",
       "3        8/8/21 1:30               23.9                23.1   \n",
       "4        8/8/21 2:00               23.8                23.0   \n",
       "...              ...                ...                 ...   \n",
       "15713  30/9/22 21:30              24.65                23.9   \n",
       "15714  30/9/22 22:00               24.4                23.7   \n",
       "15715  30/9/22 22:30              23.38                23.8   \n",
       "15716  30/9/22 23:00              22.81                23.4   \n",
       "15717  30/9/22 23:30              22.76                23.5   \n",
       "\n",
       "       Température 3 (◦C)  Humidité 1 (%)  Humidité 2 (%)  Humidité 3 (%)  \\\n",
       "0                    24.7            80.0            80.0            79.0   \n",
       "1                    24.6            80.0            80.0            79.0   \n",
       "2                    24.5            80.0            80.0            78.0   \n",
       "3                    24.5            80.0            80.0            78.0   \n",
       "4                    24.5            79.0            79.0            78.0   \n",
       "...                   ...             ...             ...             ...   \n",
       "15713                24.6            63.0            67.0            66.0   \n",
       "15714                24.2            64.0            69.0            70.0   \n",
       "15715                24.6            64.0            66.0            66.0   \n",
       "15716                24.3            66.0            66.0            67.0   \n",
       "15717                24.5            66.0            67.0            66.0   \n",
       "\n",
       "      CO2 (ppm) Unnamed: 8  \n",
       "0             -        NaN  \n",
       "1             -        NaN  \n",
       "2             -        NaN  \n",
       "3             -        NaN  \n",
       "4             -        NaN  \n",
       "...         ...        ...  \n",
       "15713  1,349.90        NaN  \n",
       "15714  1,274.60        NaN  \n",
       "15715  1,280.40        NaN  \n",
       "15716  1,558.50        NaN  \n",
       "15717  1,523.80        NaN  \n",
       "\n",
       "[15718 rows x 9 columns]"
      ]
     },
     "execution_count": 401,
     "metadata": {},
     "output_type": "execute_result"
    }
   ],
   "source": [
    "df_air"
   ]
  },
  {
   "cell_type": "code",
   "execution_count": 5,
   "id": "ee4f595e",
   "metadata": {},
   "outputs": [],
   "source": [
    "df_g1 = pd.read_csv('../../raw_data/Gida Will --_ Water & Air Data  - Groupe 1 (Twr 1,2,3,4).csv', low_memory=False)\n",
    "df_g1.columns = df_g1.iloc[0] \n",
    "df_g1 = df_g1[1:]"
   ]
  },
  {
   "cell_type": "code",
   "execution_count": 6,
   "id": "9a5e07f7",
   "metadata": {},
   "outputs": [
    {
     "name": "stdout",
     "output_type": "stream",
     "text": [
      "Index([                  'Date',       'nutriments (S21)',\n",
      "                     'Avg. E.C',       'Water Temp (S22)',\n",
      "               'Avg. TEMP (°F)',               'pH (S23)',\n",
      "                      'Avg. pH', 'twr  level (in \" S31) ',\n",
      "         'Avg. Tower Level (\")',           'Dissolved O2',\n",
      "                'Avg. DO (ppm)',        'Flowswitch (D1)',\n",
      "              'tower valv (R1)',        'tower pump (R2)',\n",
      "              'Lvl ntrlck (R3)',        'PRGHGHCOND (R4)',\n",
      "                   'Alarm (R5)',            'Manual (R6)',\n",
      "                  'Manual (R7)',            'Manual (R8)',\n",
      "               'PSC pump (A41)',           'nutA&B (A42)',\n",
      "               'pH- Pump (A43)',         'pH+ Pump (A44)',\n",
      "                            nan,                      nan,\n",
      "                            nan,                      nan,\n",
      "                            nan,                      nan,\n",
      "                            nan,                      nan],\n",
      "      dtype='object', name=0)\n",
      "\n",
      " length: 32\n",
      "29608\n"
     ]
    }
   ],
   "source": [
    "print(df_g1.columns)\n",
    "print(f'\\n length: {len(df_g1.columns)}')\n",
    "print(len(df_g1))"
   ]
  },
  {
   "cell_type": "code",
   "execution_count": 18,
   "id": "d829514a",
   "metadata": {},
   "outputs": [],
   "source": [
    "df_g2 = pd.read_csv('../../raw_data/Gida Will --_ Water & Air Data  - Groupe 2 (Twr 5,6,7,8).csv', low_memory=False)\n",
    "df_g2.columns = df_g2.iloc[0] \n",
    "df_g2 = df_g2[1:]"
   ]
  },
  {
   "cell_type": "code",
   "execution_count": 19,
   "id": "e9b77ccc",
   "metadata": {
    "scrolled": true
   },
   "outputs": [
    {
     "name": "stdout",
     "output_type": "stream",
     "text": [
      "Index([                  'Date',              'PSC (S11)',\n",
      "                     'Avg. PSC',       'nutriments (S21)',\n",
      "                     'Avg. E.C',       'Water Temp (S24)',\n",
      "               'Avg. TEMP (°F)',               'pH (S23)',\n",
      "                       'Avg pH', 'twr  level (in \" S31) ',\n",
      "         'Avg. Tower Level (\")',        'Flowswitch (D1)',\n",
      "              'tower valv (R1)',        'tower pump (R2)',\n",
      "              'Lvl ntrlck (R3)',        'PRGHGHCOND (R4)',\n",
      "                   'Alarm (R5)',            'Manual (R6)',\n",
      "                  'Manual (R7)',            'Manual (R8)',\n",
      "               'PSC pump (A41)',           'nutA&B (A42)',\n",
      "               'pH- Pump (A43)',         'pH+ Pump (A44)',\n",
      "                   'Off / On 1',             'Off / On 2',\n",
      "                   'Off / On 3',               'Comments',\n",
      "                            nan,                      nan,\n",
      "                            nan],\n",
      "      dtype='object', name=0)\n",
      "\n",
      " length: 31\n",
      "55066\n"
     ]
    }
   ],
   "source": [
    "print(df_g2.columns)\n",
    "print(f'\\n length: {len(df_g2.columns)}')\n",
    "print(len(df_g2))"
   ]
  },
  {
   "cell_type": "code",
   "execution_count": 20,
   "id": "ac2746ae",
   "metadata": {},
   "outputs": [
    {
     "data": {
      "text/plain": [
       "Off    48891\n",
       "On      2405\n",
       "Name: Lvl ntrlck (R3), dtype: int64"
      ]
     },
     "execution_count": 20,
     "metadata": {},
     "output_type": "execute_result"
    }
   ],
   "source": [
    "df_g2['Lvl ntrlck (R3)'].value_counts()"
   ]
  },
  {
   "cell_type": "code",
   "execution_count": 10,
   "id": "1218c9ed",
   "metadata": {},
   "outputs": [],
   "source": [
    "df_g56 = pd.read_csv('../../raw_data/Gida Will --_ Water & Air Data  - Group 5 & 6 (Twr 17 to 24).csv', low_memory=False)\n",
    "df_g56.columns = df_g56.iloc[0] \n",
    "df_g56 = df_g56[1:]"
   ]
  },
  {
   "cell_type": "code",
   "execution_count": 11,
   "id": "16777f82",
   "metadata": {
    "scrolled": true
   },
   "outputs": [
    {
     "name": "stdout",
     "output_type": "stream",
     "text": [
      "Index([            'Date',   'G6 nutAB (S11)',    'G6 temp (S12)',\n",
      "            'G6 Ph (S13)',    'G6 Temp (S14)',   'G5 nutAB (S21)',\n",
      "          'G5 temp (S22)',      'G5 Ph (S23)',    'G5 Temp (S24)',\n",
      "            'G6 dO (S31)',  'G6 TnkLVL (S32)',  'G5 TnkLVL (S33)',\n",
      "            'G5 dO (S34)',     'G6 Flow (D1)',     'G5 Flow (D2)',\n",
      "       'G6 tnkFEED (R11)',          '- (R12)', 'G5 TnkFEED (R13)',\n",
      "                '- (R14)',          '- (R21)',          '- (R22)',\n",
      "                '- (R23)',          '- (R24)', 'G6 Tnk PMP (R31)',\n",
      "                '- (R32)', 'G5 Tnk PMP (R33)',          '- (R34)',\n",
      "       'G6 nAB pmp (A41)', 'G6 Ph pump (A42)', 'G5 nAB pmp (A43)',\n",
      "       'G5 Ph pump (A44)',                nan],\n",
      "      dtype='object', name=0)\n",
      "\n",
      " length: 32\n",
      "131554\n"
     ]
    }
   ],
   "source": [
    "print(df_g56.columns)\n",
    "print(f'\\n length: {len(df_g56.columns)}')\n",
    "print(len(df_g56))"
   ]
  },
  {
   "cell_type": "code",
   "execution_count": 13,
   "id": "85c89249",
   "metadata": {},
   "outputs": [
    {
     "name": "stdout",
     "output_type": "stream",
     "text": [
      "/home/williamjwall/code/gidahusa/Aquaverti-Data-Analysis/notebooks\r\n"
     ]
    }
   ],
   "source": [
    "!pwd"
   ]
  },
  {
   "cell_type": "code",
   "execution_count": 381,
   "id": "4303e07a",
   "metadata": {},
   "outputs": [],
   "source": [
    "plant_health_df = pd.read_csv('../../raw_data/Copy of Copy of Trackers (2.0) - Plant health.csv')"
   ]
  },
  {
   "cell_type": "code",
   "execution_count": 17,
   "id": "5d42291e",
   "metadata": {},
   "outputs": [],
   "source": [
    "# plant_health_df['Tower:'].value_counts().sort_values(ascending=False)"
   ]
  },
  {
   "cell_type": "code",
   "execution_count": 542,
   "id": "6b0582c7",
   "metadata": {},
   "outputs": [],
   "source": [
    "grouping_towers_dicta = {\"group 1\": [\"Tower 1\", \"Tower 2\",\"Tower 3\", \"Tower 4\"],\n",
    "                         \"group 2\": [\"Tower 5\", \"Tower 6\",\"Tower 7\", \"Tower 8\"],\n",
    "                         \"group 5/6\": [\"Tower 14\", \"Tower 15\",\"Tower 16\", \"Tower 17\", \"Tower 18\", \"Tower 19\",\"Tower 20\", \"Tower 21\", \"Tower 22\", \"Tower 23\",\"Tower 24\"],\n",
    "                         \"group other\": [\"Tower 9\", \"Tower 10\",\"Tower 11\", \"Tower 12\", \"Tower 13\"]}"
   ]
  },
  {
   "cell_type": "code",
   "execution_count": 1008,
   "id": "4c5a548d",
   "metadata": {},
   "outputs": [
    {
     "data": {
      "text/html": [
       "<div>\n",
       "<style scoped>\n",
       "    .dataframe tbody tr th:only-of-type {\n",
       "        vertical-align: middle;\n",
       "    }\n",
       "\n",
       "    .dataframe tbody tr th {\n",
       "        vertical-align: top;\n",
       "    }\n",
       "\n",
       "    .dataframe thead th {\n",
       "        text-align: right;\n",
       "    }\n",
       "</style>\n",
       "<table border=\"1\" class=\"dataframe\">\n",
       "  <thead>\n",
       "    <tr style=\"text-align: right;\">\n",
       "      <th></th>\n",
       "      <th>count</th>\n",
       "      <th>mean</th>\n",
       "      <th>std</th>\n",
       "      <th>min</th>\n",
       "      <th>25%</th>\n",
       "      <th>50%</th>\n",
       "      <th>75%</th>\n",
       "      <th>max</th>\n",
       "    </tr>\n",
       "  </thead>\n",
       "  <tbody>\n",
       "    <tr>\n",
       "      <th>nutriments (S21)</th>\n",
       "      <td>689.0</td>\n",
       "      <td>1.763822</td>\n",
       "      <td>0.022512</td>\n",
       "      <td>1.670357</td>\n",
       "      <td>1.765005</td>\n",
       "      <td>1.768588</td>\n",
       "      <td>1.774002</td>\n",
       "      <td>1.782315</td>\n",
       "    </tr>\n",
       "    <tr>\n",
       "      <th>Water Temp (S22)</th>\n",
       "      <td>689.0</td>\n",
       "      <td>67.935208</td>\n",
       "      <td>0.289223</td>\n",
       "      <td>67.549057</td>\n",
       "      <td>67.705797</td>\n",
       "      <td>67.882065</td>\n",
       "      <td>68.092254</td>\n",
       "      <td>68.608343</td>\n",
       "    </tr>\n",
       "    <tr>\n",
       "      <th>pH (S23)</th>\n",
       "      <td>689.0</td>\n",
       "      <td>5.758834</td>\n",
       "      <td>0.111860</td>\n",
       "      <td>5.431346</td>\n",
       "      <td>5.787310</td>\n",
       "      <td>5.797845</td>\n",
       "      <td>5.809989</td>\n",
       "      <td>5.822409</td>\n",
       "    </tr>\n",
       "    <tr>\n",
       "      <th>twr  level (in \" S31)</th>\n",
       "      <td>689.0</td>\n",
       "      <td>14.139819</td>\n",
       "      <td>0.106425</td>\n",
       "      <td>13.869802</td>\n",
       "      <td>14.139552</td>\n",
       "      <td>14.165122</td>\n",
       "      <td>14.188717</td>\n",
       "      <td>14.339970</td>\n",
       "    </tr>\n",
       "    <tr>\n",
       "      <th>Dissolved O2</th>\n",
       "      <td>689.0</td>\n",
       "      <td>3.450353</td>\n",
       "      <td>0.805312</td>\n",
       "      <td>1.224324</td>\n",
       "      <td>3.093694</td>\n",
       "      <td>3.439135</td>\n",
       "      <td>3.912871</td>\n",
       "      <td>5.333069</td>\n",
       "    </tr>\n",
       "  </tbody>\n",
       "</table>\n",
       "</div>"
      ],
      "text/plain": [
       "                        count       mean       std        min        25%  \\\n",
       "nutriments (S21)        689.0   1.763822  0.022512   1.670357   1.765005   \n",
       "Water Temp (S22)        689.0  67.935208  0.289223  67.549057  67.705797   \n",
       "pH (S23)                689.0   5.758834  0.111860   5.431346   5.787310   \n",
       "twr  level (in \" S31)   689.0  14.139819  0.106425  13.869802  14.139552   \n",
       "Dissolved O2            689.0   3.450353  0.805312   1.224324   3.093694   \n",
       "\n",
       "                              50%        75%        max  \n",
       "nutriments (S21)         1.768588   1.774002   1.782315  \n",
       "Water Temp (S22)        67.882065  68.092254  68.608343  \n",
       "pH (S23)                 5.797845   5.809989   5.822409  \n",
       "twr  level (in \" S31)   14.165122  14.188717  14.339970  \n",
       "Dissolved O2             3.439135   3.912871   5.333069  "
      ]
     },
     "execution_count": 1008,
     "metadata": {},
     "output_type": "execute_result"
    }
   ],
   "source": [
    "X_g1.describe().T"
   ]
  },
  {
   "cell_type": "code",
   "execution_count": 265,
   "id": "dc24810f",
   "metadata": {},
   "outputs": [],
   "source": [
    "plant_health_df = plant_health_df[['Harvest date:', 'Crop age:','Harvested crop:','Average float weight:', 'Tower:', 'Level:', 'Plant health issues:', 'Black heart level:']]"
   ]
  },
  {
   "cell_type": "code",
   "execution_count": 49,
   "id": "3869d14e",
   "metadata": {
    "scrolled": false
   },
   "outputs": [
    {
     "data": {
      "text/plain": [
       "163"
      ]
     },
     "execution_count": 49,
     "metadata": {},
     "output_type": "execute_result"
    }
   ],
   "source": [
    "len(plant_health_df[\"Plant health issues:\"].value_counts())"
   ]
  },
  {
   "cell_type": "code",
   "execution_count": 29,
   "id": "c6140f88",
   "metadata": {},
   "outputs": [
    {
     "data": {
      "text/plain": [
       "164"
      ]
     },
     "execution_count": 29,
     "metadata": {},
     "output_type": "execute_result"
    }
   ],
   "source": [
    "plant_health_df[\"Average float weight:\"].isnull().sum()"
   ]
  },
  {
   "cell_type": "code",
   "execution_count": 73,
   "id": "500dee2f",
   "metadata": {},
   "outputs": [],
   "source": [
    "plant_health_df[\"Harvest date:\"] = pd.to_datetime(plant_health_df[\"Harvest date:\"])\n",
    "plant_health_df[\"Crop age:\"] = pd.to_timedelta(plant_health_df[\"Crop age:\"], unit='D')"
   ]
  },
  {
   "cell_type": "code",
   "execution_count": 75,
   "id": "3d5431b5",
   "metadata": {
    "scrolled": false
   },
   "outputs": [],
   "source": [
    "plant_health_df['Transplant date:'] = plant_health_df[\"Harvest date:\"] - pd.to_timedelta(plant_health_df[\"Crop age:\"], unit='D')"
   ]
  },
  {
   "cell_type": "code",
   "execution_count": 98,
   "id": "3e3b248a",
   "metadata": {},
   "outputs": [
    {
     "data": {
      "text/plain": [
       "group 1        1169\n",
       "group 2        1106\n",
       "group 5/6       538\n",
       "group other      78\n",
       "Name: Tower:, dtype: int64"
      ]
     },
     "execution_count": 98,
     "metadata": {},
     "output_type": "execute_result"
    }
   ],
   "source": [
    "plant_health_df['Tower:'].value_counts().sort_values(ascending=False)"
   ]
  },
  {
   "cell_type": "code",
   "execution_count": 89,
   "id": "1311a4e7",
   "metadata": {},
   "outputs": [],
   "source": [
    "plant_health_df_g2 = plant_health_df.groupby(\"Tower:\").get_group('group 2')"
   ]
  },
  {
   "cell_type": "code",
   "execution_count": 95,
   "id": "aa88f7c3",
   "metadata": {},
   "outputs": [
    {
     "data": {
      "text/plain": [
       "536"
      ]
     },
     "execution_count": 95,
     "metadata": {},
     "output_type": "execute_result"
    }
   ],
   "source": [
    "plant_health_df_g2['Black heart level:'].isnull().sum()"
   ]
  },
  {
   "cell_type": "code",
   "execution_count": 232,
   "id": "495708a8",
   "metadata": {},
   "outputs": [],
   "source": [
    "def average_of_cycle(dfy, dfX):\n",
    "    lista = []\n",
    "    lista2 = []\n",
    "    for a, b in dfy[['Harvest date:', 'Transplant date:']].itertuples(index=False):\n",
    "        lista.append(dfX[(dfX['Date'] < a) & (dfX['Date'] > b)])\n",
    "    for i in lista:\n",
    "        if len(i) != 0:\n",
    "            i = i.dropna(axis=1)\n",
    "            i = i.set_index(i['Date'])\n",
    "            i_date = pd.to_datetime(i['Date'].iloc[-1].strftime(\"%Y-%m-%d\"))\n",
    "            i = i[i.columns[1:]].apply(lambda x: pd.to_numeric(x, errors='coerce'))\n",
    "            df_mean = pd.DataFrame(i.select_dtypes(include=['float64','int64']).dropna(how='all', axis=1).mean()[:-4]).T\n",
    "            df_mean.at[0, \"index\"] = i_date\n",
    "            lista2.append(df_mean)\n",
    "        else:\n",
    "            pass\n",
    "    return lista2"
   ]
  },
  {
   "cell_type": "code",
   "execution_count": 233,
   "id": "f68a120f",
   "metadata": {},
   "outputs": [],
   "source": [
    "avg_lista = average_of_cycle(plant_health_df_g2, df_g2)"
   ]
  },
  {
   "cell_type": "code",
   "execution_count": 250,
   "id": "ac5557db",
   "metadata": {},
   "outputs": [
    {
     "data": {
      "text/html": [
       "<div>\n",
       "<style scoped>\n",
       "    .dataframe tbody tr th:only-of-type {\n",
       "        vertical-align: middle;\n",
       "    }\n",
       "\n",
       "    .dataframe tbody tr th {\n",
       "        vertical-align: top;\n",
       "    }\n",
       "\n",
       "    .dataframe thead th {\n",
       "        text-align: right;\n",
       "    }\n",
       "</style>\n",
       "<table border=\"1\" class=\"dataframe\">\n",
       "  <thead>\n",
       "    <tr style=\"text-align: right;\">\n",
       "      <th></th>\n",
       "      <th>nutriments (S21)</th>\n",
       "      <th>Water Temp (S24)</th>\n",
       "      <th>pH (S23)</th>\n",
       "      <th>twr  level (in \" S31)</th>\n",
       "      <th>index</th>\n",
       "    </tr>\n",
       "  </thead>\n",
       "  <tbody>\n",
       "    <tr>\n",
       "      <th>0</th>\n",
       "      <td>1.794549</td>\n",
       "      <td>69.449581</td>\n",
       "      <td>5.838281</td>\n",
       "      <td>14.045015</td>\n",
       "      <td>2021-09-22</td>\n",
       "    </tr>\n",
       "  </tbody>\n",
       "</table>\n",
       "</div>"
      ],
      "text/plain": [
       "0  nutriments (S21)  Water Temp (S24)  pH (S23)  twr  level (in \" S31)   \\\n",
       "0          1.794549         69.449581  5.838281               14.045015   \n",
       "\n",
       "0      index  \n",
       "0 2021-09-22  "
      ]
     },
     "execution_count": 250,
     "metadata": {},
     "output_type": "execute_result"
    }
   ],
   "source": [
    "avg_lista[0]"
   ]
  },
  {
   "cell_type": "code",
   "execution_count": 247,
   "id": "56880a95",
   "metadata": {},
   "outputs": [],
   "source": [
    "avg_lista_cleaned = []\n",
    "count = -1\n",
    "for i in avg_lista:\n",
    "    count += 1\n",
    "    if len(avg_lista[count].iloc[0]) == 6:\n",
    "        avg_lista_cleaned.append(i)\n",
    "    else:\n",
    "        pass"
   ]
  },
  {
   "cell_type": "code",
   "execution_count": 249,
   "id": "bed1584c",
   "metadata": {},
   "outputs": [
    {
     "data": {
      "text/html": [
       "<div>\n",
       "<style scoped>\n",
       "    .dataframe tbody tr th:only-of-type {\n",
       "        vertical-align: middle;\n",
       "    }\n",
       "\n",
       "    .dataframe tbody tr th {\n",
       "        vertical-align: top;\n",
       "    }\n",
       "\n",
       "    .dataframe thead th {\n",
       "        text-align: right;\n",
       "    }\n",
       "</style>\n",
       "<table border=\"1\" class=\"dataframe\">\n",
       "  <thead>\n",
       "    <tr style=\"text-align: right;\">\n",
       "      <th></th>\n",
       "      <th>nutriments (S21)</th>\n",
       "      <th>Water Temp (S24)</th>\n",
       "      <th>pH (S23)</th>\n",
       "      <th>twr  level (in \" S31)</th>\n",
       "      <th>PSC pump (A41)</th>\n",
       "      <th>index</th>\n",
       "    </tr>\n",
       "  </thead>\n",
       "  <tbody>\n",
       "    <tr>\n",
       "      <th>0</th>\n",
       "      <td>1.798798</td>\n",
       "      <td>71.531778</td>\n",
       "      <td>5.786415</td>\n",
       "      <td>14.173446</td>\n",
       "      <td>15.621277</td>\n",
       "      <td>2022-03-17</td>\n",
       "    </tr>\n",
       "  </tbody>\n",
       "</table>\n",
       "</div>"
      ],
      "text/plain": [
       "0  nutriments (S21)  Water Temp (S24)  pH (S23)  twr  level (in \" S31)   \\\n",
       "0          1.798798         71.531778  5.786415               14.173446   \n",
       "\n",
       "0  PSC pump (A41)      index  \n",
       "0       15.621277 2022-03-17  "
      ]
     },
     "execution_count": 249,
     "metadata": {},
     "output_type": "execute_result"
    }
   ],
   "source": [
    "avg_lista_cleaned[0]"
   ]
  },
  {
   "cell_type": "code",
   "execution_count": 287,
   "id": "2ad7b5f3",
   "metadata": {
    "scrolled": true
   },
   "outputs": [],
   "source": [
    "concat1_grp_1 = pd.concat(avg_lista_cleaned, join='outer')"
   ]
  },
  {
   "cell_type": "code",
   "execution_count": 288,
   "id": "e07fcc70",
   "metadata": {},
   "outputs": [],
   "source": [
    "concat1_grp_1.reset_index(inplace=True)\n",
    "concat1_grp_1.rename(columns = {'index':'Harvest date:'}, inplace=True)"
   ]
  },
  {
   "cell_type": "code",
   "execution_count": 289,
   "id": "4c540d58",
   "metadata": {},
   "outputs": [
    {
     "data": {
      "text/html": [
       "<div>\n",
       "<style scoped>\n",
       "    .dataframe tbody tr th:only-of-type {\n",
       "        vertical-align: middle;\n",
       "    }\n",
       "\n",
       "    .dataframe tbody tr th {\n",
       "        vertical-align: top;\n",
       "    }\n",
       "\n",
       "    .dataframe thead th {\n",
       "        text-align: right;\n",
       "    }\n",
       "</style>\n",
       "<table border=\"1\" class=\"dataframe\">\n",
       "  <thead>\n",
       "    <tr style=\"text-align: right;\">\n",
       "      <th></th>\n",
       "      <th>level_0</th>\n",
       "      <th>nutriments (S21)</th>\n",
       "      <th>Water Temp (S24)</th>\n",
       "      <th>pH (S23)</th>\n",
       "      <th>twr  level (in \" S31)</th>\n",
       "      <th>PSC pump (A41)</th>\n",
       "      <th>Harvest date:</th>\n",
       "    </tr>\n",
       "  </thead>\n",
       "  <tbody>\n",
       "    <tr>\n",
       "      <th>0</th>\n",
       "      <td>0</td>\n",
       "      <td>1.798798</td>\n",
       "      <td>71.531778</td>\n",
       "      <td>5.786415</td>\n",
       "      <td>14.173446</td>\n",
       "      <td>15.621277</td>\n",
       "      <td>2022-03-17</td>\n",
       "    </tr>\n",
       "  </tbody>\n",
       "</table>\n",
       "</div>"
      ],
      "text/plain": [
       "0  level_0  nutriments (S21)  Water Temp (S24)  pH (S23)  \\\n",
       "0        0          1.798798         71.531778  5.786415   \n",
       "\n",
       "0  twr  level (in \" S31)   PSC pump (A41) Harvest date:  \n",
       "0               14.173446       15.621277    2022-03-17  "
      ]
     },
     "execution_count": 289,
     "metadata": {},
     "output_type": "execute_result"
    }
   ],
   "source": [
    "concat1_grp_1.head(1)"
   ]
  },
  {
   "cell_type": "code",
   "execution_count": 268,
   "id": "b89492a7",
   "metadata": {},
   "outputs": [
    {
     "data": {
      "text/plain": [
       "Lettuce (Muir)           1009\n",
       "Kale (Starbor)            855\n",
       "Romaine (Monte Carlo)     829\n",
       "Lettuce (Butterhead)      135\n",
       "Arugula (Standard)         51\n",
       "Lettuce (Biondi)            5\n",
       "Romaine (Dragoon)           2\n",
       "Kale (Darkibor)             1\n",
       "Kale (Winterbor)            1\n",
       "Spinach (Perpetual)         1\n",
       "Lettuce (Tennis ball)       1\n",
       "Kale (Black Magic)          1\n",
       "Name: Harvested crop:, dtype: int64"
      ]
     },
     "execution_count": 268,
     "metadata": {},
     "output_type": "execute_result"
    }
   ],
   "source": [
    "plant_health_df['Harvested crop:'].value_counts()"
   ]
  },
  {
   "cell_type": "code",
   "execution_count": 278,
   "id": "45c784cd",
   "metadata": {},
   "outputs": [],
   "source": [
    "plant_health_df_g2_lettuce = plant_health_df_g2.groupby(\"Harvested crop:\").get_group(\"Lettuce (Muir)\")[['Harvest date:', 'Crop age:','Harvested crop:','Average float weight:', 'Tower:', 'Level:', 'Plant health issues:', 'Black heart level:']]"
   ]
  },
  {
   "cell_type": "code",
   "execution_count": 281,
   "id": "405ce3a7",
   "metadata": {},
   "outputs": [],
   "source": [
    "dfXy_g1 = pd.merge(concat1_grp_1, plant_health_df_g2_lettuce, how=\"inner\", on=[\"Harvest date:\"])"
   ]
  },
  {
   "cell_type": "code",
   "execution_count": 302,
   "id": "3486d5db",
   "metadata": {},
   "outputs": [
    {
     "data": {
      "text/plain": [
       "array(['**Healthy crop**', 'Black hearts', nan], dtype=object)"
      ]
     },
     "execution_count": 302,
     "metadata": {},
     "output_type": "execute_result"
    }
   ],
   "source": [
    "dfXy_g1['Plant health issues:'].unique()"
   ]
  },
  {
   "cell_type": "code",
   "execution_count": 307,
   "id": "008da40d",
   "metadata": {},
   "outputs": [],
   "source": [
    "dfXy_g1['Plant health issues:'].replace(\"**Healthy crop**\", \"healthy\", inplace=True)"
   ]
  },
  {
   "cell_type": "code",
   "execution_count": 308,
   "id": "1efa97fe",
   "metadata": {},
   "outputs": [],
   "source": [
    "dfXy_g1['Plant health issues:'].replace(\"Black hearts\", \"bad\", inplace=True)"
   ]
  },
  {
   "cell_type": "code",
   "execution_count": 336,
   "id": "c53a4e97",
   "metadata": {},
   "outputs": [],
   "source": [
    "dfXy_g1.dropna(inplace=True)"
   ]
  },
  {
   "cell_type": "code",
   "execution_count": 392,
   "id": "5a64ef33",
   "metadata": {},
   "outputs": [],
   "source": [
    "g1_corr = dfXy_g1[['nutriments (S21)', 'Water Temp (S24)', 'pH (S23)',\n",
    "       'twr  level (in \" S31) ', 'PSC pump (A41)', 'Plant health issues:']]"
   ]
  },
  {
   "cell_type": "code",
   "execution_count": 402,
   "id": "8f457ea5",
   "metadata": {
    "scrolled": true
   },
   "outputs": [],
   "source": [
    "# abs_corrsort = abs(g1_corr.corr()).sort_values(ascending=False)[1:]"
   ]
  },
  {
   "cell_type": "code",
   "execution_count": 391,
   "id": "74826d04",
   "metadata": {},
   "outputs": [
    {
     "data": {
      "image/png": "[encoded data removed]",
      "text/plain": [
       "<Figure size 1250x1250 with 20 Axes>"
      ]
     },
     "metadata": {},
     "output_type": "display_data"
    }
   ],
   "source": [
    "sns.pairplot(data=dfXy_g1[['nutriments (S21)', 'Water Temp (S24)', 'pH (S23)',\n",
    "       'twr  level (in \" S31) ', 'PSC pump (A41)', 'Plant health issues:']], kind='reg', diag_kind='hist', corner=True);"
   ]
  },
  {
   "cell_type": "code",
   "execution_count": 403,
   "id": "c20eaa8e",
   "metadata": {},
   "outputs": [],
   "source": [
    "X_g1 = dfXy_g1[['nutriments (S21)', 'Water Temp (S24)', 'pH (S23)',\n",
    "       'twr  level (in \" S31) ', 'PSC pump (A41)']]"
   ]
  },
  {
   "cell_type": "code",
   "execution_count": 404,
   "id": "6dc5859e",
   "metadata": {},
   "outputs": [],
   "source": [
    "y_g1 = dfXy_g1[['Plant health issues:']]"
   ]
  },
  {
   "cell_type": "code",
   "execution_count": 405,
   "id": "87e0fc21",
   "metadata": {},
   "outputs": [],
   "source": [
    "X_train, X_test, y_train, y_test = train_test_split(X_g1, y_g1, test_size = 0.2)"
   ]
  },
  {
   "cell_type": "code",
   "execution_count": 406,
   "id": "8ee47a0c",
   "metadata": {},
   "outputs": [],
   "source": [
    "num_transformer = make_pipeline( MinMaxScaler())\n",
    "num_col = make_column_selector(dtype_include=['float64'])\n",
    "\n",
    "cat_transformer = OneHotEncoder()\n",
    "cat_col = make_column_selector(dtype_include=['object','bool'])\n",
    "\n",
    "preproc = make_column_transformer(\n",
    "    (num_transformer, num_col),\n",
    "    (cat_transformer, cat_col),\n",
    "    remainder='passthrough')"
   ]
  },
  {
   "cell_type": "code",
   "execution_count": 407,
   "id": "ec198193",
   "metadata": {},
   "outputs": [],
   "source": [
    "pipe_baseline = make_pipeline(preproc, LogisticRegression())"
   ]
  },
  {
   "cell_type": "code",
   "execution_count": 408,
   "id": "281d3dd3",
   "metadata": {},
   "outputs": [
    {
     "name": "stderr",
     "output_type": "stream",
     "text": [
      "/home/williamjwall/.pyenv/versions/3.10.6/envs/aquaverti/lib/python3.10/site-packages/sklearn/utils/validation.py:1111: DataConversionWarning: A column-vector y was passed when a 1d array was expected. Please change the shape of y to (n_samples, ), for example using ravel().\n",
      "  y = column_or_1d(y, warn=True)\n"
     ]
    }
   ],
   "source": [
    "pipe_baseline.fit(X_train, y_train)\n",
    "y_pred = pipe_baseline.predict(X_test)"
   ]
  },
  {
   "cell_type": "code",
   "execution_count": 409,
   "id": "d8177ef5",
   "metadata": {},
   "outputs": [
    {
     "name": "stdout",
     "output_type": "stream",
     "text": [
      "Accuracy: 0.76\n"
     ]
    }
   ],
   "source": [
    "accuracy = accuracy_score(y_test, y_pred)\n",
    "# precision = precision_score(y_test, y_pred)\n",
    "# recall = recall_score(y_test, y_pred)\n",
    "# f1 = f1_score(y_test, y_pred)\n",
    "\n",
    "print(\"Accuracy: {:.2f}\".format(accuracy))\n",
    "# print(\"Precision: {:.2f}\".format(precision))\n",
    "# print(\"Recall: {:.2f}\".format(recall))\n",
    "# print(\"F1 score: {:.2f}\".format(f1))"
   ]
  },
  {
   "cell_type": "code",
   "execution_count": 413,
   "id": "32b3d7ca",
   "metadata": {},
   "outputs": [
    {
     "ename": "AttributeError",
     "evalue": "'Pipeline' object has no attribute 'coefs_'",
     "output_type": "error",
     "traceback": [
      "\u001b[0;31m---------------------------------------------------------------------------\u001b[0m",
      "\u001b[0;31mAttributeError\u001b[0m                            Traceback (most recent call last)",
      "Cell \u001b[0;32mIn[413], line 1\u001b[0m\n\u001b[0;32m----> 1\u001b[0m \u001b[43mpipe_baseline\u001b[49m\u001b[38;5;241;43m.\u001b[39;49m\u001b[43mcoefs_\u001b[49m\n",
      "\u001b[0;31mAttributeError\u001b[0m: 'Pipeline' object has no attribute 'coefs_'"
     ]
    }
   ],
   "source": [
    "pipe_baseline.coefs_"
   ]
  },
  {
   "cell_type": "code",
   "execution_count": null,
   "id": "c5d07a98",
   "metadata": {},
   "outputs": [],
   "source": []
  }
 ],
 "metadata": {
  "kernelspec": {
   "display_name": "Python 3 (ipykernel)",
   "language": "python",
   "name": "python3"
  },
  "language_info": {
   "codemirror_mode": {
    "name": "ipython",
    "version": 3
   },
   "file_extension": ".py",
   "mimetype": "text/x-python",
   "name": "python",
   "nbconvert_exporter": "python",
   "pygments_lexer": "ipython3",
   "version": "3.10.6"
  },
  "toc": {
   "base_numbering": 1,
   "nav_menu": {},
   "number_sections": true,
   "sideBar": true,
   "skip_h1_title": false,
   "title_cell": "Table of Contents",
   "title_sidebar": "Contents",
   "toc_cell": false,
   "toc_position": {},
   "toc_section_display": true,
   "toc_window_display": false
  }
 },
 "nbformat": 4,
 "nbformat_minor": 5
}
